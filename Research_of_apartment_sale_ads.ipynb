{
 "cells": [
  {
   "cell_type": "markdown",
   "metadata": {},
   "source": [
    "# Исследование объявлений о продаже квартир\n",
    "\n",
    "В вашем распоряжении данные сервиса Яндекс.Недвижимость — архив объявлений о продаже квартир в Санкт-Петербурге и соседних населённых пунктов за несколько лет. Нужно научиться определять рыночную стоимость объектов недвижимости. Ваша задача — установить параметры. Это позволит построить автоматизированную систему: она отследит аномалии и мошенническую деятельность. \n",
    "\n",
    "По каждой квартире на продажу доступны два вида данных. Первые вписаны пользователем, вторые — получены автоматически на основе картографических данных. Например, расстояние до центра, аэропорта, ближайшего парка и водоёма. "
   ]
  },
  {
   "cell_type": "markdown",
   "metadata": {},
   "source": [
    "# План проекта\n",
    "\n",
    "1. Загрузить данные из файла и получить информацию.\n",
    "2. Найти и изучить пропущенные значения в столбцах:\\\n",
    "    а) Определить в каких столбцах есть пропуски\\\n",
    "    б) Заполнить пропуски там, где это возможно\\\n",
    "    в) Указать причины, которые могли привести к пропускам в данных\n",
    "3. Рассмотреть типы данных в столбцах:\\\n",
    "    а) Найти столбцы, в которые нужно заменить тип данных\\\n",
    "    б) Преобразовать тип данных в столбцах\\\n",
    "    в) Объяснить причину изменения данных\n",
    "4. Изучить уникальные значения в столбце с названиями и устранить неявные дубликаты.\n",
    "5. Найти и устранить редкие значения:\\\n",
    "    а) Восстановить корректные значения там, где необходимо\\\n",
    "    б) Удалить выбивающиеся значения\\\n",
    "    в) Описать обнаруженные особенности в данных\n",
    "6. Добавить новые столбцы:\\\n",
    "    а) Цена одного квадрата\\\n",
    "    б) День недели публикации объявления (0-понедельник, вторник-1 и т.д.)\\\n",
    "    в) Месяц,год публикации объявления\\\n",
    "    г) Тип этажа квартиры (\"первый\", \"последний\", \"другой\")\\\n",
    "    д) Расстояние до центра города в километрах (округлить до целого числа)\n",
    "7. Провести исследовательский анализ и построить отдельные гистограммы для каждого из параметров.\n",
    "    1) Изучить параметры объектов:\n",
    "        а) общая площадь\n",
    "        б) жилая площадь\n",
    "        в) площадь кухни\n",
    "        г) цена объекта\n",
    "        д) кол-во комнат\n",
    "        е) высота потолков\n",
    "        ж) этаж квартиры\n",
    "        з) тип этажа квартиры\n",
    "        и) общее кол-во этажей\n",
    "        й) расстояние до центра города в м\n",
    "        к) расстояние до ближайшего аэропорта\n",
    "        л) расстояние до ближайшего парка\n",
    "        м) день и месяц публикации объявления\n",
    "8. Изучить, как быстро продавались квартиры (days_exposition):\n",
    "    1) Построить гистограмму\n",
    "    2) Посчитать среднее и медиану\n",
    "    3) Описать сколько времени обычно занимает продажа и какие продажи можно считать долгими\n",
    "9. Изучить влияние факторов на общую стоимость объекта и построить графики зависимости цены и фактора. Например, общая площадь, жилая площадь, площадь кухни, кол-во комнат, этажа, даты размещения объявления.\n",
    "10. Посчитать среднюю цену 1 кв.м. в населенных пунктах с наибольшим числом объявлений. Выделить населенные пункты с самой высокой и низкой стоимостью кв.м.\n",
    "11. Вычислить среднюю цену каждого километра от квартиры до центра города в Санкт-Петербурге.\n",
    "12. Описать полученные результаты и написать общий вывод."
   ]
  },
  {
   "cell_type": "markdown",
   "metadata": {},
   "source": [
    "### Открыть файл с данными и изучить общую информацию "
   ]
  },
  {
   "cell_type": "markdown",
   "metadata": {},
   "source": [
    "Открываем файл через путь: '/datasets/real_estate_data.csv' и выводим необходимую информацию через функции 'read_csv', 'data.info()', 'data.hist()'. При выгрузке данных используем дополнительный аргумент sep='\\t'(от англ. separate - разделять), чтобы придать таблице читабельный вид."
   ]
  },
  {
   "cell_type": "code",
   "execution_count": 1,
   "metadata": {},
   "outputs": [
    {
     "name": "stdout",
     "output_type": "stream",
     "text": [
      "<class 'pandas.core.frame.DataFrame'>\n",
      "RangeIndex: 23699 entries, 0 to 23698\n",
      "Data columns (total 22 columns):\n",
      " #   Column                Non-Null Count  Dtype  \n",
      "---  ------                --------------  -----  \n",
      " 0   total_images          23699 non-null  int64  \n",
      " 1   last_price            23699 non-null  float64\n",
      " 2   total_area            23699 non-null  float64\n",
      " 3   first_day_exposition  23699 non-null  object \n",
      " 4   rooms                 23699 non-null  int64  \n",
      " 5   ceiling_height        14504 non-null  float64\n",
      " 6   floors_total          23613 non-null  float64\n",
      " 7   living_area           21796 non-null  float64\n",
      " 8   floor                 23699 non-null  int64  \n",
      " 9   is_apartment          2775 non-null   object \n",
      " 10  studio                23699 non-null  bool   \n",
      " 11  open_plan             23699 non-null  bool   \n",
      " 12  kitchen_area          21421 non-null  float64\n",
      " 13  balcony               12180 non-null  float64\n",
      " 14  locality_name         23650 non-null  object \n",
      " 15  airports_nearest      18157 non-null  float64\n",
      " 16  cityCenters_nearest   18180 non-null  float64\n",
      " 17  parks_around3000      18181 non-null  float64\n",
      " 18  parks_nearest         8079 non-null   float64\n",
      " 19  ponds_around3000      18181 non-null  float64\n",
      " 20  ponds_nearest         9110 non-null   float64\n",
      " 21  days_exposition       20518 non-null  float64\n",
      "dtypes: bool(2), float64(14), int64(3), object(3)\n",
      "memory usage: 3.7+ MB\n",
      "   total_images  last_price  total_area first_day_exposition  rooms  \\\n",
      "0            20  13000000.0      108.00  2019-03-07T00:00:00      3   \n",
      "1             7   3350000.0       40.40  2018-12-04T00:00:00      1   \n",
      "2            10   5196000.0       56.00  2015-08-20T00:00:00      2   \n",
      "3             0  64900000.0      159.00  2015-07-24T00:00:00      3   \n",
      "4             2  10000000.0      100.00  2018-06-19T00:00:00      2   \n",
      "5            10   2890000.0       30.40  2018-09-10T00:00:00      1   \n",
      "6             6   3700000.0       37.30  2017-11-02T00:00:00      1   \n",
      "7             5   7915000.0       71.60  2019-04-18T00:00:00      2   \n",
      "8            20   2900000.0       33.16  2018-05-23T00:00:00      1   \n",
      "9            18   5400000.0       61.00  2017-02-26T00:00:00      3   \n",
      "\n",
      "   ceiling_height  floors_total  living_area  floor is_apartment  ...  \\\n",
      "0            2.70          16.0        51.00      8          NaN  ...   \n",
      "1             NaN          11.0        18.60      1          NaN  ...   \n",
      "2             NaN           5.0        34.30      4          NaN  ...   \n",
      "3             NaN          14.0          NaN      9          NaN  ...   \n",
      "4            3.03          14.0        32.00     13          NaN  ...   \n",
      "5             NaN          12.0        14.40      5          NaN  ...   \n",
      "6             NaN          26.0        10.60      6          NaN  ...   \n",
      "7             NaN          24.0          NaN     22          NaN  ...   \n",
      "8             NaN          27.0        15.43     26          NaN  ...   \n",
      "9            2.50           9.0        43.60      7          NaN  ...   \n",
      "\n",
      "   kitchen_area  balcony              locality_name  airports_nearest  \\\n",
      "0         25.00      NaN            Санкт-Петербург           18863.0   \n",
      "1         11.00      2.0             посёлок Шушары           12817.0   \n",
      "2          8.30      0.0            Санкт-Петербург           21741.0   \n",
      "3           NaN      0.0            Санкт-Петербург           28098.0   \n",
      "4         41.00      NaN            Санкт-Петербург           31856.0   \n",
      "5          9.10      NaN  городской посёлок Янино-1               NaN   \n",
      "6         14.40      1.0          посёлок Парголово           52996.0   \n",
      "7         18.90      2.0            Санкт-Петербург           23982.0   \n",
      "8          8.81      NaN             посёлок Мурино               NaN   \n",
      "9          6.50      2.0            Санкт-Петербург           50898.0   \n",
      "\n",
      "  cityCenters_nearest  parks_around3000  parks_nearest  ponds_around3000  \\\n",
      "0             16028.0               1.0          482.0               2.0   \n",
      "1             18603.0               0.0            NaN               0.0   \n",
      "2             13933.0               1.0           90.0               2.0   \n",
      "3              6800.0               2.0           84.0               3.0   \n",
      "4              8098.0               2.0          112.0               1.0   \n",
      "5                 NaN               NaN            NaN               NaN   \n",
      "6             19143.0               0.0            NaN               0.0   \n",
      "7             11634.0               0.0            NaN               0.0   \n",
      "8                 NaN               NaN            NaN               NaN   \n",
      "9             15008.0               0.0            NaN               0.0   \n",
      "\n",
      "   ponds_nearest  days_exposition  \n",
      "0          755.0              NaN  \n",
      "1            NaN             81.0  \n",
      "2          574.0            558.0  \n",
      "3          234.0            424.0  \n",
      "4           48.0            121.0  \n",
      "5            NaN             55.0  \n",
      "6            NaN            155.0  \n",
      "7            NaN              NaN  \n",
      "8            NaN            189.0  \n",
      "9            NaN            289.0  \n",
      "\n",
      "[10 rows x 22 columns]\n"
     ]
    },
    {
     "data": {
      "text/plain": [
       "23699"
      ]
     },
     "execution_count": 1,
     "metadata": {},
     "output_type": "execute_result"
    }
   ],
   "source": [
    "import pandas as pd\n",
    "import seaborn as sns #импортируем seaborn как sns для создания статистических графиков\n",
    "import matplotlib.pyplot as plt #импортируем matplotlib как plt для визуализации данных\n",
    "\n",
    "try:\n",
    "    data = pd.read_csv('/Users/losky/Downloads/real_estate_data.csv',sep='\\t')\n",
    "except FileNotFoundError:\n",
    "    data = pd.read_csv('/datasets/real_estate_data.csv',sep='\\t')\n",
    "\n",
    "data.info()\n",
    "print(data.head(10))\n",
    "data.shape[0]"
   ]
  },
  {
   "cell_type": "markdown",
   "metadata": {},
   "source": [
    "Построим для наглядности гистограммы для каждого числового столбца таблицы. Для этого вызовем функцию hist()."
   ]
  },
  {
   "cell_type": "code",
   "execution_count": 2,
   "metadata": {},
   "outputs": [
    {
     "data": {
      "image/png": "[encoded data removed]",
      "text/plain": [
       "<Figure size 1080x1440 with 20 Axes>"
      ]
     },
     "metadata": {
      "needs_background": "light"
     },
     "output_type": "display_data"
    }
   ],
   "source": [
    "data.hist(figsize=(15, 20));"
   ]
  },
  {
   "cell_type": "markdown",
   "metadata": {},
   "source": [
    "Из первичных данных удалось выяснить, что в данных присутствуют пропуски в данных, столбец \"cityCenters_nearest\" имеет верхний регистр, в некоторых столбцах неправильно использованный тип данных. Перейдем к предобработке данных, чтобы устранить все эти недочёты."
   ]
  },
  {
   "cell_type": "markdown",
   "metadata": {},
   "source": [
    "### Предобработка данных"
   ]
  },
  {
   "cell_type": "markdown",
   "metadata": {},
   "source": [
    "Переименуем столбцы и поменяем их местами по приоритетности информации, чтобы при первом взгляде на них было понятно, какие данные в нём содержатся и можно было просто ориентироваться:"
   ]
  },
  {
   "cell_type": "code",
   "execution_count": 3,
   "metadata": {},
   "outputs": [],
   "source": [
    "data = data[[\n",
    " 'locality_name',  \n",
    " 'total_area',\n",
    " 'living_area',\n",
    " 'kitchen_area',\n",
    " 'ceiling_height',\n",
    " 'rooms',\n",
    " 'balcony',\n",
    " 'floor',\n",
    " 'floors_total',\n",
    " 'is_apartment',\n",
    " 'studio',\n",
    " 'open_plan',  \n",
    " 'total_images',\n",
    " 'last_price',\n",
    " 'first_day_exposition',\n",
    " 'days_exposition',\n",
    " 'cityCenters_nearest',\n",
    " 'airports_nearest',\n",
    " 'parks_around3000',\n",
    " 'parks_nearest',\n",
    " 'ponds_around3000',\n",
    " 'ponds_nearest'\n",
    "]]"
   ]
  },
  {
   "cell_type": "code",
   "execution_count": 4,
   "metadata": {},
   "outputs": [],
   "source": [
    "colum= [\n",
    " 'locality_name',  \n",
    " 'total_area',\n",
    " 'living_area',\n",
    " 'kitchen_area',\n",
    " 'ceiling_height',\n",
    " 'rooms',\n",
    " 'balcony',\n",
    " 'floor',\n",
    " 'floors_total',\n",
    " 'is_apartment',\n",
    " 'studio',\n",
    " 'open_plan',  \n",
    " 'total_images',\n",
    " 'last_price',\n",
    " 'first_day_exposition',\n",
    " 'days_exposition',\n",
    " 'citycenter_m',\n",
    " 'airports_m',\n",
    " 'parks_3km',\n",
    " 'parks_nearest_m',\n",
    " 'ponds_3km',\n",
    " 'ponds_nearest_m'\n",
    "]\n",
    "data.set_axis(colum, axis='columns', inplace=True)"
   ]
  },
  {
   "cell_type": "markdown",
   "metadata": {},
   "source": [
    "Определим в каких столбцах присутствуют пустые значения. Вызовем функцию поиска isna() и суммируем их при помощи sum()."
   ]
  },
  {
   "cell_type": "code",
   "execution_count": 5,
   "metadata": {},
   "outputs": [
    {
     "data": {
      "text/plain": [
       "locality_name              49\n",
       "total_area                  0\n",
       "living_area              1903\n",
       "kitchen_area             2278\n",
       "ceiling_height           9195\n",
       "rooms                       0\n",
       "balcony                 11519\n",
       "floor                       0\n",
       "floors_total               86\n",
       "is_apartment            20924\n",
       "studio                      0\n",
       "open_plan                   0\n",
       "total_images                0\n",
       "last_price                  0\n",
       "first_day_exposition        0\n",
       "days_exposition          3181\n",
       "citycenter_m             5519\n",
       "airports_m               5542\n",
       "parks_3km                5518\n",
       "parks_nearest_m         15620\n",
       "ponds_3km                5518\n",
       "ponds_nearest_m         14589\n",
       "dtype: int64"
      ]
     },
     "execution_count": 5,
     "metadata": {},
     "output_type": "execute_result"
    }
   ],
   "source": [
    "data.isna().sum()"
   ]
  },
  {
   "cell_type": "markdown",
   "metadata": {},
   "source": [
    "В столбце 'ceiling_height' можно заметить потолки выше, чем 2,5 м, что говорит об аномальных значениях. Возможно при вводе высоты потолка произошла опечатка. Разделим значения выше 10 м на 10 и снова посмотрим на отклонения в данных."
   ]
  },
  {
   "cell_type": "code",
   "execution_count": 6,
   "metadata": {},
   "outputs": [
    {
     "data": {
      "text/plain": [
       "22869    100.0\n",
       "22336     32.0\n",
       "3148      32.0\n",
       "21377     27.5\n",
       "20478     27.0\n",
       "         ...  \n",
       "23687      NaN\n",
       "23690      NaN\n",
       "23692      NaN\n",
       "23695      NaN\n",
       "23696      NaN\n",
       "Name: ceiling_height, Length: 23699, dtype: float64"
      ]
     },
     "execution_count": 6,
     "metadata": {},
     "output_type": "execute_result"
    }
   ],
   "source": [
    "data['ceiling_height'].sort_values(ascending=False)"
   ]
  },
  {
   "cell_type": "code",
   "execution_count": 7,
   "metadata": {},
   "outputs": [
    {
     "data": {
      "text/plain": [
       "count    23699.000000\n",
       "mean         2.697798\n",
       "std          0.237643\n",
       "min          1.000000\n",
       "25%          2.600000\n",
       "50%          2.650000\n",
       "75%          2.700000\n",
       "max         10.000000\n",
       "Name: ceiling_height, dtype: float64"
      ]
     },
     "execution_count": 7,
     "metadata": {},
     "output_type": "execute_result"
    }
   ],
   "source": [
    "data.loc[(data['ceiling_height'] > 10), 'ceiling_height'] = data['ceiling_height'] / 10\n",
    "data['ceiling_height'].fillna(data['ceiling_height'].median(), inplace=True)\n",
    "data['ceiling_height'].isna().sum()\n",
    "data['ceiling_height'].describe()"
   ]
  },
  {
   "cell_type": "markdown",
   "metadata": {},
   "source": [
    "Большая часть столбцов в данных имеет нулевые значения. Теперь нужно определить причину появления Nan значений в данных и, где возможно, устранить их. Сразу заменим пустые значения в столбце \"balcony\" на 0."
   ]
  },
  {
   "cell_type": "code",
   "execution_count": 8,
   "metadata": {},
   "outputs": [],
   "source": [
    "data.loc[data['balcony'].isnull(), 'balcony'] = 0"
   ]
  },
  {
   "cell_type": "markdown",
   "metadata": {},
   "source": [
    "Удалим строки с этажностью дома, так как их удаление не повлечёт за собой нарушения структуры данных и результатов в целом."
   ]
  },
  {
   "cell_type": "code",
   "execution_count": 9,
   "metadata": {},
   "outputs": [],
   "source": [
    "data.drop(data[data['floors_total'].isnull()].index, inplace=True)"
   ]
  },
  {
   "cell_type": "markdown",
   "metadata": {},
   "source": [
    "Следующим шагом следует проверить столбец \"is_apartment\" и за одно кол-во комнат, так как возможно, что удаление данных может повлиять на данный столбец."
   ]
  },
  {
   "cell_type": "code",
   "execution_count": 10,
   "metadata": {},
   "outputs": [
    {
     "name": "stdout",
     "output_type": "stream",
     "text": [
      "1     8015\n",
      "2     7913\n",
      "3     5795\n",
      "4     1177\n",
      "5      325\n",
      "0      194\n",
      "6      104\n",
      "7       59\n",
      "8       12\n",
      "9        8\n",
      "10       3\n",
      "11       2\n",
      "14       2\n",
      "19       1\n",
      "16       1\n",
      "12       1\n",
      "15       1\n",
      "Name: rooms, dtype: int64\n"
     ]
    },
    {
     "data": {
      "text/plain": [
       "False    2725\n",
       "True       50\n",
       "Name: is_apartment, dtype: int64"
      ]
     },
     "execution_count": 10,
     "metadata": {},
     "output_type": "execute_result"
    }
   ],
   "source": [
    "print(data['rooms'].value_counts())\n",
    "data['is_apartment'].value_counts()"
   ]
  },
  {
   "cell_type": "markdown",
   "metadata": {},
   "source": [
    "Попробуем удалить квартиры с нулевым значением и посмотрим, повлияет ли это действие на кол-во апартаментов."
   ]
  },
  {
   "cell_type": "code",
   "execution_count": 11,
   "metadata": {},
   "outputs": [
    {
     "data": {
      "text/plain": [
       "False    2719\n",
       "True       50\n",
       "Name: is_apartment, dtype: int64"
      ]
     },
     "execution_count": 11,
     "metadata": {},
     "output_type": "execute_result"
    }
   ],
   "source": [
    "data.drop(data[data['rooms'] == 0].index,inplace=True)\n",
    "data['is_apartment'].value_counts()"
   ]
  },
  {
   "cell_type": "markdown",
   "metadata": {},
   "source": [
    "Количество аппартаментов не изменилось, значит их не затронуло удаление."
   ]
  },
  {
   "cell_type": "markdown",
   "metadata": {},
   "source": [
    "Также можно удалить строки в столбце 'locality_name', так как без населенного пункта данные становятся бесполезными для проведения аналитики:"
   ]
  },
  {
   "cell_type": "code",
   "execution_count": 12,
   "metadata": {},
   "outputs": [
    {
     "data": {
      "text/plain": [
       "0"
      ]
     },
     "execution_count": 12,
     "metadata": {},
     "output_type": "execute_result"
    }
   ],
   "source": [
    "data.drop(data[data['locality_name'].isna()].index, inplace=True)\n",
    "data['locality_name'].isna().sum()"
   ]
  },
  {
   "cell_type": "markdown",
   "metadata": {},
   "source": [
    "В столбце Nan значения изменим на 0 при помощи функции fillna():"
   ]
  },
  {
   "cell_type": "code",
   "execution_count": 13,
   "metadata": {},
   "outputs": [
    {
     "data": {
      "text/plain": [
       "0"
      ]
     },
     "execution_count": 13,
     "metadata": {},
     "output_type": "execute_result"
    }
   ],
   "source": [
    "data['is_apartment'] = data['is_apartment'].fillna(0)\n",
    "data['is_apartment'].isna().sum()"
   ]
  },
  {
   "cell_type": "code",
   "execution_count": 14,
   "metadata": {},
   "outputs": [
    {
     "data": {
      "text/html": [
       "<div>\n",
       "<style scoped>\n",
       "    .dataframe tbody tr th:only-of-type {\n",
       "        vertical-align: middle;\n",
       "    }\n",
       "\n",
       "    .dataframe tbody tr th {\n",
       "        vertical-align: top;\n",
       "    }\n",
       "\n",
       "    .dataframe thead th {\n",
       "        text-align: right;\n",
       "    }\n",
       "</style>\n",
       "<table border=\"1\" class=\"dataframe\">\n",
       "  <thead>\n",
       "    <tr style=\"text-align: right;\">\n",
       "      <th>first_day_year</th>\n",
       "      <th>2014</th>\n",
       "      <th>2015</th>\n",
       "      <th>2016</th>\n",
       "      <th>2017</th>\n",
       "      <th>2018</th>\n",
       "      <th>2019</th>\n",
       "    </tr>\n",
       "  </thead>\n",
       "  <tbody>\n",
       "    <tr>\n",
       "      <th>total_area</th>\n",
       "      <td>18</td>\n",
       "      <td>68</td>\n",
       "      <td>67</td>\n",
       "      <td>271</td>\n",
       "      <td>954</td>\n",
       "      <td>1779</td>\n",
       "    </tr>\n",
       "  </tbody>\n",
       "</table>\n",
       "</div>"
      ],
      "text/plain": [
       "first_day_year  2014  2015  2016  2017  2018  2019\n",
       "total_area        18    68    67   271   954  1779"
      ]
     },
     "execution_count": 14,
     "metadata": {},
     "output_type": "execute_result"
    }
   ],
   "source": [
    "import datetime as dt\n",
    "\n",
    "data['first_day_exposition'] = pd.to_datetime(data['first_day_exposition'], format='%Y-%m-%dT%H:%M:%S')\n",
    "data['first_day_year'] = data['first_day_exposition'].dt.year\n",
    "data[data['days_exposition'].isnull()].pivot_table(columns = 'first_day_year', values = 'total_area', aggfunc = 'count')"
   ]
  },
  {
   "cell_type": "markdown",
   "metadata": {},
   "source": [
    "Необходимо произвести замену пустых значений при помощи медианого значения там, где это возможно. Вызовем цикл for, чтобы заполнить пропуски в столбцах 'living_area' и 'kitchen_area':"
   ]
  },
  {
   "cell_type": "code",
   "execution_count": 15,
   "metadata": {},
   "outputs": [
    {
     "name": "stdout",
     "output_type": "stream",
     "text": [
      "Медианная площадь кухни: 9.1\n",
      "Медианная жилая площадь: 29.0\n",
      "Медианная общая площадь: 52.0\n"
     ]
    }
   ],
   "source": [
    "for rooms in data['rooms'].unique():\n",
    "    #заполним пропуски total_area:\n",
    "    data.loc[(data['total_area'].isna()) & (data['rooms'] == rooms), 'total_area'] = \\\n",
    "    data[data['rooms'] == rooms]['total_area'].median()\n",
    "\n",
    "living_area_ratio =\\\n",
    "data[data['rooms'] == rooms]['living_area'].median() / data[data['rooms'] == rooms]['total_area'].median()\n",
    "data.loc[data['living_area'].isna(), 'living_area'] = living_area_ratio * data['total_area']\n",
    "#заполняем пропуски в площади кухни (найдем соотношение медианной общей площади и медианной площади кухни, затем\n",
    "#отношение общей площади к найденному соотношению)\n",
    "kitchen_area_ratio =\\\n",
    "data[data['rooms'] == rooms]['kitchen_area'].median() / data[data['rooms'] == rooms]['total_area'].median()\n",
    "data.loc[data['kitchen_area'].isna(), 'living_area'] = kitchen_area_ratio * data['total_area']\n",
    "    \n",
    "print('Медианная площадь кухни:',data['kitchen_area'].median())\n",
    "print('Медианная жилая площадь:',data['living_area'].median())\n",
    "print('Медианная общая площадь:',data['total_area'].median())"
   ]
  },
  {
   "cell_type": "code",
   "execution_count": 16,
   "metadata": {},
   "outputs": [
    {
     "data": {
      "text/plain": [
       "<AxesSubplot:>"
      ]
     },
     "execution_count": 16,
     "metadata": {},
     "output_type": "execute_result"
    },
    {
     "data": {
      "image/png": "[encoded data removed]",
      "text/plain": [
       "<Figure size 432x288 with 1 Axes>"
      ]
     },
     "metadata": {
      "needs_background": "light"
     },
     "output_type": "display_data"
    }
   ],
   "source": [
    "data['living_area'].hist()"
   ]
  },
  {
   "cell_type": "code",
   "execution_count": 17,
   "metadata": {},
   "outputs": [
    {
     "data": {
      "text/plain": [
       "<AxesSubplot:>"
      ]
     },
     "execution_count": 17,
     "metadata": {},
     "output_type": "execute_result"
    },
    {
     "data": {
      "image/png": "[encoded data removed]",
      "text/plain": [
       "<Figure size 432x288 with 1 Axes>"
      ]
     },
     "metadata": {
      "needs_background": "light"
     },
     "output_type": "display_data"
    }
   ],
   "source": [
    "data['kitchen_area'].hist()"
   ]
  },
  {
   "cell_type": "markdown",
   "metadata": {},
   "source": [
    "Осталось только заменить типы данных в столбцах. Поменяем float на int там, где нет необходимости в указании дробной части."
   ]
  },
  {
   "cell_type": "code",
   "execution_count": 18,
   "metadata": {},
   "outputs": [],
   "source": [
    "data['balcony'] = data['balcony'].astype('int')\n",
    "data['floors_total'] = data['floors_total'].astype('int')\n",
    "data['last_price'] = data['last_price'].astype('int')"
   ]
  },
  {
   "cell_type": "markdown",
   "metadata": {},
   "source": [
    "Выясним наличие явных дубликатов в назвниях населенных пунктов, вызвав функцию поиска дубликатов:"
   ]
  },
  {
   "cell_type": "code",
   "execution_count": 19,
   "metadata": {},
   "outputs": [
    {
     "data": {
      "text/plain": [
       "Санкт-Петербург                     15542\n",
       "посёлок Мурино                        494\n",
       "посёлок Шушары                        435\n",
       "Всеволожск                            392\n",
       "Пушкин                                369\n",
       "                                    ...  \n",
       "садовое товарищество Новая Ропша        1\n",
       "деревня Пижма                           1\n",
       "поселок Семиозерье                      1\n",
       "посёлок Пансионат Зелёный Бор           1\n",
       "посёлок Шугозеро                        1\n",
       "Name: locality_name, Length: 362, dtype: int64"
      ]
     },
     "execution_count": 19,
     "metadata": {},
     "output_type": "execute_result"
    }
   ],
   "source": [
    "data.duplicated().sum()\n",
    "data['locality_name'].value_counts()"
   ]
  },
  {
   "cell_type": "markdown",
   "metadata": {},
   "source": [
    "Изменим регистр в столбце на нижний и обратимся к столбцу 'locality_name' через unique() и посмотрим наличие неявных дубликатов:"
   ]
  },
  {
   "cell_type": "code",
   "execution_count": 20,
   "metadata": {
    "scrolled": true
   },
   "outputs": [
    {
     "name": "stdout",
     "output_type": "stream",
     "text": [
      "['санкт-петербург' 'посёлок шушары' 'городской посёлок янино-1'\n",
      " 'посёлок парголово' 'посёлок мурино' 'ломоносов' 'сертолово' 'петергоф'\n",
      " 'пушкин' 'деревня кудрово' 'коммунар' 'колпино'\n",
      " 'поселок городского типа красный бор' 'гатчина' 'поселок мурино'\n",
      " 'деревня фёдоровское' 'выборг' 'кронштадт' 'кировск'\n",
      " 'деревня новое девяткино' 'посёлок металлострой'\n",
      " 'посёлок городского типа лебяжье' 'посёлок городского типа сиверский'\n",
      " 'поселок молодцово' 'поселок городского типа кузьмоловский'\n",
      " 'садовое товарищество новая ропша' 'павловск' 'деревня пикколово'\n",
      " 'всеволожск' 'волхов' 'кингисепп' 'приозерск' 'сестрорецк'\n",
      " 'деревня куттузи' 'посёлок аннино' 'поселок городского типа ефимовский'\n",
      " 'посёлок плодовое' 'деревня заклинье' 'поселок торковичи'\n",
      " 'поселок первомайское' 'красное село' 'посёлок понтонный' 'сясьстрой'\n",
      " 'деревня старая' 'деревня лесколово' 'посёлок новый свет' 'сланцы'\n",
      " 'село путилово' 'ивангород' 'мурино' 'шлиссельбург' 'никольское'\n",
      " 'зеленогорск' 'сосновый бор' 'поселок новый свет' 'деревня оржицы'\n",
      " 'деревня кальтино' 'кудрово' 'поселок романовка' 'посёлок бугры'\n",
      " 'поселок бугры' 'поселок городского типа рощино' 'кириши' 'луга'\n",
      " 'волосово' 'отрадное' 'село павлово' 'поселок оредеж' 'село копорье'\n",
      " 'посёлок городского типа красный бор' 'посёлок молодёжное' 'тихвин'\n",
      " 'посёлок победа' 'деревня нурма' 'поселок городского типа синявино'\n",
      " 'тосно' 'посёлок городского типа кузьмоловский' 'посёлок стрельна'\n",
      " 'бокситогорск' 'посёлок александровская' 'деревня лопухинка' 'пикалёво'\n",
      " 'поселок терволово' 'поселок городского типа советский' 'подпорожье'\n",
      " 'посёлок петровское' 'посёлок городского типа токсово' 'поселок сельцо'\n",
      " 'посёлок городского типа вырица' 'деревня кипень' 'деревня келози'\n",
      " 'деревня вартемяги' 'посёлок тельмана' 'поселок севастьяново'\n",
      " 'городской поселок большая ижора' 'городской посёлок павлово'\n",
      " 'деревня агалатово' 'посёлок новогорелово'\n",
      " 'городской посёлок лесогорский' 'деревня лаголово' 'поселок цвелодубово'\n",
      " 'поселок городского типа рахья' 'поселок городского типа вырица'\n",
      " 'деревня белогорка' 'поселок заводской' 'городской посёлок новоселье'\n",
      " 'деревня большие колпаны' 'деревня горбунки' 'деревня батово'\n",
      " 'деревня заневка' 'деревня иссад' 'приморск'\n",
      " 'городской посёлок фёдоровское' 'деревня мистолово' 'новая ладога'\n",
      " 'поселок зимитицы' 'поселок барышево' 'деревня разметелево'\n",
      " 'поселок городского типа имени свердлова' 'деревня пеники'\n",
      " 'поселок рябово' 'деревня пудомяги' 'деревня низино' 'деревня бегуницы'\n",
      " 'посёлок поляны' 'городской посёлок мга' 'поселок елизаветино'\n",
      " 'посёлок городского типа кузнечное' 'деревня колтуши'\n",
      " 'поселок запорожское' 'посёлок городского типа рощино'\n",
      " 'деревня гостилицы' 'деревня малое карлино' 'посёлок мичуринское'\n",
      " 'посёлок городского типа имени морозова' 'посёлок песочный'\n",
      " 'посёлок сосново' 'деревня аро' 'поселок ильичёво'\n",
      " 'посёлок городского типа тайцы' 'деревня малое верево' 'деревня извара'\n",
      " 'поселок станции вещево' 'село паша' 'деревня калитино'\n",
      " 'посёлок городского типа ульяновка' 'деревня чудской бор'\n",
      " 'поселок городского типа дубровка' 'деревня мины' 'поселок войсковицы'\n",
      " 'посёлок городского типа имени свердлова' 'деревня коркино'\n",
      " 'посёлок ропша' 'поселок городского типа приладожский' 'посёлок щеглово'\n",
      " 'посёлок гаврилово' 'лодейное поле' 'деревня рабитицы'\n",
      " 'поселок городского типа никольский' 'деревня кузьмолово'\n",
      " 'деревня малые колпаны' 'поселок тельмана' 'городской посёлок назия'\n",
      " 'посёлок репино' 'посёлок ильичёво' 'поселок углово'\n",
      " 'поселок старая малукса' 'садовое товарищество рахья' 'поселок аннино'\n",
      " 'поселок победа' 'деревня меньково' 'деревня старые бегуницы'\n",
      " 'посёлок сапёрный' 'поселок семрино' 'поселок гаврилово'\n",
      " 'поселок глажево' 'поселок кобринское' 'деревня гарболово' 'деревня юкки'\n",
      " 'поселок станции приветнинское' 'деревня мануйлово' 'деревня пчева'\n",
      " 'поселок поляны' 'поселок цвылёво' 'поселок мельниково' 'посёлок пудость'\n",
      " 'посёлок усть-луга' 'светогорск' 'любань' 'поселок селезнёво'\n",
      " 'поселок городского типа рябово' 'каменногорск' 'деревня кривко'\n",
      " 'поселок глебычево' 'деревня парицы' 'поселок жилпосёлок'\n",
      " 'посёлок городского типа мга' 'городской поселок янино-1'\n",
      " 'посёлок войскорово' 'село никольское' 'посёлок терволово'\n",
      " 'поселок стеклянный' 'посёлок городского типа важины'\n",
      " 'посёлок мыза-ивановка' 'село русско-высоцкое'\n",
      " 'поселок городского типа лебяжье' 'поселок городского типа форносово'\n",
      " 'село старая ладога' 'поселок житково' 'городской посёлок виллози'\n",
      " 'деревня лампово' 'деревня шпаньково' 'деревня лаврики' 'посёлок сумино'\n",
      " 'посёлок возрождение' 'деревня старосиверская' 'посёлок кикерино'\n",
      " 'поселок возрождение' 'деревня старое хинколово' 'посёлок пригородный'\n",
      " 'посёлок торфяное' 'городской посёлок будогощь' 'поселок суходолье'\n",
      " 'поселок красная долина' 'деревня хапо-ое'\n",
      " 'поселок городского типа дружная горка' 'поселок лисий нос'\n",
      " 'деревня яльгелево' 'посёлок стеклянный' 'село рождествено'\n",
      " 'деревня старополье' 'посёлок левашово' 'деревня сяськелево'\n",
      " 'деревня камышовка'\n",
      " 'садоводческое некоммерческое товарищество лесная поляна'\n",
      " 'деревня хязельки' 'поселок жилгородок' 'посёлок городского типа павлово'\n",
      " 'деревня ялгино' 'поселок новый учхоз' 'городской посёлок рощино'\n",
      " 'поселок гончарово' 'поселок почап' 'посёлок сапёрное'\n",
      " 'посёлок платформа 69-й километр' 'поселок каложицы' 'деревня фалилеево'\n",
      " 'деревня пельгора' 'поселок городского типа лесогорский'\n",
      " 'деревня торошковичи' 'посёлок белоостров' 'посёлок алексеевка'\n",
      " 'поселок серебрянский' 'поселок лукаши' 'поселок петровское'\n",
      " 'деревня щеглово' 'поселок мичуринское' 'деревня тарасово'\n",
      " 'поселок кингисеппский' 'посёлок при железнодорожной станции вещево'\n",
      " 'поселок ушаки' 'деревня котлы' 'деревня сижно' 'деревня торосово'\n",
      " 'посёлок форт красная горка' 'деревня новолисино'\n",
      " 'посёлок станции громово' 'деревня глинка' 'посёлок мельниково'\n",
      " 'поселок городского типа назия' 'деревня старая пустошь'\n",
      " 'поселок коммунары' 'поселок починок'\n",
      " 'посёлок городского типа вознесенье' 'деревня разбегаево'\n",
      " 'посёлок городского типа рябово' 'поселок гладкое'\n",
      " 'посёлок при железнодорожной станции приветнинское' 'поселок тёсово-4'\n",
      " 'посёлок жилгородок' 'деревня бор' 'посёлок коробицыно'\n",
      " 'деревня большая вруда' 'деревня курковицы' 'посёлок лисий нос'\n",
      " 'городской посёлок советский' 'посёлок кобралово' 'деревня суоранда'\n",
      " 'поселок кобралово' 'поселок городского типа кондратьево'\n",
      " 'коттеджный поселок счастье' 'поселок любань' 'деревня реброво'\n",
      " 'деревня зимитицы' 'деревня тойворово' 'поселок семиозерье'\n",
      " 'поселок лесное' 'поселок совхозный' 'поселок усть-луга'\n",
      " 'посёлок ленинское' 'посёлок суйда' 'посёлок городского типа форносово'\n",
      " 'деревня нижние осельки' 'посёлок станции свирь' 'поселок перово'\n",
      " 'высоцк' 'поселок гарболово' 'село шум' 'поселок котельский'\n",
      " 'поселок станции лужайка' 'деревня большая пустомержа'\n",
      " 'поселок красносельское' 'деревня вахнова кара' 'деревня пижма'\n",
      " 'коттеджный поселок кивеннапа север' 'поселок коробицыно'\n",
      " 'поселок ромашки' 'посёлок перово' 'деревня каськово' 'деревня куровицы'\n",
      " 'посёлок плоское' 'поселок сумино'\n",
      " 'поселок городского типа большая ижора' 'поселок кирпичное'\n",
      " 'деревня ям-тесово' 'деревня раздолье' 'деревня терпилицы'\n",
      " 'поселок городского типа токсово' 'посёлок шугозеро' 'деревня ваганово'\n",
      " 'поселок пушное' 'садовое товарищество садко' 'посёлок усть-ижора'\n",
      " 'деревня выскатка' 'городской посёлок свирьстрой' 'поселок громово'\n",
      " 'деревня кисельня' 'посёлок старая малукса' 'деревня трубников бор'\n",
      " 'поселок калитино' 'посёлок высокоключевой'\n",
      " 'садовое товарищество приладожский' 'посёлок пансионат зелёный бор'\n",
      " 'деревня ненимяки' 'поселок пансионат зелёный бор' 'деревня снегирёвка'\n",
      " 'деревня рапполово' 'деревня пустынка' 'поселок рабитицы'\n",
      " 'деревня большой сабск' 'деревня русско' 'деревня лупполово'\n",
      " 'деревня большое рейзино' 'деревня малая романовка' 'поселок дружноселье'\n",
      " 'поселок пчевжа' 'поселок володарское' 'деревня нижняя'\n",
      " 'коттеджный посёлок лесное' 'деревня тихковицы' 'деревня борисова грива'\n",
      " 'посёлок дзержинского']\n",
      "санкт-петербург         15542\n",
      "посёлок мурино            494\n",
      "посёлок шушары            435\n",
      "всеволожск                392\n",
      "пушкин                    369\n",
      "                        ...  \n",
      "поселок жилгородок          1\n",
      "село никольское             1\n",
      "деревня новолисино          1\n",
      "поселок севастьяново        1\n",
      "деревня реброво             1\n",
      "Name: locality_name, Length: 362, dtype: int64\n"
     ]
    }
   ],
   "source": [
    "data['locality_name'] = data['locality_name'].str.lower()\n",
    "print(data['locality_name'].unique())\n",
    "print(data['locality_name'].value_counts())"
   ]
  },
  {
   "cell_type": "markdown",
   "metadata": {},
   "source": [
    "Сразу бросается в галаза разница написания слова *посёлок*. В одном случае пишется литера \"ё\", а в другом \"е\". Изменим в данном слове на букву \"е\". Также заменим \"деревня\" на \"поселок\" и \"городской поселок\" на \"поселок городского типа\"."
   ]
  },
  {
   "cell_type": "code",
   "execution_count": 21,
   "metadata": {},
   "outputs": [
    {
     "name": "stdout",
     "output_type": "stream",
     "text": [
      "316\n"
     ]
    },
    {
     "data": {
      "text/plain": [
       "array(['санкт-петербург', 'поселок шушары',\n",
       "       'поселок городского типа янино-1', 'поселок парголово',\n",
       "       'поселок мурино', 'ломоносов', 'сертолово', 'петергоф', 'пушкин',\n",
       "       'поселок кудрово', 'коммунар', 'колпино',\n",
       "       'поселок городского типа красный бор', 'гатчина',\n",
       "       'поселок фёдоровское', 'выборг', 'кронштадт', 'кировск',\n",
       "       'поселок новое девяткино', 'поселок металлострой',\n",
       "       'поселок городского типа лебяжье',\n",
       "       'поселок городского типа сиверский', 'поселок молодцово',\n",
       "       'поселок городского типа кузьмоловский',\n",
       "       'садовое товарищество новая ропша', 'павловск',\n",
       "       'поселок пикколово', 'всеволожск', 'волхов', 'кингисепп',\n",
       "       'приозерск', 'сестрорецк', 'поселок куттузи', 'поселок аннино',\n",
       "       'поселок городского типа ефимовский', 'поселок плодовое',\n",
       "       'поселок заклинье', 'поселок торковичи', 'поселок первомайское',\n",
       "       'красное поселок', 'поселок понтонный', 'сясьстрой',\n",
       "       'поселок старая', 'поселок лесколово', 'поселок новый свет',\n",
       "       'сланцы', 'поселок путилово', 'ивангород', 'мурино',\n",
       "       'шлиссельбург', 'никольское', 'зеленогорск', 'сосновый бор',\n",
       "       'поселок оржицы', 'поселок кальтино', 'кудрово',\n",
       "       'поселок романовка', 'поселок бугры',\n",
       "       'поселок городского типа рощино', 'кириши', 'луга', 'волосово',\n",
       "       'отрадное', 'поселок павлово', 'поселок оредеж', 'поселок копорье',\n",
       "       'поселок молодёжное', 'тихвин', 'поселок победа', 'поселок нурма',\n",
       "       'поселок городского типа синявино', 'тосно', 'поселок стрельна',\n",
       "       'бокситогорск', 'поселок александровская', 'поселок лопухинка',\n",
       "       'пикалёво', 'поселок терволово',\n",
       "       'поселок городского типа советский', 'подпорожье',\n",
       "       'поселок петровское', 'поселок городского типа токсово',\n",
       "       'поселок сельцо', 'поселок городского типа вырица',\n",
       "       'поселок кипень', 'поселок келози', 'поселок вартемяги',\n",
       "       'поселок тельмана', 'поселок севастьяново',\n",
       "       'поселок городского типа большая ижора',\n",
       "       'поселок городского типа павлово', 'поселок агалатово',\n",
       "       'поселок новогорелово', 'поселок городского типа лесогорский',\n",
       "       'поселок лаголово', 'поселок цвелодубово',\n",
       "       'поселок городского типа рахья', 'поселок белогорка',\n",
       "       'поселок заводской', 'поселок городского типа новоселье',\n",
       "       'поселок большие колпаны', 'поселок горбунки', 'поселок батово',\n",
       "       'поселок заневка', 'поселок иссад', 'приморск',\n",
       "       'поселок городского типа фёдоровское', 'поселок мистолово',\n",
       "       'новая ладога', 'поселок зимитицы', 'поселок барышево',\n",
       "       'поселок разметелево', 'поселок городского типа имени свердлова',\n",
       "       'поселок пеники', 'поселок рябово', 'поселок пудомяги',\n",
       "       'поселок низино', 'поселок бегуницы', 'поселок поляны',\n",
       "       'поселок городского типа мга', 'поселок елизаветино',\n",
       "       'поселок городского типа кузнечное', 'поселок колтуши',\n",
       "       'поселок запорожское', 'поселок гостилицы',\n",
       "       'поселок малое карлино', 'поселок мичуринское',\n",
       "       'поселок городского типа имени морозова', 'поселок песочный',\n",
       "       'поселок сосново', 'поселок аро', 'поселок ильичёво',\n",
       "       'поселок городского типа тайцы', 'поселок малое верево',\n",
       "       'поселок извара', 'поселок станции вещево', 'поселок паша',\n",
       "       'поселок калитино', 'поселок городского типа ульяновка',\n",
       "       'поселок чудской бор', 'поселок городского типа дубровка',\n",
       "       'поселок мины', 'поселок войсковицы', 'поселок коркино',\n",
       "       'поселок ропша', 'поселок городского типа приладожский',\n",
       "       'поселок щеглово', 'поселок гаврилово', 'лодейное поле',\n",
       "       'поселок рабитицы', 'поселок городского типа никольский',\n",
       "       'поселок кузьмолово', 'поселок малые колпаны',\n",
       "       'поселок городского типа назия', 'поселок репино',\n",
       "       'поселок углово', 'поселок старая малукса',\n",
       "       'садовое товарищество рахья', 'поселок меньково',\n",
       "       'поселок старые бегуницы', 'поселок сапёрный', 'поселок семрино',\n",
       "       'поселок глажево', 'поселок кобринское', 'поселок гарболово',\n",
       "       'поселок юкки', 'поселок станции приветнинское',\n",
       "       'поселок мануйлово', 'поселок пчева', 'поселок цвылёво',\n",
       "       'поселок мельниково', 'поселок пудость', 'поселок усть-луга',\n",
       "       'светогорск', 'любань', 'поселок селезнёво',\n",
       "       'поселок городского типа рябово', 'каменногорск', 'поселок кривко',\n",
       "       'поселок глебычево', 'поселок парицы', 'поселок жилпоселок',\n",
       "       'поселок войскорово', 'поселок никольское', 'поселок стеклянный',\n",
       "       'поселок городского типа важины', 'поселок мыза-ивановка',\n",
       "       'поселок русско-высоцкое', 'поселок городского типа форносово',\n",
       "       'поселок старая ладога', 'поселок житково',\n",
       "       'поселок городского типа виллози', 'поселок лампово',\n",
       "       'поселок шпаньково', 'поселок лаврики', 'поселок сумино',\n",
       "       'поселок возрождение', 'поселок старосиверская',\n",
       "       'поселок кикерино', 'поселок старое хинколово',\n",
       "       'поселок пригородный', 'поселок торфяное',\n",
       "       'поселок городского типа будогощь', 'поселок суходолье',\n",
       "       'поселок красная долина', 'поселок хапо-ое',\n",
       "       'поселок городского типа дружная горка', 'поселок лисий нос',\n",
       "       'поселок яльгелево', 'поселок рождествено', 'поселок старополье',\n",
       "       'поселок левашово', 'поселок сяськелево', 'поселок камышовка',\n",
       "       'садоводческое некоммерческое товарищество лесная поляна',\n",
       "       'поселок хязельки', 'поселок жилгородок', 'поселок ялгино',\n",
       "       'поселок новый учхоз', 'поселок гончарово', 'поселок почап',\n",
       "       'поселок сапёрное', 'поселок платформа 69-й километр',\n",
       "       'поселок каложицы', 'поселок фалилеево', 'поселок пельгора',\n",
       "       'поселок торошковичи', 'поселок белоостров', 'поселок алексеевка',\n",
       "       'поселок серебрянский', 'поселок лукаши', 'поселок тарасово',\n",
       "       'поселок кингисеппский',\n",
       "       'поселок при железнодорожной станции вещево', 'поселок ушаки',\n",
       "       'поселок котлы', 'поселок сижно', 'поселок торосово',\n",
       "       'поселок форт красная горка', 'поселок новолисино',\n",
       "       'поселок станции громово', 'поселок глинка',\n",
       "       'поселок старая пустошь', 'поселок коммунары', 'поселок починок',\n",
       "       'поселок городского типа вознесенье', 'поселок разбегаево',\n",
       "       'поселок гладкое',\n",
       "       'поселок при железнодорожной станции приветнинское',\n",
       "       'поселок тёсово-4', 'поселок бор', 'поселок коробицыно',\n",
       "       'поселок большая вруда', 'поселок курковицы', 'поселок кобралово',\n",
       "       'поселок суоранда', 'поселок городского типа кондратьево',\n",
       "       'коттеджный поселок счастье', 'поселок любань', 'поселок реброво',\n",
       "       'поселок тойворово', 'поселок семиозерье', 'поселок лесное',\n",
       "       'поселок совхозный', 'поселок ленинское', 'поселок суйда',\n",
       "       'поселок нижние осельки', 'поселок станции свирь',\n",
       "       'поселок перово', 'высоцк', 'поселок шум', 'поселок котельский',\n",
       "       'поселок станции лужайка', 'поселок большая пустомержа',\n",
       "       'поселок красносельское', 'поселок вахнова кара', 'поселок пижма',\n",
       "       'коттеджный поселок кивеннапа север', 'поселок ромашки',\n",
       "       'поселок каськово', 'поселок куровицы', 'поселок плоское',\n",
       "       'поселок кирпичное', 'поселок ям-тесово', 'поселок раздолье',\n",
       "       'поселок терпилицы', 'поселок шугозеро', 'поселок ваганово',\n",
       "       'поселок пушное', 'садовое товарищество садко',\n",
       "       'поселок усть-ижора', 'поселок выскатка',\n",
       "       'поселок городского типа свирьстрой', 'поселок громово',\n",
       "       'поселок кисельня', 'поселок трубников бор',\n",
       "       'поселок высокоключевой', 'садовое товарищество приладожский',\n",
       "       'поселок пансионат зелёный бор', 'поселок ненимяки',\n",
       "       'поселок снегирёвка', 'поселок рапполово', 'поселок пустынка',\n",
       "       'поселок большой сабск', 'поселок русско', 'поселок лупполово',\n",
       "       'поселок большое рейзино', 'поселок малая романовка',\n",
       "       'поселок дружноселье', 'поселок пчевжа', 'поселок володарское',\n",
       "       'поселок нижняя', 'коттеджный поселок лесное', 'поселок тихковицы',\n",
       "       'поселок борисова грива', 'поселок дзержинского'], dtype=object)"
      ]
     },
     "execution_count": 21,
     "metadata": {},
     "output_type": "execute_result"
    }
   ],
   "source": [
    "data['locality_name'] = data['locality_name'].str.replace('посёлок','поселок')\n",
    "data['locality_name'] = data['locality_name'].str.replace('деревня','поселок')\n",
    "data['locality_name'] = data['locality_name'].str.replace('село','поселок')\n",
    "data['locality_name'] = data['locality_name'].str.replace('попоселокк','поселок')\n",
    "data['locality_name'] = data['locality_name'].str.replace('городской поселок','поселок городского типа')\n",
    "\n",
    "print(len(data['locality_name'].value_counts()))\n",
    "data['locality_name'].unique()"
   ]
  },
  {
   "cell_type": "markdown",
   "metadata": {},
   "source": [
    "Посмотрим окончательный вид предобработки данных при помощи функции *info()*:"
   ]
  },
  {
   "cell_type": "code",
   "execution_count": 22,
   "metadata": {},
   "outputs": [
    {
     "name": "stdout",
     "output_type": "stream",
     "text": [
      "<class 'pandas.core.frame.DataFrame'>\n",
      "Int64Index: 23371 entries, 0 to 23698\n",
      "Data columns (total 23 columns):\n",
      " #   Column                Non-Null Count  Dtype         \n",
      "---  ------                --------------  -----         \n",
      " 0   locality_name         23371 non-null  object        \n",
      " 1   total_area            23371 non-null  float64       \n",
      " 2   living_area           23371 non-null  float64       \n",
      " 3   kitchen_area          21343 non-null  float64       \n",
      " 4   ceiling_height        23371 non-null  float64       \n",
      " 5   rooms                 23371 non-null  int64         \n",
      " 6   balcony               23371 non-null  int64         \n",
      " 7   floor                 23371 non-null  int64         \n",
      " 8   floors_total          23371 non-null  int64         \n",
      " 9   is_apartment          23371 non-null  object        \n",
      " 10  studio                23371 non-null  bool          \n",
      " 11  open_plan             23371 non-null  bool          \n",
      " 12  total_images          23371 non-null  int64         \n",
      " 13  last_price            23371 non-null  int64         \n",
      " 14  first_day_exposition  23371 non-null  datetime64[ns]\n",
      " 15  days_exposition       20214 non-null  float64       \n",
      " 16  citycenter_m          17947 non-null  float64       \n",
      " 17  airports_m            17924 non-null  float64       \n",
      " 18  parks_3km             17948 non-null  float64       \n",
      " 19  parks_nearest_m       8002 non-null   float64       \n",
      " 20  ponds_3km             17948 non-null  float64       \n",
      " 21  ponds_nearest_m       8968 non-null   float64       \n",
      " 22  first_day_year        23371 non-null  int64         \n",
      "dtypes: bool(2), datetime64[ns](1), float64(11), int64(7), object(2)\n",
      "memory usage: 4.5+ MB\n"
     ]
    }
   ],
   "source": [
    "data.info(10)"
   ]
  },
  {
   "cell_type": "markdown",
   "metadata": {},
   "source": [
    "**Вывод:**\n",
    "В процессе предобработки было изменено название столбца 'citycenters_nearest'(исправлен регистр), заменён строковый формат на *datetime64*, убраны строки с пустыми значения, которые не повлияют на дальнешие расчеты, а остальные оставлены без изменений, жилые и другие площади были заполнены медианными значениями. Близлежащие парки, пруды и аэропорты были заполнены средними значениями. Неявные дубликаты в названиях населенных пунктов были убраны. Дальше работа пойдёт проще!"
   ]
  },
  {
   "cell_type": "markdown",
   "metadata": {},
   "source": [
    "Рассмотрим какая доля от изначального кол-ва данных осталась после предобработки. Следуя из разницы показателей (23699-23371), то таблица уменьшилась на 238 строк."
   ]
  },
  {
   "cell_type": "code",
   "execution_count": 23,
   "metadata": {},
   "outputs": [
    {
     "data": {
      "text/plain": [
       "23371"
      ]
     },
     "execution_count": 23,
     "metadata": {},
     "output_type": "execute_result"
    }
   ],
   "source": [
    "data.shape[0]"
   ]
  },
  {
   "cell_type": "markdown",
   "metadata": {},
   "source": [
    "### Посчитайте и добавьте в таблицу новые столбцы"
   ]
  },
  {
   "cell_type": "markdown",
   "metadata": {},
   "source": [
    "Первым делом посчитаем цену 1 кв.м. и добавим отдельный столбец. Чтобы посчитать цену за кв.м. разделим столбец 'last_price' на 'total_price' и округлим значение до сотых."
   ]
  },
  {
   "cell_type": "code",
   "execution_count": 24,
   "metadata": {},
   "outputs": [],
   "source": [
    "data['price_meter'] = data['last_price'] / data['total_area']\n",
    "data['price_meter'] = data['price_meter'].round(decimals=2)"
   ]
  },
  {
   "cell_type": "markdown",
   "metadata": {},
   "source": [
    "Следующий шаг: добавление столбцов дня, месяца и года публикации объявления."
   ]
  },
  {
   "cell_type": "code",
   "execution_count": 25,
   "metadata": {},
   "outputs": [],
   "source": [
    "#рассчитаем и добавим в таблицу день недели, месяц и год публикации объявления\n",
    "data['first_day_exposition'] = pd.to_datetime(data['first_day_exposition'], format='%Y-%m-%d %H:%M:%S')\n",
    "data['day'], data['month'], data['year']  = \\\n",
    "data['first_day_exposition'].dt.weekday, data['first_day_exposition'].dt.month, data['first_day_exposition'].dt.year"
   ]
  },
  {
   "cell_type": "code",
   "execution_count": 26,
   "metadata": {},
   "outputs": [
    {
     "data": {
      "text/plain": [
       "другой       17161\n",
       "последний     3319\n",
       "первый        2891\n",
       "Name: flat_floor, dtype: int64"
      ]
     },
     "execution_count": 26,
     "metadata": {},
     "output_type": "execute_result"
    }
   ],
   "source": [
    "#рассчитаем и добавим в таблицу этаж квартиры; варианты — первый, последний, другой\n",
    "def category_floor(i):\n",
    "    try:\n",
    "        if i['floor'] == 1:\n",
    "            return 'первый'\n",
    "        if i['floor'] == i['floors_total']:\n",
    "            return 'последний'\n",
    "        return 'другой'\n",
    "    except:\n",
    "        pass\n",
    "data['flat_floor'] = data.apply(category_floor, axis = 1)  \n",
    "data['flat_floor'].value_counts()"
   ]
  },
  {
   "cell_type": "code",
   "execution_count": 27,
   "metadata": {},
   "outputs": [
    {
     "data": {
      "text/plain": [
       "count    17947.000000\n",
       "mean        14.191898\n",
       "std          8.639353\n",
       "min          0.000000\n",
       "25%          9.000000\n",
       "50%         13.000000\n",
       "75%         16.000000\n",
       "max         66.000000\n",
       "Name: citycenter_m, dtype: float64"
      ]
     },
     "execution_count": 27,
     "metadata": {},
     "output_type": "execute_result"
    }
   ],
   "source": [
    "#добавим столбец с расстоянием км до центра\n",
    "data['citycenter_m'] = data['citycenter_m'] / 1000\n",
    "data['citycenter_m'] = data['citycenter_m'].round()\n",
    "data['citycenter_m'].describe()"
   ]
  },
  {
   "cell_type": "code",
   "execution_count": 28,
   "metadata": {},
   "outputs": [
    {
     "data": {
      "text/html": [
       "<div>\n",
       "<style scoped>\n",
       "    .dataframe tbody tr th:only-of-type {\n",
       "        vertical-align: middle;\n",
       "    }\n",
       "\n",
       "    .dataframe tbody tr th {\n",
       "        vertical-align: top;\n",
       "    }\n",
       "\n",
       "    .dataframe thead th {\n",
       "        text-align: right;\n",
       "    }\n",
       "</style>\n",
       "<table border=\"1\" class=\"dataframe\">\n",
       "  <thead>\n",
       "    <tr style=\"text-align: right;\">\n",
       "      <th></th>\n",
       "      <th>locality_name</th>\n",
       "      <th>total_area</th>\n",
       "      <th>living_area</th>\n",
       "      <th>kitchen_area</th>\n",
       "      <th>ceiling_height</th>\n",
       "      <th>rooms</th>\n",
       "      <th>balcony</th>\n",
       "      <th>floor</th>\n",
       "      <th>floors_total</th>\n",
       "      <th>is_apartment</th>\n",
       "      <th>...</th>\n",
       "      <th>parks_3km</th>\n",
       "      <th>parks_nearest_m</th>\n",
       "      <th>ponds_3km</th>\n",
       "      <th>ponds_nearest_m</th>\n",
       "      <th>first_day_year</th>\n",
       "      <th>price_meter</th>\n",
       "      <th>day</th>\n",
       "      <th>month</th>\n",
       "      <th>year</th>\n",
       "      <th>flat_floor</th>\n",
       "    </tr>\n",
       "  </thead>\n",
       "  <tbody>\n",
       "    <tr>\n",
       "      <th>0</th>\n",
       "      <td>санкт-петербург</td>\n",
       "      <td>108.00</td>\n",
       "      <td>51.000000</td>\n",
       "      <td>25.00</td>\n",
       "      <td>2.70</td>\n",
       "      <td>3</td>\n",
       "      <td>0</td>\n",
       "      <td>8</td>\n",
       "      <td>16</td>\n",
       "      <td>0</td>\n",
       "      <td>...</td>\n",
       "      <td>1.0</td>\n",
       "      <td>482.0</td>\n",
       "      <td>2.0</td>\n",
       "      <td>755.0</td>\n",
       "      <td>2019</td>\n",
       "      <td>120370.37</td>\n",
       "      <td>3</td>\n",
       "      <td>3</td>\n",
       "      <td>2019</td>\n",
       "      <td>другой</td>\n",
       "    </tr>\n",
       "    <tr>\n",
       "      <th>1</th>\n",
       "      <td>поселок шушары</td>\n",
       "      <td>40.40</td>\n",
       "      <td>18.600000</td>\n",
       "      <td>11.00</td>\n",
       "      <td>2.65</td>\n",
       "      <td>1</td>\n",
       "      <td>2</td>\n",
       "      <td>1</td>\n",
       "      <td>11</td>\n",
       "      <td>0</td>\n",
       "      <td>...</td>\n",
       "      <td>0.0</td>\n",
       "      <td>NaN</td>\n",
       "      <td>0.0</td>\n",
       "      <td>NaN</td>\n",
       "      <td>2018</td>\n",
       "      <td>82920.79</td>\n",
       "      <td>1</td>\n",
       "      <td>12</td>\n",
       "      <td>2018</td>\n",
       "      <td>первый</td>\n",
       "    </tr>\n",
       "    <tr>\n",
       "      <th>2</th>\n",
       "      <td>санкт-петербург</td>\n",
       "      <td>56.00</td>\n",
       "      <td>34.300000</td>\n",
       "      <td>8.30</td>\n",
       "      <td>2.65</td>\n",
       "      <td>2</td>\n",
       "      <td>0</td>\n",
       "      <td>4</td>\n",
       "      <td>5</td>\n",
       "      <td>0</td>\n",
       "      <td>...</td>\n",
       "      <td>1.0</td>\n",
       "      <td>90.0</td>\n",
       "      <td>2.0</td>\n",
       "      <td>574.0</td>\n",
       "      <td>2015</td>\n",
       "      <td>92785.71</td>\n",
       "      <td>3</td>\n",
       "      <td>8</td>\n",
       "      <td>2015</td>\n",
       "      <td>другой</td>\n",
       "    </tr>\n",
       "    <tr>\n",
       "      <th>3</th>\n",
       "      <td>санкт-петербург</td>\n",
       "      <td>159.00</td>\n",
       "      <td>19.786667</td>\n",
       "      <td>NaN</td>\n",
       "      <td>2.65</td>\n",
       "      <td>3</td>\n",
       "      <td>0</td>\n",
       "      <td>9</td>\n",
       "      <td>14</td>\n",
       "      <td>0</td>\n",
       "      <td>...</td>\n",
       "      <td>2.0</td>\n",
       "      <td>84.0</td>\n",
       "      <td>3.0</td>\n",
       "      <td>234.0</td>\n",
       "      <td>2015</td>\n",
       "      <td>408176.10</td>\n",
       "      <td>4</td>\n",
       "      <td>7</td>\n",
       "      <td>2015</td>\n",
       "      <td>другой</td>\n",
       "    </tr>\n",
       "    <tr>\n",
       "      <th>4</th>\n",
       "      <td>санкт-петербург</td>\n",
       "      <td>100.00</td>\n",
       "      <td>32.000000</td>\n",
       "      <td>41.00</td>\n",
       "      <td>3.03</td>\n",
       "      <td>2</td>\n",
       "      <td>0</td>\n",
       "      <td>13</td>\n",
       "      <td>14</td>\n",
       "      <td>0</td>\n",
       "      <td>...</td>\n",
       "      <td>2.0</td>\n",
       "      <td>112.0</td>\n",
       "      <td>1.0</td>\n",
       "      <td>48.0</td>\n",
       "      <td>2018</td>\n",
       "      <td>100000.00</td>\n",
       "      <td>1</td>\n",
       "      <td>6</td>\n",
       "      <td>2018</td>\n",
       "      <td>другой</td>\n",
       "    </tr>\n",
       "    <tr>\n",
       "      <th>5</th>\n",
       "      <td>поселок городского типа янино-1</td>\n",
       "      <td>30.40</td>\n",
       "      <td>14.400000</td>\n",
       "      <td>9.10</td>\n",
       "      <td>2.65</td>\n",
       "      <td>1</td>\n",
       "      <td>0</td>\n",
       "      <td>5</td>\n",
       "      <td>12</td>\n",
       "      <td>0</td>\n",
       "      <td>...</td>\n",
       "      <td>NaN</td>\n",
       "      <td>NaN</td>\n",
       "      <td>NaN</td>\n",
       "      <td>NaN</td>\n",
       "      <td>2018</td>\n",
       "      <td>95065.79</td>\n",
       "      <td>0</td>\n",
       "      <td>9</td>\n",
       "      <td>2018</td>\n",
       "      <td>другой</td>\n",
       "    </tr>\n",
       "    <tr>\n",
       "      <th>6</th>\n",
       "      <td>поселок парголово</td>\n",
       "      <td>37.30</td>\n",
       "      <td>10.600000</td>\n",
       "      <td>14.40</td>\n",
       "      <td>2.65</td>\n",
       "      <td>1</td>\n",
       "      <td>1</td>\n",
       "      <td>6</td>\n",
       "      <td>26</td>\n",
       "      <td>0</td>\n",
       "      <td>...</td>\n",
       "      <td>0.0</td>\n",
       "      <td>NaN</td>\n",
       "      <td>0.0</td>\n",
       "      <td>NaN</td>\n",
       "      <td>2017</td>\n",
       "      <td>99195.71</td>\n",
       "      <td>3</td>\n",
       "      <td>11</td>\n",
       "      <td>2017</td>\n",
       "      <td>другой</td>\n",
       "    </tr>\n",
       "    <tr>\n",
       "      <th>7</th>\n",
       "      <td>санкт-петербург</td>\n",
       "      <td>71.60</td>\n",
       "      <td>32.593911</td>\n",
       "      <td>18.90</td>\n",
       "      <td>2.65</td>\n",
       "      <td>2</td>\n",
       "      <td>2</td>\n",
       "      <td>22</td>\n",
       "      <td>24</td>\n",
       "      <td>0</td>\n",
       "      <td>...</td>\n",
       "      <td>0.0</td>\n",
       "      <td>NaN</td>\n",
       "      <td>0.0</td>\n",
       "      <td>NaN</td>\n",
       "      <td>2019</td>\n",
       "      <td>110544.69</td>\n",
       "      <td>3</td>\n",
       "      <td>4</td>\n",
       "      <td>2019</td>\n",
       "      <td>другой</td>\n",
       "    </tr>\n",
       "    <tr>\n",
       "      <th>8</th>\n",
       "      <td>поселок мурино</td>\n",
       "      <td>33.16</td>\n",
       "      <td>15.430000</td>\n",
       "      <td>8.81</td>\n",
       "      <td>2.65</td>\n",
       "      <td>1</td>\n",
       "      <td>0</td>\n",
       "      <td>26</td>\n",
       "      <td>27</td>\n",
       "      <td>0</td>\n",
       "      <td>...</td>\n",
       "      <td>NaN</td>\n",
       "      <td>NaN</td>\n",
       "      <td>NaN</td>\n",
       "      <td>NaN</td>\n",
       "      <td>2018</td>\n",
       "      <td>87454.76</td>\n",
       "      <td>2</td>\n",
       "      <td>5</td>\n",
       "      <td>2018</td>\n",
       "      <td>другой</td>\n",
       "    </tr>\n",
       "    <tr>\n",
       "      <th>9</th>\n",
       "      <td>санкт-петербург</td>\n",
       "      <td>61.00</td>\n",
       "      <td>43.600000</td>\n",
       "      <td>6.50</td>\n",
       "      <td>2.50</td>\n",
       "      <td>3</td>\n",
       "      <td>2</td>\n",
       "      <td>7</td>\n",
       "      <td>9</td>\n",
       "      <td>0</td>\n",
       "      <td>...</td>\n",
       "      <td>0.0</td>\n",
       "      <td>NaN</td>\n",
       "      <td>0.0</td>\n",
       "      <td>NaN</td>\n",
       "      <td>2017</td>\n",
       "      <td>88524.59</td>\n",
       "      <td>6</td>\n",
       "      <td>2</td>\n",
       "      <td>2017</td>\n",
       "      <td>другой</td>\n",
       "    </tr>\n",
       "  </tbody>\n",
       "</table>\n",
       "<p>10 rows × 28 columns</p>\n",
       "</div>"
      ],
      "text/plain": [
       "                     locality_name  total_area  living_area  kitchen_area  \\\n",
       "0                  санкт-петербург      108.00    51.000000         25.00   \n",
       "1                   поселок шушары       40.40    18.600000         11.00   \n",
       "2                  санкт-петербург       56.00    34.300000          8.30   \n",
       "3                  санкт-петербург      159.00    19.786667           NaN   \n",
       "4                  санкт-петербург      100.00    32.000000         41.00   \n",
       "5  поселок городского типа янино-1       30.40    14.400000          9.10   \n",
       "6                поселок парголово       37.30    10.600000         14.40   \n",
       "7                  санкт-петербург       71.60    32.593911         18.90   \n",
       "8                   поселок мурино       33.16    15.430000          8.81   \n",
       "9                  санкт-петербург       61.00    43.600000          6.50   \n",
       "\n",
       "   ceiling_height  rooms  balcony  floor  floors_total is_apartment  ...  \\\n",
       "0            2.70      3        0      8            16            0  ...   \n",
       "1            2.65      1        2      1            11            0  ...   \n",
       "2            2.65      2        0      4             5            0  ...   \n",
       "3            2.65      3        0      9            14            0  ...   \n",
       "4            3.03      2        0     13            14            0  ...   \n",
       "5            2.65      1        0      5            12            0  ...   \n",
       "6            2.65      1        1      6            26            0  ...   \n",
       "7            2.65      2        2     22            24            0  ...   \n",
       "8            2.65      1        0     26            27            0  ...   \n",
       "9            2.50      3        2      7             9            0  ...   \n",
       "\n",
       "   parks_3km  parks_nearest_m  ponds_3km  ponds_nearest_m first_day_year  \\\n",
       "0        1.0            482.0        2.0            755.0           2019   \n",
       "1        0.0              NaN        0.0              NaN           2018   \n",
       "2        1.0             90.0        2.0            574.0           2015   \n",
       "3        2.0             84.0        3.0            234.0           2015   \n",
       "4        2.0            112.0        1.0             48.0           2018   \n",
       "5        NaN              NaN        NaN              NaN           2018   \n",
       "6        0.0              NaN        0.0              NaN           2017   \n",
       "7        0.0              NaN        0.0              NaN           2019   \n",
       "8        NaN              NaN        NaN              NaN           2018   \n",
       "9        0.0              NaN        0.0              NaN           2017   \n",
       "\n",
       "   price_meter  day  month  year  flat_floor  \n",
       "0    120370.37    3      3  2019      другой  \n",
       "1     82920.79    1     12  2018      первый  \n",
       "2     92785.71    3      8  2015      другой  \n",
       "3    408176.10    4      7  2015      другой  \n",
       "4    100000.00    1      6  2018      другой  \n",
       "5     95065.79    0      9  2018      другой  \n",
       "6     99195.71    3     11  2017      другой  \n",
       "7    110544.69    3      4  2019      другой  \n",
       "8     87454.76    2      5  2018      другой  \n",
       "9     88524.59    6      2  2017      другой  \n",
       "\n",
       "[10 rows x 28 columns]"
      ]
     },
     "execution_count": 28,
     "metadata": {},
     "output_type": "execute_result"
    }
   ],
   "source": [
    "data.head(10)"
   ]
  },
  {
   "cell_type": "markdown",
   "metadata": {},
   "source": [
    "### Проведите исследовательский анализ данных"
   ]
  },
  {
   "cell_type": "markdown",
   "metadata": {},
   "source": [
    "Изучим основные параметры квартир: площадь, цена, число комнат, высота потолков, но для начала уберем редкие и выбивающиеся значения (*аномалии*). Обратимся к данным в нужных столбцах через функцию describe()."
   ]
  },
  {
   "cell_type": "code",
   "execution_count": 29,
   "metadata": {},
   "outputs": [
    {
     "data": {
      "text/html": [
       "<div>\n",
       "<style scoped>\n",
       "    .dataframe tbody tr th:only-of-type {\n",
       "        vertical-align: middle;\n",
       "    }\n",
       "\n",
       "    .dataframe tbody tr th {\n",
       "        vertical-align: top;\n",
       "    }\n",
       "\n",
       "    .dataframe thead th {\n",
       "        text-align: right;\n",
       "    }\n",
       "</style>\n",
       "<table border=\"1\" class=\"dataframe\">\n",
       "  <thead>\n",
       "    <tr style=\"text-align: right;\">\n",
       "      <th></th>\n",
       "      <th>total_area</th>\n",
       "      <th>last_price</th>\n",
       "      <th>rooms</th>\n",
       "      <th>ceiling_height</th>\n",
       "      <th>days_exposition</th>\n",
       "    </tr>\n",
       "  </thead>\n",
       "  <tbody>\n",
       "    <tr>\n",
       "      <th>count</th>\n",
       "      <td>23371.000000</td>\n",
       "      <td>2.337100e+04</td>\n",
       "      <td>23371.000000</td>\n",
       "      <td>23371.000000</td>\n",
       "      <td>20214.000000</td>\n",
       "    </tr>\n",
       "    <tr>\n",
       "      <th>mean</th>\n",
       "      <td>60.580161</td>\n",
       "      <td>6.566584e+06</td>\n",
       "      <td>2.087844</td>\n",
       "      <td>2.697661</td>\n",
       "      <td>181.368458</td>\n",
       "    </tr>\n",
       "    <tr>\n",
       "      <th>std</th>\n",
       "      <td>35.613640</td>\n",
       "      <td>1.094248e+07</td>\n",
       "      <td>1.066362</td>\n",
       "      <td>0.237800</td>\n",
       "      <td>220.094368</td>\n",
       "    </tr>\n",
       "    <tr>\n",
       "      <th>min</th>\n",
       "      <td>12.000000</td>\n",
       "      <td>1.219000e+04</td>\n",
       "      <td>1.000000</td>\n",
       "      <td>1.000000</td>\n",
       "      <td>1.000000</td>\n",
       "    </tr>\n",
       "    <tr>\n",
       "      <th>25%</th>\n",
       "      <td>40.200000</td>\n",
       "      <td>3.450000e+06</td>\n",
       "      <td>1.000000</td>\n",
       "      <td>2.600000</td>\n",
       "      <td>45.000000</td>\n",
       "    </tr>\n",
       "    <tr>\n",
       "      <th>50%</th>\n",
       "      <td>52.000000</td>\n",
       "      <td>4.650000e+06</td>\n",
       "      <td>2.000000</td>\n",
       "      <td>2.650000</td>\n",
       "      <td>96.000000</td>\n",
       "    </tr>\n",
       "    <tr>\n",
       "      <th>75%</th>\n",
       "      <td>70.000000</td>\n",
       "      <td>6.800000e+06</td>\n",
       "      <td>3.000000</td>\n",
       "      <td>2.700000</td>\n",
       "      <td>232.000000</td>\n",
       "    </tr>\n",
       "    <tr>\n",
       "      <th>max</th>\n",
       "      <td>900.000000</td>\n",
       "      <td>7.630000e+08</td>\n",
       "      <td>19.000000</td>\n",
       "      <td>10.000000</td>\n",
       "      <td>1580.000000</td>\n",
       "    </tr>\n",
       "  </tbody>\n",
       "</table>\n",
       "</div>"
      ],
      "text/plain": [
       "         total_area    last_price         rooms  ceiling_height  \\\n",
       "count  23371.000000  2.337100e+04  23371.000000    23371.000000   \n",
       "mean      60.580161  6.566584e+06      2.087844        2.697661   \n",
       "std       35.613640  1.094248e+07      1.066362        0.237800   \n",
       "min       12.000000  1.219000e+04      1.000000        1.000000   \n",
       "25%       40.200000  3.450000e+06      1.000000        2.600000   \n",
       "50%       52.000000  4.650000e+06      2.000000        2.650000   \n",
       "75%       70.000000  6.800000e+06      3.000000        2.700000   \n",
       "max      900.000000  7.630000e+08     19.000000       10.000000   \n",
       "\n",
       "       days_exposition  \n",
       "count     20214.000000  \n",
       "mean        181.368458  \n",
       "std         220.094368  \n",
       "min           1.000000  \n",
       "25%          45.000000  \n",
       "50%          96.000000  \n",
       "75%         232.000000  \n",
       "max        1580.000000  "
      ]
     },
     "execution_count": 29,
     "metadata": {},
     "output_type": "execute_result"
    }
   ],
   "source": [
    "data[\n",
    "    ['total_area',\n",
    "     'last_price',\n",
    "     'rooms',\n",
    "     'ceiling_height',\n",
    "     'days_exposition']\n",
    "].describe()"
   ]
  },
  {
   "cell_type": "markdown",
   "metadata": {},
   "source": [
    " Создадим функцию, определяющую границы \"усов\" для задаваемого признака для поиска и удаления выбросов:"
   ]
  },
  {
   "cell_type": "code",
   "execution_count": 30,
   "metadata": {},
   "outputs": [],
   "source": [
    "def whiskers(column):\n",
    "    quantile = data[column].describe()\n",
    "    iqr = quantile[6] - quantile[4] # межквартильный размах (для краткости iqr) \n",
    "    \n",
    "    left_whisker = round(quantile[4] - 1.5 * iqr, 2) #выводим переменную для \"левого уса\"\n",
    "    right_whisker = round(quantile[6] + 1.5 * iqr, 2)#и также для правого\n",
    "\n",
    "    #напишем условие, что левый \"ус\" не должен быть меньше минимального значения\n",
    "    if left_whisker < quantile[3]: left_whisker = quantile[3] \n",
    "        \n",
    "    #напишем условие, что правый \"ус\" не должен быть больше максимального значения\n",
    "    if right_whisker > quantile[7]: right_whisker = quantile[7]\n",
    "        \n",
    "    return [left_whisker, right_whisker]"
   ]
  },
  {
   "cell_type": "markdown",
   "metadata": {},
   "source": [
    "Используем функцию на 1-м столбце ('total_area') и заодно проверим её работу:"
   ]
  },
  {
   "cell_type": "code",
   "execution_count": 31,
   "metadata": {},
   "outputs": [
    {
     "data": {
      "text/plain": [
       "[12.0, 114.7]"
      ]
     },
     "execution_count": 31,
     "metadata": {},
     "output_type": "execute_result"
    }
   ],
   "source": [
    "whiskers('total_area')\n",
    "#в результате были получены \"усы\", которые видны ниже"
   ]
  },
  {
   "cell_type": "code",
   "execution_count": 32,
   "metadata": {},
   "outputs": [
    {
     "name": "stderr",
     "output_type": "stream",
     "text": [
      "/opt/conda/lib/python3.9/site-packages/seaborn/_decorators.py:36: FutureWarning: Pass the following variable as a keyword arg: x. From version 0.12, the only valid positional argument will be `data`, and passing other arguments without an explicit keyword will result in an error or misinterpretation.\n",
      "  warnings.warn(\n"
     ]
    },
    {
     "data": {
      "image/png": "[encoded data removed]",
      "text/plain": [
       "<Figure size 432x288 with 1 Axes>"
      ]
     },
     "metadata": {
      "needs_background": "light"
     },
     "output_type": "display_data"
    }
   ],
   "source": [
    "#построим диаграмму размаха (boxplot), ограничив площадь 150 кв.м\n",
    "sns.boxplot(data['total_area'])\n",
    "plt.title('Диаграмма размаха общей площади квартиры')\n",
    "plt.xlabel('Общая площадь, кв.м')\n",
    "plt.xlim(0, 150)\n",
    "plt.show()"
   ]
  },
  {
   "cell_type": "markdown",
   "metadata": {},
   "source": [
    "Теперь визуализируем полученные данные, построив диаграмму для объектов. Условие будет, что площадь не будет больше 120кв.м."
   ]
  },
  {
   "cell_type": "code",
   "execution_count": 33,
   "metadata": {},
   "outputs": [
    {
     "name": "stderr",
     "output_type": "stream",
     "text": [
      "/opt/conda/lib/python3.9/site-packages/seaborn/distributions.py:2557: FutureWarning: `distplot` is a deprecated function and will be removed in a future version. Please adapt your code to use either `displot` (a figure-level function with similar flexibility) or `histplot` (an axes-level function for histograms).\n",
      "  warnings.warn(msg, FutureWarning)\n"
     ]
    },
    {
     "data": {
      "image/png": "[encoded data removed]",
      "text/plain": [
       "<Figure size 432x288 with 1 Axes>"
      ]
     },
     "metadata": {
      "needs_background": "light"
     },
     "output_type": "display_data"
    }
   ],
   "source": [
    "sns.distplot(data['total_area'],kde=False, bins=45, color = 'orange')\n",
    "#пропишем дополнительный агрумент kde, чтобы убрать параметрическую линию\n",
    "plt.xlim(0, 120)\n",
    "plt.title('Гистограмма общей площади квартиры')\n",
    "plt.xlabel('Общая площадь, кв.м')\n",
    "plt.ylabel('Частота')\n",
    "plt.show()"
   ]
  },
  {
   "cell_type": "markdown",
   "metadata": {},
   "source": [
    "Зададим функцию, вычисляющую долю аномальных значений и посчитаем аномальные значения в общей площади."
   ]
  },
  {
   "cell_type": "code",
   "execution_count": 34,
   "metadata": {},
   "outputs": [
    {
     "data": {
      "text/plain": [
       "'Аномальные значения составляют 5.3%'"
      ]
     },
     "execution_count": 34,
     "metadata": {},
     "output_type": "execute_result"
    }
   ],
   "source": [
    "#зададим функцию, вычисляющую долю аномальных значений\n",
    "def anomalies_ratio(column):\n",
    "    return 'Аномальные значения составляют {:.1%}'. format(len(data.loc[data[column] > whiskers(column)[1]]) / len(data))\n",
    "anomalies_ratio('total_area')"
   ]
  },
  {
   "cell_type": "markdown",
   "metadata": {},
   "source": [
    "Такую же работу проделаем для остальных столбцов:"
   ]
  },
  {
   "cell_type": "code",
   "execution_count": 35,
   "metadata": {},
   "outputs": [
    {
     "data": {
      "text/plain": [
       "[12190.0, 11825000.0]"
      ]
     },
     "execution_count": 35,
     "metadata": {},
     "output_type": "execute_result"
    }
   ],
   "source": [
    "whiskers('last_price')"
   ]
  },
  {
   "cell_type": "code",
   "execution_count": 36,
   "metadata": {},
   "outputs": [
    {
     "name": "stderr",
     "output_type": "stream",
     "text": [
      "/opt/conda/lib/python3.9/site-packages/seaborn/_decorators.py:36: FutureWarning: Pass the following variable as a keyword arg: x. From version 0.12, the only valid positional argument will be `data`, and passing other arguments without an explicit keyword will result in an error or misinterpretation.\n",
      "  warnings.warn(\n"
     ]
    },
    {
     "data": {
      "image/png": "[encoded data removed]",
      "text/plain": [
       "<Figure size 432x288 with 1 Axes>"
      ]
     },
     "metadata": {
      "needs_background": "light"
     },
     "output_type": "display_data"
    }
   ],
   "source": [
    "sns.boxplot(data['last_price'])\n",
    "plt.title('Диаграмма размаха цен на квартиры')\n",
    "plt.xlabel('Цены, 10 млн рублей')\n",
    "_ = plt.xlim(0, 13000000)"
   ]
  },
  {
   "cell_type": "code",
   "execution_count": 37,
   "metadata": {},
   "outputs": [
    {
     "name": "stderr",
     "output_type": "stream",
     "text": [
      "/opt/conda/lib/python3.9/site-packages/seaborn/distributions.py:2557: FutureWarning: `distplot` is a deprecated function and will be removed in a future version. Please adapt your code to use either `displot` (a figure-level function with similar flexibility) or `histplot` (an axes-level function for histograms).\n",
      "  warnings.warn(msg, FutureWarning)\n"
     ]
    },
    {
     "data": {
      "image/png": "[encoded data removed]",
      "text/plain": [
       "<Figure size 432x288 with 1 Axes>"
      ]
     },
     "metadata": {
      "needs_background": "light"
     },
     "output_type": "display_data"
    }
   ],
   "source": [
    "sns.distplot(data['last_price'], kde=False, bins=450, color = 'green')\n",
    "plt.xlim(0, 13000000)\n",
    "plt.title('Гистограмма цен')\n",
    "plt.xlabel('Цены, 10 млн рублей')\n",
    "_ = plt.ylabel('Частота')"
   ]
  },
  {
   "cell_type": "code",
   "execution_count": 38,
   "metadata": {},
   "outputs": [
    {
     "data": {
      "text/plain": [
       "'Аномальные значения составляют 8.8%'"
      ]
     },
     "execution_count": 38,
     "metadata": {},
     "output_type": "execute_result"
    }
   ],
   "source": [
    "anomalies_ratio('last_price')"
   ]
  },
  {
   "cell_type": "code",
   "execution_count": 39,
   "metadata": {},
   "outputs": [
    {
     "data": {
      "text/plain": [
       "[1.0, 6.0]"
      ]
     },
     "execution_count": 39,
     "metadata": {},
     "output_type": "execute_result"
    }
   ],
   "source": [
    "whiskers('rooms')"
   ]
  },
  {
   "cell_type": "code",
   "execution_count": 40,
   "metadata": {
    "scrolled": false
   },
   "outputs": [
    {
     "name": "stderr",
     "output_type": "stream",
     "text": [
      "/opt/conda/lib/python3.9/site-packages/seaborn/_decorators.py:36: FutureWarning: Pass the following variable as a keyword arg: x. From version 0.12, the only valid positional argument will be `data`, and passing other arguments without an explicit keyword will result in an error or misinterpretation.\n",
      "  warnings.warn(\n"
     ]
    },
    {
     "data": {
      "image/png": "[encoded data removed]",
      "text/plain": [
       "<Figure size 432x288 with 1 Axes>"
      ]
     },
     "metadata": {
      "needs_background": "light"
     },
     "output_type": "display_data"
    }
   ],
   "source": [
    "sns.boxplot(data['rooms'])\n",
    "plt.title('Диаграмма размаха количества комнат')\n",
    "plt.xlabel('Число комнат, шт.')\n",
    "_ = plt.xlim(0, 10)"
   ]
  },
  {
   "cell_type": "code",
   "execution_count": 41,
   "metadata": {},
   "outputs": [
    {
     "name": "stderr",
     "output_type": "stream",
     "text": [
      "/opt/conda/lib/python3.9/site-packages/seaborn/distributions.py:2557: FutureWarning: `distplot` is a deprecated function and will be removed in a future version. Please adapt your code to use either `displot` (a figure-level function with similar flexibility) or `histplot` (an axes-level function for histograms).\n",
      "  warnings.warn(msg, FutureWarning)\n"
     ]
    },
    {
     "data": {
      "image/png": "[encoded data removed]",
      "text/plain": [
       "<Figure size 432x288 with 1 Axes>"
      ]
     },
     "metadata": {
      "needs_background": "light"
     },
     "output_type": "display_data"
    }
   ],
   "source": [
    "sns.distplot(data['rooms'], kde=False, bins=20, color = 'yellow')\n",
    "plt.xlim(0, 6)\n",
    "plt.title('Гистограмма числа комнат')\n",
    "plt.xlabel('Число комнат, шт.')\n",
    "_ = plt.ylabel('Частота')"
   ]
  },
  {
   "cell_type": "code",
   "execution_count": 42,
   "metadata": {},
   "outputs": [
    {
     "data": {
      "text/plain": [
       "'Аномальные значения составляют 0.4%'"
      ]
     },
     "execution_count": 42,
     "metadata": {},
     "output_type": "execute_result"
    }
   ],
   "source": [
    "anomalies_ratio('rooms')"
   ]
  },
  {
   "cell_type": "code",
   "execution_count": 43,
   "metadata": {},
   "outputs": [
    {
     "data": {
      "text/plain": [
       "[2.45, 2.85]"
      ]
     },
     "execution_count": 43,
     "metadata": {},
     "output_type": "execute_result"
    }
   ],
   "source": [
    "whiskers('ceiling_height')"
   ]
  },
  {
   "cell_type": "code",
   "execution_count": 44,
   "metadata": {},
   "outputs": [
    {
     "name": "stderr",
     "output_type": "stream",
     "text": [
      "/opt/conda/lib/python3.9/site-packages/seaborn/_decorators.py:36: FutureWarning: Pass the following variable as a keyword arg: x. From version 0.12, the only valid positional argument will be `data`, and passing other arguments without an explicit keyword will result in an error or misinterpretation.\n",
      "  warnings.warn(\n"
     ]
    },
    {
     "data": {
      "image/png": "[encoded data removed]",
      "text/plain": [
       "<Figure size 432x288 with 1 Axes>"
      ]
     },
     "metadata": {
      "needs_background": "light"
     },
     "output_type": "display_data"
    }
   ],
   "source": [
    "sns.boxplot(data['ceiling_height'])\n",
    "plt.title('Диаграмма размаха высоты потолков')\n",
    "plt.xlabel('Высота потолков, м')\n",
    "plt.xlim(1, 4)\n",
    "plt.show()"
   ]
  },
  {
   "cell_type": "code",
   "execution_count": 45,
   "metadata": {},
   "outputs": [
    {
     "name": "stderr",
     "output_type": "stream",
     "text": [
      "/opt/conda/lib/python3.9/site-packages/seaborn/distributions.py:2557: FutureWarning: `distplot` is a deprecated function and will be removed in a future version. Please adapt your code to use either `displot` (a figure-level function with similar flexibility) or `histplot` (an axes-level function for histograms).\n",
      "  warnings.warn(msg, FutureWarning)\n"
     ]
    },
    {
     "data": {
      "image/png": "[encoded data removed]",
      "text/plain": [
       "<Figure size 432x288 with 1 Axes>"
      ]
     },
     "metadata": {
      "needs_background": "light"
     },
     "output_type": "display_data"
    }
   ],
   "source": [
    "sns.distplot(data['ceiling_height'], kde=False, bins=750, color = 'purple')\n",
    "plt.xlim(2, 3.25)\n",
    "plt.title('Гистограмма высоты потолков')\n",
    "plt.xlabel('Высота потолков, м')\n",
    "_ = plt.ylabel('Частота')"
   ]
  },
  {
   "cell_type": "code",
   "execution_count": 46,
   "metadata": {},
   "outputs": [
    {
     "data": {
      "text/plain": [
       "'Аномальные значения составляют 12.3%'"
      ]
     },
     "execution_count": 46,
     "metadata": {},
     "output_type": "execute_result"
    }
   ],
   "source": [
    "anomalies_ratio('ceiling_height')"
   ]
  },
  {
   "cell_type": "code",
   "execution_count": 47,
   "metadata": {},
   "outputs": [
    {
     "data": {
      "text/plain": [
       "[1.0, 512.5]"
      ]
     },
     "execution_count": 47,
     "metadata": {},
     "output_type": "execute_result"
    }
   ],
   "source": [
    "whiskers('days_exposition')"
   ]
  },
  {
   "cell_type": "code",
   "execution_count": 48,
   "metadata": {},
   "outputs": [
    {
     "name": "stderr",
     "output_type": "stream",
     "text": [
      "/opt/conda/lib/python3.9/site-packages/seaborn/_decorators.py:36: FutureWarning: Pass the following variable as a keyword arg: x. From version 0.12, the only valid positional argument will be `data`, and passing other arguments without an explicit keyword will result in an error or misinterpretation.\n",
      "  warnings.warn(\n"
     ]
    },
    {
     "data": {
      "image/png": "[encoded data removed]",
      "text/plain": [
       "<Figure size 432x288 with 1 Axes>"
      ]
     },
     "metadata": {
      "needs_background": "light"
     },
     "output_type": "display_data"
    }
   ],
   "source": [
    "sns.boxplot(data['days_exposition'])\n",
    "plt.title('Диаграмма размаха срока размещения объявления')\n",
    "plt.xlabel('Срок размещения, дней')\n",
    "_ = plt.xlim(0, 450)"
   ]
  },
  {
   "cell_type": "code",
   "execution_count": 49,
   "metadata": {},
   "outputs": [
    {
     "data": {
      "image/png": "[encoded data removed]",
      "text/plain": [
       "<Figure size 432x288 with 1 Axes>"
      ]
     },
     "metadata": {
      "needs_background": "light"
     },
     "output_type": "display_data"
    }
   ],
   "source": [
    "data.plot(y='days_exposition', \n",
    "    kind='hist',\n",
    "    range=(0, 450), \n",
    "    bins=8)\n",
    "plt.title('Гистограмма срока размещения объявления')\n",
    "plt.xlabel('Срок размещения, дней')\n",
    "_ = plt.ylabel('Частота')"
   ]
  },
  {
   "cell_type": "code",
   "execution_count": 50,
   "metadata": {},
   "outputs": [
    {
     "name": "stdout",
     "output_type": "stream",
     "text": [
      "Доля чистых значений составила: 82%\n"
     ]
    }
   ],
   "source": [
    "#Соберем все аномальные значения в отдельные столбцы\n",
    "data['too_large_area'] = data['total_area'] > whiskers('total_area')[1]\n",
    "data['too_expensive'] = data['last_price'] > whiskers('last_price')[1]\n",
    "data['unusual_ceiling'] = (data['ceiling_height'] > whiskers('ceiling_height')[1]) \\\n",
    "                        | (data['ceiling_height'] < whiskers('ceiling_height')[0])\n",
    "\n",
    "#Составим таблицу с чистыми данными\n",
    "good_data = data[(data['too_large_area'] == False) & \n",
    "     (data['too_expensive'] == False) &\n",
    "     (data['unusual_ceiling'] == False)].reset_index(drop=True)\n",
    "\n",
    "print('Доля чистых значений составила: {:.0%}'. format(len(good_data) / len(data)))"
   ]
  },
  {
   "cell_type": "code",
   "execution_count": 51,
   "metadata": {},
   "outputs": [
    {
     "data": {
      "text/html": [
       "<div>\n",
       "<style scoped>\n",
       "    .dataframe tbody tr th:only-of-type {\n",
       "        vertical-align: middle;\n",
       "    }\n",
       "\n",
       "    .dataframe tbody tr th {\n",
       "        vertical-align: top;\n",
       "    }\n",
       "\n",
       "    .dataframe thead th {\n",
       "        text-align: right;\n",
       "    }\n",
       "</style>\n",
       "<table border=\"1\" class=\"dataframe\">\n",
       "  <thead>\n",
       "    <tr style=\"text-align: right;\">\n",
       "      <th></th>\n",
       "      <th>total_area</th>\n",
       "      <th>last_price</th>\n",
       "      <th>rooms</th>\n",
       "      <th>ceiling_height</th>\n",
       "      <th>days_exposition</th>\n",
       "    </tr>\n",
       "  </thead>\n",
       "  <tbody>\n",
       "    <tr>\n",
       "      <th>count</th>\n",
       "      <td>19272.000000</td>\n",
       "      <td>1.927200e+04</td>\n",
       "      <td>19272.000000</td>\n",
       "      <td>19272.000000</td>\n",
       "      <td>17031.000000</td>\n",
       "    </tr>\n",
       "    <tr>\n",
       "      <th>mean</th>\n",
       "      <td>51.555699</td>\n",
       "      <td>4.623958e+06</td>\n",
       "      <td>1.890826</td>\n",
       "      <td>2.627392</td>\n",
       "      <td>168.349128</td>\n",
       "    </tr>\n",
       "    <tr>\n",
       "      <th>std</th>\n",
       "      <td>16.828101</td>\n",
       "      <td>2.053804e+06</td>\n",
       "      <td>0.857446</td>\n",
       "      <td>0.081316</td>\n",
       "      <td>206.423212</td>\n",
       "    </tr>\n",
       "    <tr>\n",
       "      <th>min</th>\n",
       "      <td>12.000000</td>\n",
       "      <td>1.219000e+04</td>\n",
       "      <td>1.000000</td>\n",
       "      <td>2.450000</td>\n",
       "      <td>1.000000</td>\n",
       "    </tr>\n",
       "    <tr>\n",
       "      <th>25%</th>\n",
       "      <td>38.500000</td>\n",
       "      <td>3.250000e+06</td>\n",
       "      <td>1.000000</td>\n",
       "      <td>2.560000</td>\n",
       "      <td>43.000000</td>\n",
       "    </tr>\n",
       "    <tr>\n",
       "      <th>50%</th>\n",
       "      <td>47.600000</td>\n",
       "      <td>4.281273e+06</td>\n",
       "      <td>2.000000</td>\n",
       "      <td>2.650000</td>\n",
       "      <td>89.000000</td>\n",
       "    </tr>\n",
       "    <tr>\n",
       "      <th>75%</th>\n",
       "      <td>61.700000</td>\n",
       "      <td>5.650000e+06</td>\n",
       "      <td>3.000000</td>\n",
       "      <td>2.650000</td>\n",
       "      <td>212.000000</td>\n",
       "    </tr>\n",
       "    <tr>\n",
       "      <th>max</th>\n",
       "      <td>114.500000</td>\n",
       "      <td>1.180967e+07</td>\n",
       "      <td>6.000000</td>\n",
       "      <td>2.850000</td>\n",
       "      <td>1580.000000</td>\n",
       "    </tr>\n",
       "  </tbody>\n",
       "</table>\n",
       "</div>"
      ],
      "text/plain": [
       "         total_area    last_price         rooms  ceiling_height  \\\n",
       "count  19272.000000  1.927200e+04  19272.000000    19272.000000   \n",
       "mean      51.555699  4.623958e+06      1.890826        2.627392   \n",
       "std       16.828101  2.053804e+06      0.857446        0.081316   \n",
       "min       12.000000  1.219000e+04      1.000000        2.450000   \n",
       "25%       38.500000  3.250000e+06      1.000000        2.560000   \n",
       "50%       47.600000  4.281273e+06      2.000000        2.650000   \n",
       "75%       61.700000  5.650000e+06      3.000000        2.650000   \n",
       "max      114.500000  1.180967e+07      6.000000        2.850000   \n",
       "\n",
       "       days_exposition  \n",
       "count     17031.000000  \n",
       "mean        168.349128  \n",
       "std         206.423212  \n",
       "min           1.000000  \n",
       "25%          43.000000  \n",
       "50%          89.000000  \n",
       "75%         212.000000  \n",
       "max        1580.000000  "
      ]
     },
     "execution_count": 51,
     "metadata": {},
     "output_type": "execute_result"
    }
   ],
   "source": [
    "good_data[['total_area', 'last_price', 'rooms', 'ceiling_height', 'days_exposition']].describe()"
   ]
  },
  {
   "cell_type": "code",
   "execution_count": 52,
   "metadata": {},
   "outputs": [
    {
     "data": {
      "text/plain": [
       "19272"
      ]
     },
     "execution_count": 52,
     "metadata": {},
     "output_type": "execute_result"
    }
   ],
   "source": [
    "good_data.shape[0]"
   ]
  },
  {
   "cell_type": "code",
   "execution_count": 53,
   "metadata": {},
   "outputs": [
    {
     "data": {
      "text/plain": [
       "82.46116982585255"
      ]
     },
     "execution_count": 53,
     "metadata": {},
     "output_type": "execute_result"
    }
   ],
   "source": [
    "good_data.shape[0] / data.shape[0] * 100"
   ]
  },
  {
   "cell_type": "markdown",
   "metadata": {},
   "source": [
    "## Вывод:\n",
    "Исследовав данные, мы теперь можем определить параметры средней квартиры выставленной на продажу:\n",
    "\n",
    "* двухкомнатная квартира;\n",
    "* площадь 52 квадратных метра;\n",
    "* потолки 2.65 метра;\n",
    "* цена 4,76 млн.;\n",
    "\n",
    "Были найдены следующие аномальные значения:\n",
    "\n",
    "* квартиры с 7 и более комнатами;\n",
    "* квартиры с площадями от 150 квадратов (это могут быть пентхаусы и таунхаусы);\n",
    "* низкие потолки до 2 метров и очень большие от 4 метров;\n",
    "* огромные цены в 20,30 и больше млн (хотя в нынешних реалиях это нормально)\n",
    "* квартиры размещенные более года назад \n",
    "\n",
    "Очень долгими продажами можно признать квартиры, объявление у которых висит больше года. Это говорит о завышенной цене, или плохой транспортной доступности, или иной причине. Если квартира продавалась за 30 дней и меньше, то это говорит о низкой цене или о срочности продажи квартиры."
   ]
  },
  {
   "cell_type": "markdown",
   "metadata": {},
   "source": [
    "**Выясним, какие факторы больше всего влияют на общую (полную) стоимость объекта. Построим графики, которые покажут зависимость цены от указанных ниже параметров.**"
   ]
  },
  {
   "cell_type": "code",
   "execution_count": 54,
   "metadata": {},
   "outputs": [
    {
     "name": "stdout",
     "output_type": "stream",
     "text": [
      "<class 'pandas.core.frame.DataFrame'>\n",
      "RangeIndex: 19272 entries, 0 to 19271\n",
      "Data columns (total 31 columns):\n",
      " #   Column                Non-Null Count  Dtype         \n",
      "---  ------                --------------  -----         \n",
      " 0   locality_name         19272 non-null  object        \n",
      " 1   total_area            19272 non-null  float64       \n",
      " 2   living_area           19272 non-null  float64       \n",
      " 3   kitchen_area          17576 non-null  float64       \n",
      " 4   ceiling_height        19272 non-null  float64       \n",
      " 5   rooms                 19272 non-null  int64         \n",
      " 6   balcony               19272 non-null  int64         \n",
      " 7   floor                 19272 non-null  int64         \n",
      " 8   floors_total          19272 non-null  int64         \n",
      " 9   is_apartment          19272 non-null  object        \n",
      " 10  studio                19272 non-null  bool          \n",
      " 11  open_plan             19272 non-null  bool          \n",
      " 12  total_images          19272 non-null  int64         \n",
      " 13  last_price            19272 non-null  int64         \n",
      " 14  first_day_exposition  19272 non-null  datetime64[ns]\n",
      " 15  days_exposition       17031 non-null  float64       \n",
      " 16  citycenter_m          14124 non-null  float64       \n",
      " 17  airports_m            14113 non-null  float64       \n",
      " 18  parks_3km             14124 non-null  float64       \n",
      " 19  parks_nearest_m       5474 non-null   float64       \n",
      " 20  ponds_3km             14124 non-null  float64       \n",
      " 21  ponds_nearest_m       6541 non-null   float64       \n",
      " 22  first_day_year        19272 non-null  int64         \n",
      " 23  price_meter           19272 non-null  float64       \n",
      " 24  day                   19272 non-null  int64         \n",
      " 25  month                 19272 non-null  int64         \n",
      " 26  year                  19272 non-null  int64         \n",
      " 27  flat_floor            19272 non-null  object        \n",
      " 28  too_large_area        19272 non-null  bool          \n",
      " 29  too_expensive         19272 non-null  bool          \n",
      " 30  unusual_ceiling       19272 non-null  bool          \n",
      "dtypes: bool(5), datetime64[ns](1), float64(12), int64(10), object(3)\n",
      "memory usage: 3.9+ MB\n"
     ]
    }
   ],
   "source": [
    "good_data.info()"
   ]
  },
  {
   "cell_type": "code",
   "execution_count": 55,
   "metadata": {},
   "outputs": [
    {
     "data": {
      "image/png": "[encoded data removed]",
      "text/plain": [
       "<Figure size 1440x180 with 8 Axes>"
      ]
     },
     "metadata": {
      "needs_background": "light"
     },
     "output_type": "display_data"
    }
   ],
   "source": [
    "#рассчитаем зависимость цены от параметров (общей площади; жилой площади; площади кухни;\n",
    "#количество комнат; типа этажа, на котором расположена квартира; - даты размещения (день недели, месяц, год);\n",
    "\n",
    "sns.pairplot(good_data, x_vars=['total_area','living_area','kitchen_area','rooms','flat_floor','day','month','year']\\\n",
    "             , y_vars='last_price', diag_kind=\"hist\");"
   ]
  },
  {
   "cell_type": "markdown",
   "metadata": {},
   "source": [
    "***На цену квартиры сильнее всего влияет общая площадь (чем выше площадь, тем выше цена - прямая зависимость) и количество комнат. Сильное предпочтение заметно в двухкомнатных квартирах. Жилая площадь и площадь кухник не влияют на стоимость. Этаж и день подачи объявления также не влияет на цену.***"
   ]
  },
  {
   "cell_type": "code",
   "execution_count": 56,
   "metadata": {},
   "outputs": [
    {
     "data": {
      "text/plain": [
       "<seaborn.axisgrid.PairGrid at 0x7fdd6dfbbc10>"
      ]
     },
     "execution_count": 56,
     "metadata": {},
     "output_type": "execute_result"
    },
    {
     "data": {
      "image/png": "[encoded data removed]",
      "text/plain": [
       "<Figure size 540x180 with 3 Axes>"
      ]
     },
     "metadata": {
      "needs_background": "light"
     },
     "output_type": "display_data"
    }
   ],
   "source": [
    "import seaborn as sns\n",
    "sns.pairplot(good_data, x_vars=['total_area','living_area', 'kitchen_area'], y_vars='last_price', diag_kind=\"hist\")"
   ]
  },
  {
   "cell_type": "markdown",
   "metadata": {},
   "source": [
    "**Посчитаем среднюю цену 1 кв.м. в 10 населённых пунктах с наибольшим числом объявлений. Выделим населённые пункты с самой высокой и низкой стоимостью квадратного метра.**"
   ]
  },
  {
   "cell_type": "code",
   "execution_count": 57,
   "metadata": {},
   "outputs": [
    {
     "data": {
      "text/html": [
       "<div>\n",
       "<style scoped>\n",
       "    .dataframe tbody tr th:only-of-type {\n",
       "        vertical-align: middle;\n",
       "    }\n",
       "\n",
       "    .dataframe tbody tr th {\n",
       "        vertical-align: top;\n",
       "    }\n",
       "\n",
       "    .dataframe thead th {\n",
       "        text-align: right;\n",
       "    }\n",
       "</style>\n",
       "<table border=\"1\" class=\"dataframe\">\n",
       "  <thead>\n",
       "    <tr style=\"text-align: right;\">\n",
       "      <th></th>\n",
       "      <th>count</th>\n",
       "      <th>median</th>\n",
       "      <th>mean</th>\n",
       "    </tr>\n",
       "    <tr>\n",
       "      <th>locality_name</th>\n",
       "      <th></th>\n",
       "      <th></th>\n",
       "      <th></th>\n",
       "    </tr>\n",
       "  </thead>\n",
       "  <tbody>\n",
       "    <tr>\n",
       "      <th>санкт-петербург</th>\n",
       "      <td>11914</td>\n",
       "      <td>101417.770</td>\n",
       "      <td>104544.684853</td>\n",
       "    </tr>\n",
       "    <tr>\n",
       "      <th>поселок мурино</th>\n",
       "      <td>521</td>\n",
       "      <td>84285.710</td>\n",
       "      <td>85035.348330</td>\n",
       "    </tr>\n",
       "    <tr>\n",
       "      <th>поселок шушары</th>\n",
       "      <td>429</td>\n",
       "      <td>76584.510</td>\n",
       "      <td>78271.164662</td>\n",
       "    </tr>\n",
       "    <tr>\n",
       "      <th>всеволожск</th>\n",
       "      <td>375</td>\n",
       "      <td>65789.470</td>\n",
       "      <td>67032.108747</td>\n",
       "    </tr>\n",
       "    <tr>\n",
       "      <th>поселок парголово</th>\n",
       "      <td>322</td>\n",
       "      <td>91984.435</td>\n",
       "      <td>90448.423416</td>\n",
       "    </tr>\n",
       "    <tr>\n",
       "      <th>колпино</th>\n",
       "      <td>315</td>\n",
       "      <td>74733.100</td>\n",
       "      <td>75407.591206</td>\n",
       "    </tr>\n",
       "    <tr>\n",
       "      <th>пушкин</th>\n",
       "      <td>299</td>\n",
       "      <td>98039.220</td>\n",
       "      <td>99659.197826</td>\n",
       "    </tr>\n",
       "    <tr>\n",
       "      <th>гатчина</th>\n",
       "      <td>284</td>\n",
       "      <td>67417.280</td>\n",
       "      <td>68329.851303</td>\n",
       "    </tr>\n",
       "    <tr>\n",
       "      <th>поселок кудрово</th>\n",
       "      <td>280</td>\n",
       "      <td>91666.670</td>\n",
       "      <td>92311.922964</td>\n",
       "    </tr>\n",
       "    <tr>\n",
       "      <th>выборг</th>\n",
       "      <td>205</td>\n",
       "      <td>57608.700</td>\n",
       "      <td>57680.461073</td>\n",
       "    </tr>\n",
       "  </tbody>\n",
       "</table>\n",
       "</div>"
      ],
      "text/plain": [
       "                   count      median           mean\n",
       "locality_name                                      \n",
       "санкт-петербург    11914  101417.770  104544.684853\n",
       "поселок мурино       521   84285.710   85035.348330\n",
       "поселок шушары       429   76584.510   78271.164662\n",
       "всеволожск           375   65789.470   67032.108747\n",
       "поселок парголово    322   91984.435   90448.423416\n",
       "колпино              315   74733.100   75407.591206\n",
       "пушкин               299   98039.220   99659.197826\n",
       "гатчина              284   67417.280   68329.851303\n",
       "поселок кудрово      280   91666.670   92311.922964\n",
       "выборг               205   57608.700   57680.461073"
      ]
     },
     "execution_count": 57,
     "metadata": {},
     "output_type": "execute_result"
    }
   ],
   "source": [
    "median_price_meter = good_data.pivot_table(index='locality_name', values='price_meter', aggfunc=['count', 'median', 'mean'])\n",
    "median_price_meter.columns = ['count', 'median', 'mean']\n",
    "median_price_meter.sort_values('count', ascending=False).head(10)"
   ]
  },
  {
   "cell_type": "markdown",
   "metadata": {},
   "source": [
    "## Вывод:"
   ]
  },
  {
   "cell_type": "markdown",
   "metadata": {},
   "source": [
    "**В Санкт-Петербурге больше всего предложений и средняя цена метра значительно выше всех остальных населенных пунктов. Ну а дешевые квадратные метры стоит искать в Выборге.**"
   ]
  },
  {
   "cell_type": "markdown",
   "metadata": {},
   "source": [
    "Выделим квартиры в Санкт-Петербурге с помощью столбца `locality_name` и вычислим среднюю цену каждого километра. Также опишем, как стоимость объектов зависит от расстояния до центра города."
   ]
  },
  {
   "cell_type": "code",
   "execution_count": 58,
   "metadata": {
    "scrolled": false
   },
   "outputs": [
    {
     "data": {
      "text/html": [
       "<div>\n",
       "<style scoped>\n",
       "    .dataframe tbody tr th:only-of-type {\n",
       "        vertical-align: middle;\n",
       "    }\n",
       "\n",
       "    .dataframe tbody tr th {\n",
       "        vertical-align: top;\n",
       "    }\n",
       "\n",
       "    .dataframe thead th {\n",
       "        text-align: right;\n",
       "    }\n",
       "</style>\n",
       "<table border=\"1\" class=\"dataframe\">\n",
       "  <thead>\n",
       "    <tr style=\"text-align: right;\">\n",
       "      <th></th>\n",
       "      <th>last_price</th>\n",
       "      <th>price_meter</th>\n",
       "    </tr>\n",
       "    <tr>\n",
       "      <th>citycenter_km</th>\n",
       "      <th></th>\n",
       "      <th></th>\n",
       "    </tr>\n",
       "  </thead>\n",
       "  <tbody>\n",
       "    <tr>\n",
       "      <th>0.000</th>\n",
       "      <td>6900000</td>\n",
       "      <td>108163.270</td>\n",
       "    </tr>\n",
       "    <tr>\n",
       "      <th>0.001</th>\n",
       "      <td>7970000</td>\n",
       "      <td>110315.190</td>\n",
       "    </tr>\n",
       "    <tr>\n",
       "      <th>0.002</th>\n",
       "      <td>7865000</td>\n",
       "      <td>113153.845</td>\n",
       "    </tr>\n",
       "    <tr>\n",
       "      <th>0.003</th>\n",
       "      <td>6750000</td>\n",
       "      <td>106911.450</td>\n",
       "    </tr>\n",
       "    <tr>\n",
       "      <th>0.004</th>\n",
       "      <td>6875000</td>\n",
       "      <td>113439.560</td>\n",
       "    </tr>\n",
       "  </tbody>\n",
       "</table>\n",
       "</div>"
      ],
      "text/plain": [
       "               last_price  price_meter\n",
       "citycenter_km                         \n",
       "0.000             6900000   108163.270\n",
       "0.001             7970000   110315.190\n",
       "0.002             7865000   113153.845\n",
       "0.003             6750000   106911.450\n",
       "0.004             6875000   113439.560"
      ]
     },
     "execution_count": 58,
     "metadata": {},
     "output_type": "execute_result"
    }
   ],
   "source": [
    "#выделим центр города\n",
    "data['citycenter_km'] = data['citycenter_m'] / 1000\n",
    "data['citycenter_km'] = data['citycenter_km'].astype('int', errors='ignore')\n",
    "#обновляем чистые данные столбцом с километрами до центра\n",
    "good_data = data[(data['too_large_area'] == False) & \n",
    "     (data['too_expensive'] == False) &\n",
    "     #(data['too_many_rooms'] == False) &\n",
    "     #(data['unusual_ceiling'] == False) &\n",
    "     #(data['too_slow'] == False) &\n",
    "     #(data['too_fast'] == False)].reset_index(drop=True)\n",
    "    (data['unusual_ceiling'] == False)].reset_index(drop=True)\n",
    "good_data.loc[(good_data['locality_name'] == 'санкт-петербург') & (good_data['citycenter_km'].notna()), 'citycenter_km'].apply(round)\n",
    "spb = good_data.query('locality_name == \"санкт-петербург\"')\n",
    "spb_center = spb.pivot_table(index='citycenter_km', values=['price_meter', 'last_price'], aggfunc='median')\n",
    "spb_center.head()"
   ]
  },
  {
   "cell_type": "code",
   "execution_count": 59,
   "metadata": {},
   "outputs": [
    {
     "data": {
      "image/png": "[encoded data removed]",
      "text/plain": [
       "<Figure size 432x288 with 1 Axes>"
      ]
     },
     "metadata": {
      "needs_background": "light"
     },
     "output_type": "display_data"
    }
   ],
   "source": [
    "#построим график зависимости цены от расстояние до центра\n",
    "sns.lineplot(x=spb_center.index, y='last_price', data=spb_center)\n",
    "plt.title('Зависимость ср. цены от расстояния до центра Санкт-Петербурга')\n",
    "plt.ylabel('Цена недвижимости, млн руб.')\n",
    "plt.xlabel('Расстояние до центра, км')\n",
    "plt.show()"
   ]
  },
  {
   "cell_type": "markdown",
   "metadata": {},
   "source": [
    "На графике видно, что цена резко меняется начиная с 8 километра, область с таким радиусом и возьмем за центр города."
   ]
  },
  {
   "cell_type": "code",
   "execution_count": 60,
   "metadata": {},
   "outputs": [],
   "source": [
    "spb_center = good_data[(good_data['citycenter_km'] <= 8) & (good_data['locality_name'] == 'санкт-петербург')]"
   ]
  },
  {
   "cell_type": "markdown",
   "metadata": {},
   "source": [
    "Проанализируем центральную территорию и изучим параметры: площадь, цена, число комнат и высота потолков."
   ]
  },
  {
   "cell_type": "code",
   "execution_count": 61,
   "metadata": {},
   "outputs": [
    {
     "data": {
      "text/html": [
       "<div>\n",
       "<style scoped>\n",
       "    .dataframe tbody tr th:only-of-type {\n",
       "        vertical-align: middle;\n",
       "    }\n",
       "\n",
       "    .dataframe tbody tr th {\n",
       "        vertical-align: top;\n",
       "    }\n",
       "\n",
       "    .dataframe thead th {\n",
       "        text-align: right;\n",
       "    }\n",
       "</style>\n",
       "<table border=\"1\" class=\"dataframe\">\n",
       "  <thead>\n",
       "    <tr style=\"text-align: right;\">\n",
       "      <th></th>\n",
       "      <th>total_area</th>\n",
       "      <th>last_price</th>\n",
       "      <th>rooms</th>\n",
       "      <th>ceiling_height</th>\n",
       "    </tr>\n",
       "  </thead>\n",
       "  <tbody>\n",
       "    <tr>\n",
       "      <th>count</th>\n",
       "      <td>11883.000000</td>\n",
       "      <td>1.188300e+04</td>\n",
       "      <td>11883.000000</td>\n",
       "      <td>11883.000000</td>\n",
       "    </tr>\n",
       "    <tr>\n",
       "      <th>mean</th>\n",
       "      <td>52.573775</td>\n",
       "      <td>5.416613e+06</td>\n",
       "      <td>1.918455</td>\n",
       "      <td>2.630351</td>\n",
       "    </tr>\n",
       "    <tr>\n",
       "      <th>std</th>\n",
       "      <td>17.277582</td>\n",
       "      <td>1.937308e+06</td>\n",
       "      <td>0.870508</td>\n",
       "      <td>0.083546</td>\n",
       "    </tr>\n",
       "    <tr>\n",
       "      <th>min</th>\n",
       "      <td>12.000000</td>\n",
       "      <td>1.219000e+04</td>\n",
       "      <td>1.000000</td>\n",
       "      <td>2.450000</td>\n",
       "    </tr>\n",
       "    <tr>\n",
       "      <th>25%</th>\n",
       "      <td>39.400000</td>\n",
       "      <td>3.990000e+06</td>\n",
       "      <td>1.000000</td>\n",
       "      <td>2.560000</td>\n",
       "    </tr>\n",
       "    <tr>\n",
       "      <th>50%</th>\n",
       "      <td>48.700000</td>\n",
       "      <td>4.950000e+06</td>\n",
       "      <td>2.000000</td>\n",
       "      <td>2.650000</td>\n",
       "    </tr>\n",
       "    <tr>\n",
       "      <th>75%</th>\n",
       "      <td>62.900000</td>\n",
       "      <td>6.450000e+06</td>\n",
       "      <td>3.000000</td>\n",
       "      <td>2.650000</td>\n",
       "    </tr>\n",
       "    <tr>\n",
       "      <th>max</th>\n",
       "      <td>114.300000</td>\n",
       "      <td>1.180967e+07</td>\n",
       "      <td>6.000000</td>\n",
       "      <td>2.850000</td>\n",
       "    </tr>\n",
       "  </tbody>\n",
       "</table>\n",
       "</div>"
      ],
      "text/plain": [
       "         total_area    last_price         rooms  ceiling_height\n",
       "count  11883.000000  1.188300e+04  11883.000000    11883.000000\n",
       "mean      52.573775  5.416613e+06      1.918455        2.630351\n",
       "std       17.277582  1.937308e+06      0.870508        0.083546\n",
       "min       12.000000  1.219000e+04      1.000000        2.450000\n",
       "25%       39.400000  3.990000e+06      1.000000        2.560000\n",
       "50%       48.700000  4.950000e+06      2.000000        2.650000\n",
       "75%       62.900000  6.450000e+06      3.000000        2.650000\n",
       "max      114.300000  1.180967e+07      6.000000        2.850000"
      ]
     },
     "execution_count": 61,
     "metadata": {},
     "output_type": "execute_result"
    }
   ],
   "source": [
    "spb_center[['total_area', 'last_price', 'rooms', 'ceiling_height']].describe()"
   ]
  },
  {
   "cell_type": "markdown",
   "metadata": {},
   "source": [
    "На диагрммах размаха рассмотрим каждый показатель:"
   ]
  },
  {
   "cell_type": "code",
   "execution_count": 62,
   "metadata": {},
   "outputs": [
    {
     "name": "stderr",
     "output_type": "stream",
     "text": [
      "/opt/conda/lib/python3.9/site-packages/seaborn/_decorators.py:36: FutureWarning: Pass the following variable as a keyword arg: x. From version 0.12, the only valid positional argument will be `data`, and passing other arguments without an explicit keyword will result in an error or misinterpretation.\n",
      "  warnings.warn(\n"
     ]
    },
    {
     "data": {
      "image/png": "[encoded data removed]",
      "text/plain": [
       "<Figure size 432x288 with 1 Axes>"
      ]
     },
     "metadata": {
      "needs_background": "light"
     },
     "output_type": "display_data"
    }
   ],
   "source": [
    "sns.boxplot(spb_center['total_area']) #построим диаграмму размаха для площади\n",
    "plt.title('Диаграмма размаха общей площади')\n",
    "plt.xlabel('Общая площадь, кв. м')\n",
    "plt.show()"
   ]
  },
  {
   "cell_type": "code",
   "execution_count": 63,
   "metadata": {},
   "outputs": [
    {
     "name": "stderr",
     "output_type": "stream",
     "text": [
      "/opt/conda/lib/python3.9/site-packages/seaborn/_decorators.py:36: FutureWarning: Pass the following variable as a keyword arg: x. From version 0.12, the only valid positional argument will be `data`, and passing other arguments without an explicit keyword will result in an error or misinterpretation.\n",
      "  warnings.warn(\n"
     ]
    },
    {
     "data": {
      "image/png": "[encoded data removed]",
      "text/plain": [
       "<Figure size 432x288 with 1 Axes>"
      ]
     },
     "metadata": {
      "needs_background": "light"
     },
     "output_type": "display_data"
    }
   ],
   "source": [
    "sns.boxplot(spb_center['last_price']) #построим диаграмму размаха для цены\n",
    "plt.title('Диаграмма размаха цены квартиры')\n",
    "plt.xlabel('Цена, 10 млн рублей')\n",
    "plt.show()"
   ]
  },
  {
   "cell_type": "code",
   "execution_count": 64,
   "metadata": {},
   "outputs": [
    {
     "name": "stderr",
     "output_type": "stream",
     "text": [
      "/opt/conda/lib/python3.9/site-packages/seaborn/_decorators.py:36: FutureWarning: Pass the following variable as a keyword arg: x. From version 0.12, the only valid positional argument will be `data`, and passing other arguments without an explicit keyword will result in an error or misinterpretation.\n",
      "  warnings.warn(\n"
     ]
    },
    {
     "data": {
      "image/png": "[encoded data removed]",
      "text/plain": [
       "<Figure size 432x288 with 1 Axes>"
      ]
     },
     "metadata": {
      "needs_background": "light"
     },
     "output_type": "display_data"
    }
   ],
   "source": [
    "sns.boxplot(spb_center['rooms']) #построим диаграмму размаха для числа комнат\n",
    "plt.title('Диаграмма размаха числа комнат')\n",
    "plt.xlabel('Число комнат, шт.')\n",
    "plt.show()"
   ]
  },
  {
   "cell_type": "code",
   "execution_count": 65,
   "metadata": {},
   "outputs": [
    {
     "name": "stderr",
     "output_type": "stream",
     "text": [
      "/opt/conda/lib/python3.9/site-packages/seaborn/_decorators.py:36: FutureWarning: Pass the following variable as a keyword arg: x. From version 0.12, the only valid positional argument will be `data`, and passing other arguments without an explicit keyword will result in an error or misinterpretation.\n",
      "  warnings.warn(\n"
     ]
    },
    {
     "data": {
      "image/png": "[encoded data removed]",
      "text/plain": [
       "<Figure size 432x288 with 1 Axes>"
      ]
     },
     "metadata": {
      "needs_background": "light"
     },
     "output_type": "display_data"
    }
   ],
   "source": [
    "sns.boxplot(spb_center['ceiling_height']) #построим диаграмму размаха для высоты потолков\n",
    "plt.title('Диаграмма размаха высоты потолков')\n",
    "plt.xlabel('Высота потолков, метры')\n",
    "plt.show()"
   ]
  },
  {
   "cell_type": "code",
   "execution_count": 66,
   "metadata": {},
   "outputs": [
    {
     "data": {
      "text/html": [
       "<style  type=\"text/css\" >\n",
       "#T_fa340_row0_col0,#T_fa340_row1_col1,#T_fa340_row2_col2,#T_fa340_row3_col3,#T_fa340_row4_col4,#T_fa340_row5_col5,#T_fa340_row6_col6{\n",
       "            background-color:  #b40426;\n",
       "            color:  #f1f1f1;\n",
       "        }#T_fa340_row0_col1{\n",
       "            background-color:  #ead5c9;\n",
       "            color:  #000000;\n",
       "        }#T_fa340_row0_col2{\n",
       "            background-color:  #8db0fe;\n",
       "            color:  #000000;\n",
       "        }#T_fa340_row0_col3,#T_fa340_row1_col2,#T_fa340_row2_col1,#T_fa340_row3_col0,#T_fa340_row3_col4,#T_fa340_row5_col6,#T_fa340_row6_col5{\n",
       "            background-color:  #3b4cc0;\n",
       "            color:  #f1f1f1;\n",
       "        }#T_fa340_row0_col4,#T_fa340_row1_col4,#T_fa340_row5_col4{\n",
       "            background-color:  #3e51c5;\n",
       "            color:  #f1f1f1;\n",
       "        }#T_fa340_row0_col5,#T_fa340_row4_col0,#T_fa340_row4_col5{\n",
       "            background-color:  #80a3fa;\n",
       "            color:  #000000;\n",
       "        }#T_fa340_row0_col6{\n",
       "            background-color:  #89acfd;\n",
       "            color:  #000000;\n",
       "        }#T_fa340_row1_col0{\n",
       "            background-color:  #f1cdba;\n",
       "            color:  #000000;\n",
       "        }#T_fa340_row1_col3{\n",
       "            background-color:  #6e90f2;\n",
       "            color:  #000000;\n",
       "        }#T_fa340_row1_col5,#T_fa340_row3_col5,#T_fa340_row5_col0,#T_fa340_row5_col3{\n",
       "            background-color:  #81a4fb;\n",
       "            color:  #000000;\n",
       "        }#T_fa340_row1_col6{\n",
       "            background-color:  #799cf8;\n",
       "            color:  #000000;\n",
       "        }#T_fa340_row2_col0{\n",
       "            background-color:  #a5c3fe;\n",
       "            color:  #000000;\n",
       "        }#T_fa340_row2_col3{\n",
       "            background-color:  #adc9fd;\n",
       "            color:  #000000;\n",
       "        }#T_fa340_row2_col4{\n",
       "            background-color:  #445acc;\n",
       "            color:  #f1f1f1;\n",
       "        }#T_fa340_row2_col5,#T_fa340_row4_col6{\n",
       "            background-color:  #82a6fb;\n",
       "            color:  #000000;\n",
       "        }#T_fa340_row2_col6{\n",
       "            background-color:  #84a7fc;\n",
       "            color:  #000000;\n",
       "        }#T_fa340_row3_col1{\n",
       "            background-color:  #536edd;\n",
       "            color:  #000000;\n",
       "        }#T_fa340_row3_col2{\n",
       "            background-color:  #97b8ff;\n",
       "            color:  #000000;\n",
       "        }#T_fa340_row3_col6{\n",
       "            background-color:  #93b5fe;\n",
       "            color:  #000000;\n",
       "        }#T_fa340_row4_col1{\n",
       "            background-color:  #6687ed;\n",
       "            color:  #000000;\n",
       "        }#T_fa340_row4_col2{\n",
       "            background-color:  #6b8df0;\n",
       "            color:  #000000;\n",
       "        }#T_fa340_row4_col3{\n",
       "            background-color:  #7da0f9;\n",
       "            color:  #000000;\n",
       "        }#T_fa340_row5_col1{\n",
       "            background-color:  #6788ee;\n",
       "            color:  #000000;\n",
       "        }#T_fa340_row5_col2{\n",
       "            background-color:  #688aef;\n",
       "            color:  #000000;\n",
       "        }#T_fa340_row6_col0{\n",
       "            background-color:  #8badfd;\n",
       "            color:  #000000;\n",
       "        }#T_fa340_row6_col1{\n",
       "            background-color:  #5e7de7;\n",
       "            color:  #000000;\n",
       "        }#T_fa340_row6_col2{\n",
       "            background-color:  #6a8bef;\n",
       "            color:  #000000;\n",
       "        }#T_fa340_row6_col3{\n",
       "            background-color:  #94b6ff;\n",
       "            color:  #000000;\n",
       "        }#T_fa340_row6_col4{\n",
       "            background-color:  #4055c8;\n",
       "            color:  #f1f1f1;\n",
       "        }</style><table id=\"T_fa340_\" ><thead>    <tr>        <th class=\"blank level0\" ></th>        <th class=\"col_heading level0 col0\" >last_price</th>        <th class=\"col_heading level0 col1\" >rooms</th>        <th class=\"col_heading level0 col2\" >floor</th>        <th class=\"col_heading level0 col3\" >citycenter_m</th>        <th class=\"col_heading level0 col4\" >day</th>        <th class=\"col_heading level0 col5\" >month</th>        <th class=\"col_heading level0 col6\" >year</th>    </tr></thead><tbody>\n",
       "                <tr>\n",
       "                        <th id=\"T_fa340_level0_row0\" class=\"row_heading level0 row0\" >last_price</th>\n",
       "                        <td id=\"T_fa340_row0_col0\" class=\"data row0 col0\" >1.000000</td>\n",
       "                        <td id=\"T_fa340_row0_col1\" class=\"data row0 col1\" >0.480176</td>\n",
       "                        <td id=\"T_fa340_row0_col2\" class=\"data row0 col2\" >0.127496</td>\n",
       "                        <td id=\"T_fa340_row0_col3\" class=\"data row0 col3\" >-0.277144</td>\n",
       "                        <td id=\"T_fa340_row0_col4\" class=\"data row0 col4\" >-0.002830</td>\n",
       "                        <td id=\"T_fa340_row0_col5\" class=\"data row0 col5\" >-0.001769</td>\n",
       "                        <td id=\"T_fa340_row0_col6\" class=\"data row0 col6\" >0.032612</td>\n",
       "            </tr>\n",
       "            <tr>\n",
       "                        <th id=\"T_fa340_level0_row1\" class=\"row_heading level0 row1\" >rooms</th>\n",
       "                        <td id=\"T_fa340_row1_col0\" class=\"data row1 col0\" >0.480176</td>\n",
       "                        <td id=\"T_fa340_row1_col1\" class=\"data row1 col1\" >1.000000</td>\n",
       "                        <td id=\"T_fa340_row1_col2\" class=\"data row1 col2\" >-0.163951</td>\n",
       "                        <td id=\"T_fa340_row1_col3\" class=\"data row1 col3\" >-0.068485</td>\n",
       "                        <td id=\"T_fa340_row1_col4\" class=\"data row1 col4\" >-0.003298</td>\n",
       "                        <td id=\"T_fa340_row1_col5\" class=\"data row1 col5\" >0.001820</td>\n",
       "                        <td id=\"T_fa340_row1_col6\" class=\"data row1 col6\" >-0.028654</td>\n",
       "            </tr>\n",
       "            <tr>\n",
       "                        <th id=\"T_fa340_level0_row2\" class=\"row_heading level0 row2\" >floor</th>\n",
       "                        <td id=\"T_fa340_row2_col0\" class=\"data row2 col0\" >0.127496</td>\n",
       "                        <td id=\"T_fa340_row2_col1\" class=\"data row2 col1\" >-0.163951</td>\n",
       "                        <td id=\"T_fa340_row2_col2\" class=\"data row2 col2\" >1.000000</td>\n",
       "                        <td id=\"T_fa340_row2_col3\" class=\"data row2 col3\" >0.161466</td>\n",
       "                        <td id=\"T_fa340_row2_col4\" class=\"data row2 col4\" >0.015015</td>\n",
       "                        <td id=\"T_fa340_row2_col5\" class=\"data row2 col5\" >0.007470</td>\n",
       "                        <td id=\"T_fa340_row2_col6\" class=\"data row2 col6\" >0.009953</td>\n",
       "            </tr>\n",
       "            <tr>\n",
       "                        <th id=\"T_fa340_level0_row3\" class=\"row_heading level0 row3\" >citycenter_m</th>\n",
       "                        <td id=\"T_fa340_row3_col0\" class=\"data row3 col0\" >-0.277144</td>\n",
       "                        <td id=\"T_fa340_row3_col1\" class=\"data row3 col1\" >-0.068485</td>\n",
       "                        <td id=\"T_fa340_row3_col2\" class=\"data row3 col2\" >0.161466</td>\n",
       "                        <td id=\"T_fa340_row3_col3\" class=\"data row3 col3\" >1.000000</td>\n",
       "                        <td id=\"T_fa340_row3_col4\" class=\"data row3 col4\" >-0.017042</td>\n",
       "                        <td id=\"T_fa340_row3_col5\" class=\"data row3 col5\" >0.000509</td>\n",
       "                        <td id=\"T_fa340_row3_col6\" class=\"data row3 col6\" >0.068036</td>\n",
       "            </tr>\n",
       "            <tr>\n",
       "                        <th id=\"T_fa340_level0_row4\" class=\"row_heading level0 row4\" >day</th>\n",
       "                        <td id=\"T_fa340_row4_col0\" class=\"data row4 col0\" >-0.002830</td>\n",
       "                        <td id=\"T_fa340_row4_col1\" class=\"data row4 col1\" >-0.003298</td>\n",
       "                        <td id=\"T_fa340_row4_col2\" class=\"data row4 col2\" >0.015015</td>\n",
       "                        <td id=\"T_fa340_row4_col3\" class=\"data row4 col3\" >-0.017042</td>\n",
       "                        <td id=\"T_fa340_row4_col4\" class=\"data row4 col4\" >1.000000</td>\n",
       "                        <td id=\"T_fa340_row4_col5\" class=\"data row4 col5\" >-0.002723</td>\n",
       "                        <td id=\"T_fa340_row4_col6\" class=\"data row4 col6\" >0.005953</td>\n",
       "            </tr>\n",
       "            <tr>\n",
       "                        <th id=\"T_fa340_level0_row5\" class=\"row_heading level0 row5\" >month</th>\n",
       "                        <td id=\"T_fa340_row5_col0\" class=\"data row5 col0\" >-0.001769</td>\n",
       "                        <td id=\"T_fa340_row5_col1\" class=\"data row5 col1\" >0.001820</td>\n",
       "                        <td id=\"T_fa340_row5_col2\" class=\"data row5 col2\" >0.007470</td>\n",
       "                        <td id=\"T_fa340_row5_col3\" class=\"data row5 col3\" >0.000509</td>\n",
       "                        <td id=\"T_fa340_row5_col4\" class=\"data row5 col4\" >-0.002723</td>\n",
       "                        <td id=\"T_fa340_row5_col5\" class=\"data row5 col5\" >1.000000</td>\n",
       "                        <td id=\"T_fa340_row5_col6\" class=\"data row5 col6\" >-0.275126</td>\n",
       "            </tr>\n",
       "            <tr>\n",
       "                        <th id=\"T_fa340_level0_row6\" class=\"row_heading level0 row6\" >year</th>\n",
       "                        <td id=\"T_fa340_row6_col0\" class=\"data row6 col0\" >0.032612</td>\n",
       "                        <td id=\"T_fa340_row6_col1\" class=\"data row6 col1\" >-0.028654</td>\n",
       "                        <td id=\"T_fa340_row6_col2\" class=\"data row6 col2\" >0.009953</td>\n",
       "                        <td id=\"T_fa340_row6_col3\" class=\"data row6 col3\" >0.068036</td>\n",
       "                        <td id=\"T_fa340_row6_col4\" class=\"data row6 col4\" >0.005953</td>\n",
       "                        <td id=\"T_fa340_row6_col5\" class=\"data row6 col5\" >-0.275126</td>\n",
       "                        <td id=\"T_fa340_row6_col6\" class=\"data row6 col6\" >1.000000</td>\n",
       "            </tr>\n",
       "    </tbody></table>"
      ],
      "text/plain": [
       "<pandas.io.formats.style.Styler at 0x7fdd6e453940>"
      ]
     },
     "execution_count": 66,
     "metadata": {},
     "output_type": "execute_result"
    }
   ],
   "source": [
    "#выделим факторы, которые влияют на стоимость квартиры в центре \"Санкт-Петербурга\"\n",
    "corr = spb_center[['last_price',\\\n",
    "           'rooms',\\\n",
    "           'floor',\\\n",
    "           'citycenter_m',\\\n",
    "           'day',\\\n",
    "           'month',\\\n",
    "            'year'    \n",
    "               ]].corr()\n",
    "corr.style.background_gradient(cmap='coolwarm')"
   ]
  },
  {
   "cell_type": "markdown",
   "metadata": {},
   "source": [
    "**Вывод:** В ходе исследовательской работы была определена средняя квартира, выставленная на продажу в центре Санкт-Петербурге. Рассмотрев полученные характеристики, можно сделать вывод, что в центре немного больше размеры квартир и цена превышает среднюю по общим данным.\\\n",
    "\\\n",
    "Можно отметить довольно сильную зависимость стоимости квартир от количества комнат и этажа. Также можно проследить зависимость от расстояния до центра, с удалением соответственно будет падать и цена."
   ]
  },
  {
   "cell_type": "markdown",
   "metadata": {},
   "source": [
    "# Общий вывод"
   ]
  },
  {
   "cell_type": "markdown",
   "metadata": {},
   "source": [
    "Был проведен ряд исследований, и можно сказать какие параметры влияют на определение рыночной стоимости квартиры.\n",
    "\n",
    "* общая площадь (50-60 кв.м. - золотая середина для квартир)\n",
    "* число комнат (2-комнатные квартиры самые популярные)\n",
    "* этаж квартиры (людям все также не нравятся первый и последний этажи)\n",
    "* расстояние от центра города (повышенный спрос на квартиры ближе к центру)\\\n",
    "\\\n",
    "Выявленные аномалии:\n",
    "1) необходимо выработать алгоритм, который не позволит вводить завышенные или заниженные значения для пользователя сайта. Это особенно касается высоты потолков и количества комнат в квартире.\n",
    "2) Также необходимо отдельно проанализировать, что приводит к задержки на годы продажи части квартир, возможно разработать какие-то подсказки при заполнении, что поможет продавцу качественне заполнить данные и указать цену более реальную на сегодняшний день.\n",
    "3) Квартиры, которые продавались за пару дней, стоит проверить, возможно это мошеннические действия, либо продавцы передумали продавать их, тогда узнать по какой причине."
   ]
  },
  {
   "cell_type": "markdown",
   "metadata": {},
   "source": [
    "**Чек-лист готовности проекта**\n",
    "\n",
    "Поставьте 'x' в выполненных пунктах. Далее нажмите Shift+Enter."
   ]
  },
  {
   "cell_type": "markdown",
   "metadata": {},
   "source": [
    "- [x]  открыт файл\n",
    "- [x]  файлы изучены (выведены первые строки, метод `info()`, гистограммы и т.д.)\n",
    "- [x]  определены пропущенные значения\n",
    "- [x]  заполнены пропущенные значения там, где это возможно\n",
    "- [x]  есть пояснение, какие пропущенные значения обнаружены\n",
    "- [x]  изменены типы данных\n",
    "- [x]  есть пояснение, в каких столбцах изменены типы и почему\n",
    "- [x]  устранены неявные дубликаты в названиях населённых пунктов\n",
    "- [x]  устранены редкие и выбивающиеся значения (аномалии) во всех столбцах\n",
    "- [x]  посчитано и добавлено в таблицу: цена одного квадратного метра\n",
    "- [x]  посчитано и добавлено в таблицу: день публикации объявления (0 - понедельник, 1 - вторник и т.д.)\n",
    "- [x]  посчитано и добавлено в таблицу: месяц публикации объявления\n",
    "- [x]  посчитано и добавлено в таблицу: год публикации объявления\n",
    "- [x]  посчитано и добавлено в таблицу: тип этажа квартиры (значения — «первый», «последний», «другой»)\n",
    "- [x]  посчитано и добавлено в таблицу: расстояние в км до центра города\n",
    "- [x]  изучены и описаны следующие параметры:\n",
    "        - общая площадь;\n",
    "        - жилая площадь;\n",
    "        - площадь кухни;\n",
    "        - цена объекта;\n",
    "        - количество комнат;\n",
    "        - высота потолков;\n",
    "        - этаж квартиры;\n",
    "        - тип этажа квартиры («первый», «последний», «другой»);\n",
    "        - общее количество этажей в доме;\n",
    "        - расстояние до центра города в метрах;\n",
    "        - расстояние до ближайшего аэропорта;\n",
    "        - расстояние до ближайшего парка;\n",
    "        - день и месяц публикации объявления\n",
    "- [x]  построены гистограммы для каждого параметра\n",
    "- [x]  выполнено задание: \"Изучите, как быстро продавались квартиры (столбец days_exposition). Этот параметр показывает, сколько дней «висело» каждое объявление.\n",
    "    - Постройте гистограмму.\n",
    "    - Посчитайте среднее и медиану.\n",
    "    - В ячейке типа markdown опишите, сколько обычно занимает продажа. Какие продажи можно считать быстрыми, а какие — необычно долгими?\"\n",
    "- [x]  выполнено задание: \"Какие факторы больше всего влияют на общую (полную) стоимость объекта? Постройте графики, которые покажут зависимость цены от указанных ниже параметров. Для подготовки данных перед визуализацией вы можете использовать сводные таблицы.\"\n",
    "        - общей площади;\n",
    "        - жилой площади;\n",
    "        - площади кухни;\n",
    "        - количество комнат;\n",
    "        - типа этажа, на котором расположена квартира (первый, последний, другой);\n",
    "        - даты размещения (день недели, месяц, год);\n",
    "- [x]  выполнено задание: \"Посчитайте среднюю цену одного квадратного метра в 10 населённых пунктах с наибольшим числом объявлений. Выделите населённые пункты с самой высокой и низкой стоимостью квадратного метра. Эти данные можно найти по имени в столбце `locality_name`.\"\n",
    "- [x]  выполнено задание: \"Ранее вы посчитали расстояние до центра в километрах. Теперь выделите квартиры в Санкт-Петербурге с помощью столбца `locality_name` и вычислите среднюю цену каждого километра. Опишите, как стоимость объектов зависит от расстояния до центра города.\"\n",
    "- [x]  в каждом этапе есть промежуточные выводы\n",
    "- [x]  есть общий вывод"
   ]
  }
 ],
 "metadata": {
  "ExecuteTimeLog": [
   {
    "duration": 4,
    "start_time": "2023-07-24T20:18:30.707Z"
   },
   {
    "duration": 3,
    "start_time": "2023-07-24T20:18:33.997Z"
   },
   {
    "duration": 1187,
    "start_time": "2023-07-24T20:25:44.105Z"
   },
   {
    "duration": 100,
    "start_time": "2023-07-24T20:29:16.692Z"
   },
   {
    "duration": 110,
    "start_time": "2023-07-24T20:29:49.299Z"
   },
   {
    "duration": 94,
    "start_time": "2023-07-24T20:30:53.416Z"
   },
   {
    "duration": 129,
    "start_time": "2023-07-24T20:30:59.455Z"
   },
   {
    "duration": 891,
    "start_time": "2023-07-25T13:55:04.238Z"
   },
   {
    "duration": 123,
    "start_time": "2023-07-25T13:58:01.916Z"
   },
   {
    "duration": 130,
    "start_time": "2023-07-25T14:06:51.135Z"
   },
   {
    "duration": 124,
    "start_time": "2023-07-25T14:06:54.909Z"
   },
   {
    "duration": 135,
    "start_time": "2023-07-25T18:33:11.633Z"
   },
   {
    "duration": 117,
    "start_time": "2023-07-25T18:40:31.178Z"
   },
   {
    "duration": 106,
    "start_time": "2023-07-25T18:40:46.713Z"
   },
   {
    "duration": 106,
    "start_time": "2023-07-25T18:47:56.905Z"
   },
   {
    "duration": 150,
    "start_time": "2023-07-25T18:48:27.307Z"
   },
   {
    "duration": 85,
    "start_time": "2023-07-25T18:48:34.515Z"
   },
   {
    "duration": 117,
    "start_time": "2023-07-25T18:53:18.549Z"
   },
   {
    "duration": 607,
    "start_time": "2023-07-25T18:55:45.414Z"
   },
   {
    "duration": 158,
    "start_time": "2023-07-25T18:56:01.139Z"
   },
   {
    "duration": 107,
    "start_time": "2023-07-25T18:56:07.411Z"
   },
   {
    "duration": 132,
    "start_time": "2023-07-25T18:56:16.421Z"
   },
   {
    "duration": 127,
    "start_time": "2023-07-25T18:56:44.203Z"
   },
   {
    "duration": 752,
    "start_time": "2023-07-25T18:59:40.251Z"
   },
   {
    "duration": 120,
    "start_time": "2023-07-25T19:00:31.606Z"
   },
   {
    "duration": 156,
    "start_time": "2023-07-25T19:02:25.435Z"
   },
   {
    "duration": 162,
    "start_time": "2023-07-25T19:02:43.893Z"
   },
   {
    "duration": 209,
    "start_time": "2023-07-25T19:02:51.909Z"
   },
   {
    "duration": 151,
    "start_time": "2023-07-25T19:03:41.442Z"
   },
   {
    "duration": 171,
    "start_time": "2023-07-25T19:03:57.759Z"
   },
   {
    "duration": 2682,
    "start_time": "2023-07-25T19:06:42.512Z"
   },
   {
    "duration": 145,
    "start_time": "2023-07-25T19:07:16.201Z"
   },
   {
    "duration": 2403,
    "start_time": "2023-07-25T19:08:26.886Z"
   },
   {
    "duration": 10,
    "start_time": "2023-07-25T19:18:21.301Z"
   },
   {
    "duration": 133,
    "start_time": "2023-07-25T19:20:15.110Z"
   },
   {
    "duration": 126,
    "start_time": "2023-07-25T19:20:16.324Z"
   },
   {
    "duration": 6,
    "start_time": "2023-07-25T19:21:09.806Z"
   },
   {
    "duration": 2490,
    "start_time": "2023-07-25T19:21:51.357Z"
   },
   {
    "duration": 7,
    "start_time": "2023-07-25T19:22:00.238Z"
   },
   {
    "duration": 9,
    "start_time": "2023-07-25T19:22:08.263Z"
   },
   {
    "duration": 5,
    "start_time": "2023-07-25T19:22:16.527Z"
   },
   {
    "duration": 91,
    "start_time": "2023-07-26T13:19:51.426Z"
   },
   {
    "duration": 220,
    "start_time": "2023-07-26T13:20:24.845Z"
   },
   {
    "duration": 27,
    "start_time": "2023-07-26T13:20:45.963Z"
   },
   {
    "duration": 20,
    "start_time": "2023-07-26T13:20:56.632Z"
   },
   {
    "duration": 6,
    "start_time": "2023-07-26T13:21:12.090Z"
   },
   {
    "duration": 16,
    "start_time": "2023-07-26T13:21:19.225Z"
   },
   {
    "duration": 970,
    "start_time": "2023-07-26T13:21:25.694Z"
   },
   {
    "duration": 2351,
    "start_time": "2023-07-26T13:21:26.666Z"
   },
   {
    "duration": 19,
    "start_time": "2023-07-26T13:21:29.018Z"
   },
   {
    "duration": 4,
    "start_time": "2023-07-26T13:21:32.444Z"
   },
   {
    "duration": 9,
    "start_time": "2023-07-26T13:21:36.533Z"
   },
   {
    "duration": 6,
    "start_time": "2023-07-26T13:21:49.877Z"
   },
   {
    "duration": 4,
    "start_time": "2023-07-26T13:22:01.771Z"
   },
   {
    "duration": 2180,
    "start_time": "2023-07-26T13:26:16.776Z"
   },
   {
    "duration": 565,
    "start_time": "2023-07-26T13:29:33.468Z"
   },
   {
    "duration": 7,
    "start_time": "2023-07-26T13:33:26.322Z"
   },
   {
    "duration": 10,
    "start_time": "2023-07-26T13:33:36.250Z"
   },
   {
    "duration": 10,
    "start_time": "2023-07-26T13:33:52.269Z"
   },
   {
    "duration": 11,
    "start_time": "2023-07-26T13:34:00.695Z"
   },
   {
    "duration": 146,
    "start_time": "2023-07-26T13:34:10.839Z"
   },
   {
    "duration": 172,
    "start_time": "2023-07-26T13:34:13.974Z"
   },
   {
    "duration": 159,
    "start_time": "2023-07-26T13:34:15.536Z"
   },
   {
    "duration": 1914,
    "start_time": "2023-07-26T13:34:16.748Z"
   },
   {
    "duration": 10,
    "start_time": "2023-07-26T13:34:18.665Z"
   },
   {
    "duration": 12,
    "start_time": "2023-07-26T13:34:20.276Z"
   },
   {
    "duration": 5,
    "start_time": "2023-07-26T13:34:28.975Z"
   },
   {
    "duration": 10,
    "start_time": "2023-07-26T13:34:32.564Z"
   },
   {
    "duration": 8,
    "start_time": "2023-07-26T13:34:45.467Z"
   },
   {
    "duration": 14,
    "start_time": "2023-07-26T13:35:11.095Z"
   },
   {
    "duration": 8,
    "start_time": "2023-07-26T13:35:16.969Z"
   },
   {
    "duration": 130,
    "start_time": "2023-07-26T13:35:48.426Z"
   },
   {
    "duration": 1897,
    "start_time": "2023-07-26T13:35:49.967Z"
   },
   {
    "duration": 8,
    "start_time": "2023-07-26T13:35:51.866Z"
   },
   {
    "duration": 5,
    "start_time": "2023-07-26T13:35:53.370Z"
   },
   {
    "duration": 8,
    "start_time": "2023-07-26T13:35:54.442Z"
   },
   {
    "duration": 3,
    "start_time": "2023-07-26T13:36:01.657Z"
   },
   {
    "duration": 6,
    "start_time": "2023-07-26T13:36:09.447Z"
   },
   {
    "duration": 8,
    "start_time": "2023-07-26T13:36:15.558Z"
   },
   {
    "duration": 139,
    "start_time": "2023-07-26T13:36:41.341Z"
   },
   {
    "duration": 1970,
    "start_time": "2023-07-26T13:36:44.889Z"
   },
   {
    "duration": 37,
    "start_time": "2023-07-26T13:36:46.888Z"
   },
   {
    "duration": 4,
    "start_time": "2023-07-26T13:36:47.958Z"
   },
   {
    "duration": 21,
    "start_time": "2023-07-26T13:37:02.092Z"
   },
   {
    "duration": 28,
    "start_time": "2023-07-26T13:37:03.516Z"
   },
   {
    "duration": 7,
    "start_time": "2023-07-26T13:37:04.059Z"
   },
   {
    "duration": 8,
    "start_time": "2023-07-26T13:37:04.453Z"
   },
   {
    "duration": 7,
    "start_time": "2023-07-26T13:37:04.743Z"
   },
   {
    "duration": 17,
    "start_time": "2023-07-26T13:37:05.025Z"
   },
   {
    "duration": 14,
    "start_time": "2023-07-26T13:37:05.199Z"
   },
   {
    "duration": 10,
    "start_time": "2023-07-26T13:37:05.441Z"
   },
   {
    "duration": 12,
    "start_time": "2023-07-26T13:37:05.629Z"
   },
   {
    "duration": 133,
    "start_time": "2023-07-26T13:37:17.142Z"
   },
   {
    "duration": 255,
    "start_time": "2023-07-26T13:37:29.017Z"
   },
   {
    "duration": 122,
    "start_time": "2023-07-26T13:37:29.357Z"
   },
   {
    "duration": 158,
    "start_time": "2023-07-26T13:37:29.667Z"
   },
   {
    "duration": 194,
    "start_time": "2023-07-26T13:37:30.525Z"
   },
   {
    "duration": 2051,
    "start_time": "2023-07-26T13:37:31.098Z"
   },
   {
    "duration": 13,
    "start_time": "2023-07-26T13:37:33.152Z"
   },
   {
    "duration": 6,
    "start_time": "2023-07-26T13:37:33.978Z"
   },
   {
    "duration": 8,
    "start_time": "2023-07-26T13:37:49.276Z"
   },
   {
    "duration": 6,
    "start_time": "2023-07-26T13:38:00.490Z"
   },
   {
    "duration": 7,
    "start_time": "2023-07-26T13:38:10.390Z"
   },
   {
    "duration": 11,
    "start_time": "2023-07-26T13:38:15.730Z"
   },
   {
    "duration": 130,
    "start_time": "2023-07-26T13:38:22.933Z"
   },
   {
    "duration": 1872,
    "start_time": "2023-07-26T13:38:23.945Z"
   },
   {
    "duration": 13,
    "start_time": "2023-07-26T13:38:26.042Z"
   },
   {
    "duration": 4,
    "start_time": "2023-07-26T13:38:27.143Z"
   },
   {
    "duration": 5,
    "start_time": "2023-07-26T13:38:33.077Z"
   },
   {
    "duration": 7,
    "start_time": "2023-07-26T13:38:40.352Z"
   },
   {
    "duration": 0,
    "start_time": "2023-07-26T13:40:09.481Z"
   },
   {
    "duration": 2218,
    "start_time": "2023-07-26T13:40:10.973Z"
   },
   {
    "duration": 11,
    "start_time": "2023-07-26T13:40:22.040Z"
   },
   {
    "duration": 23,
    "start_time": "2023-07-26T13:40:51.023Z"
   },
   {
    "duration": 3534,
    "start_time": "2023-07-26T13:41:14.624Z"
   },
   {
    "duration": 6,
    "start_time": "2023-07-26T13:41:28.745Z"
   },
   {
    "duration": 6,
    "start_time": "2023-07-26T13:41:58.883Z"
   },
   {
    "duration": 13,
    "start_time": "2023-07-26T13:43:55.279Z"
   },
   {
    "duration": 14,
    "start_time": "2023-07-26T13:44:06.343Z"
   },
   {
    "duration": 9,
    "start_time": "2023-07-26T13:44:09.644Z"
   },
   {
    "duration": 21,
    "start_time": "2023-07-26T13:44:11.724Z"
   },
   {
    "duration": 6,
    "start_time": "2023-07-26T13:44:24.190Z"
   },
   {
    "duration": 18,
    "start_time": "2023-07-26T13:44:43.680Z"
   },
   {
    "duration": 11,
    "start_time": "2023-07-26T13:44:59.742Z"
   },
   {
    "duration": 16,
    "start_time": "2023-07-26T13:45:10.234Z"
   },
   {
    "duration": 15,
    "start_time": "2023-07-26T13:45:22.344Z"
   },
   {
    "duration": 7,
    "start_time": "2023-07-26T13:48:01.885Z"
   },
   {
    "duration": 18,
    "start_time": "2023-07-26T13:48:12.924Z"
   },
   {
    "duration": 8,
    "start_time": "2023-07-26T13:49:23.253Z"
   },
   {
    "duration": 16,
    "start_time": "2023-07-26T13:49:28.817Z"
   },
   {
    "duration": 10,
    "start_time": "2023-07-26T13:52:55.338Z"
   },
   {
    "duration": 3696,
    "start_time": "2023-07-26T13:53:18.365Z"
   },
   {
    "duration": 3465,
    "start_time": "2023-07-26T13:53:23.525Z"
   },
   {
    "duration": 9,
    "start_time": "2023-07-26T13:53:43.673Z"
   },
   {
    "duration": 3026,
    "start_time": "2023-07-26T13:53:48.325Z"
   },
   {
    "duration": 10,
    "start_time": "2023-07-26T13:53:58.742Z"
   },
   {
    "duration": 7,
    "start_time": "2023-07-26T13:54:17.347Z"
   },
   {
    "duration": 10,
    "start_time": "2023-07-26T13:54:20.841Z"
   },
   {
    "duration": 10,
    "start_time": "2023-07-26T13:54:33.758Z"
   },
   {
    "duration": 9,
    "start_time": "2023-07-26T13:54:57.739Z"
   },
   {
    "duration": 38,
    "start_time": "2023-07-26T14:00:38.488Z"
   },
   {
    "duration": 7,
    "start_time": "2023-07-26T14:01:35.462Z"
   },
   {
    "duration": 13,
    "start_time": "2023-07-26T14:01:53.140Z"
   },
   {
    "duration": 686,
    "start_time": "2023-07-27T08:17:48.536Z"
   },
   {
    "duration": 2347,
    "start_time": "2023-07-27T08:17:50.583Z"
   },
   {
    "duration": 11,
    "start_time": "2023-07-27T08:17:55.947Z"
   },
   {
    "duration": 9,
    "start_time": "2023-07-27T08:17:56.561Z"
   },
   {
    "duration": 8,
    "start_time": "2023-07-27T08:17:57.404Z"
   },
   {
    "duration": 6,
    "start_time": "2023-07-27T08:17:58.670Z"
   },
   {
    "duration": 8,
    "start_time": "2023-07-27T08:18:00.006Z"
   },
   {
    "duration": 14,
    "start_time": "2023-07-27T08:18:01.358Z"
   },
   {
    "duration": 9,
    "start_time": "2023-07-27T08:19:37.198Z"
   },
   {
    "duration": 114,
    "start_time": "2023-07-27T08:19:48.948Z"
   },
   {
    "duration": 110,
    "start_time": "2023-07-27T08:19:50.312Z"
   },
   {
    "duration": 1635,
    "start_time": "2023-07-27T08:19:52.794Z"
   },
   {
    "duration": 8,
    "start_time": "2023-07-27T08:20:14.866Z"
   },
   {
    "duration": 5,
    "start_time": "2023-07-27T08:20:29.833Z"
   },
   {
    "duration": 7,
    "start_time": "2023-07-27T08:20:30.875Z"
   },
   {
    "duration": 13,
    "start_time": "2023-07-27T08:20:32.343Z"
   },
   {
    "duration": 20,
    "start_time": "2023-07-27T08:20:38.274Z"
   },
   {
    "duration": 8,
    "start_time": "2023-07-27T08:25:09.839Z"
   },
   {
    "duration": 5,
    "start_time": "2023-07-27T08:25:12.582Z"
   },
   {
    "duration": 70,
    "start_time": "2023-07-27T08:32:09.097Z"
   },
   {
    "duration": 8,
    "start_time": "2023-07-27T08:32:14.024Z"
   },
   {
    "duration": 8,
    "start_time": "2023-07-27T08:32:16.837Z"
   },
   {
    "duration": 7,
    "start_time": "2023-07-27T08:32:26.451Z"
   },
   {
    "duration": 17,
    "start_time": "2023-07-27T08:33:49.571Z"
   },
   {
    "duration": 17,
    "start_time": "2023-07-27T08:35:14.791Z"
   },
   {
    "duration": 8,
    "start_time": "2023-07-27T08:40:44.453Z"
   },
   {
    "duration": 12,
    "start_time": "2023-07-27T08:41:14.225Z"
   },
   {
    "duration": 6,
    "start_time": "2023-07-27T08:45:26.692Z"
   },
   {
    "duration": 5,
    "start_time": "2023-07-27T08:45:40.510Z"
   },
   {
    "duration": 5,
    "start_time": "2023-07-27T08:45:40.729Z"
   },
   {
    "duration": 5,
    "start_time": "2023-07-27T08:45:41.536Z"
   },
   {
    "duration": 7,
    "start_time": "2023-07-27T08:45:41.931Z"
   },
   {
    "duration": 9,
    "start_time": "2023-07-27T08:45:42.273Z"
   },
   {
    "duration": 12,
    "start_time": "2023-07-27T08:45:42.813Z"
   },
   {
    "duration": 14,
    "start_time": "2023-07-27T08:45:42.903Z"
   },
   {
    "duration": 8,
    "start_time": "2023-07-27T08:56:13.378Z"
   },
   {
    "duration": 8,
    "start_time": "2023-07-27T08:56:19.647Z"
   },
   {
    "duration": 15,
    "start_time": "2023-07-27T08:58:00.700Z"
   },
   {
    "duration": 8,
    "start_time": "2023-07-27T08:59:12.255Z"
   },
   {
    "duration": 8,
    "start_time": "2023-07-27T08:59:37.298Z"
   },
   {
    "duration": 7,
    "start_time": "2023-07-27T08:59:43.673Z"
   },
   {
    "duration": 12,
    "start_time": "2023-07-27T09:02:27.740Z"
   },
   {
    "duration": 11,
    "start_time": "2023-07-27T09:02:37.680Z"
   },
   {
    "duration": 3,
    "start_time": "2023-07-27T09:03:01.279Z"
   },
   {
    "duration": 11,
    "start_time": "2023-07-27T09:04:38.002Z"
   },
   {
    "duration": 4334,
    "start_time": "2023-07-27T09:05:04.158Z"
   },
   {
    "duration": 2143,
    "start_time": "2023-07-27T09:05:40.268Z"
   },
   {
    "duration": 117,
    "start_time": "2023-07-27T09:05:59.729Z"
   },
   {
    "duration": 1793,
    "start_time": "2023-07-27T09:06:00.529Z"
   },
   {
    "duration": 10,
    "start_time": "2023-07-27T09:06:02.324Z"
   },
   {
    "duration": 6,
    "start_time": "2023-07-27T09:06:02.412Z"
   },
   {
    "duration": 7,
    "start_time": "2023-07-27T09:06:03.044Z"
   },
   {
    "duration": 11,
    "start_time": "2023-07-27T09:06:04.156Z"
   },
   {
    "duration": 13,
    "start_time": "2023-07-27T09:06:05.444Z"
   },
   {
    "duration": 13,
    "start_time": "2023-07-27T09:06:08.358Z"
   },
   {
    "duration": 9,
    "start_time": "2023-07-27T09:08:14.258Z"
   },
   {
    "duration": 14,
    "start_time": "2023-07-27T09:08:23.452Z"
   },
   {
    "duration": 16,
    "start_time": "2023-07-27T09:08:50.362Z"
   },
   {
    "duration": 26,
    "start_time": "2023-07-27T09:09:00.588Z"
   },
   {
    "duration": 19,
    "start_time": "2023-07-27T09:09:05.709Z"
   },
   {
    "duration": 21,
    "start_time": "2023-07-27T09:09:21.510Z"
   },
   {
    "duration": 12,
    "start_time": "2023-07-27T09:09:46.604Z"
   },
   {
    "duration": 7,
    "start_time": "2023-07-27T09:13:57.667Z"
   },
   {
    "duration": 8,
    "start_time": "2023-07-27T09:14:07.936Z"
   },
   {
    "duration": 14,
    "start_time": "2023-07-27T09:14:35.452Z"
   },
   {
    "duration": 14,
    "start_time": "2023-07-27T09:14:44.719Z"
   },
   {
    "duration": 12,
    "start_time": "2023-07-27T09:14:48.809Z"
   },
   {
    "duration": 122,
    "start_time": "2023-07-27T11:06:07.841Z"
   },
   {
    "duration": 1668,
    "start_time": "2023-07-27T11:06:08.944Z"
   },
   {
    "duration": 8,
    "start_time": "2023-07-27T11:06:10.614Z"
   },
   {
    "duration": 17,
    "start_time": "2023-07-27T11:06:10.623Z"
   },
   {
    "duration": 6,
    "start_time": "2023-07-27T11:06:10.698Z"
   },
   {
    "duration": 8,
    "start_time": "2023-07-27T11:06:11.317Z"
   },
   {
    "duration": 10,
    "start_time": "2023-07-27T11:06:12.374Z"
   },
   {
    "duration": 9,
    "start_time": "2023-07-27T11:06:13.392Z"
   },
   {
    "duration": 12,
    "start_time": "2023-07-27T11:06:13.902Z"
   },
   {
    "duration": 9,
    "start_time": "2023-07-27T11:06:14.444Z"
   },
   {
    "duration": 13,
    "start_time": "2023-07-27T11:18:06.052Z"
   },
   {
    "duration": 12,
    "start_time": "2023-07-27T11:18:21.550Z"
   },
   {
    "duration": 64,
    "start_time": "2023-07-27T11:18:29.614Z"
   },
   {
    "duration": 62,
    "start_time": "2023-07-27T11:20:48.039Z"
   },
   {
    "duration": 59,
    "start_time": "2023-07-27T11:20:54.339Z"
   },
   {
    "duration": 14,
    "start_time": "2023-07-27T11:20:57.655Z"
   },
   {
    "duration": 19,
    "start_time": "2023-07-27T11:20:58.091Z"
   },
   {
    "duration": 14,
    "start_time": "2023-07-27T11:20:59.007Z"
   },
   {
    "duration": 65,
    "start_time": "2023-07-27T11:21:00.043Z"
   },
   {
    "duration": 186,
    "start_time": "2023-07-27T11:21:24.043Z"
   },
   {
    "duration": 62,
    "start_time": "2023-07-27T11:21:59.908Z"
   },
   {
    "duration": 59,
    "start_time": "2023-07-27T11:22:09.183Z"
   },
   {
    "duration": 59,
    "start_time": "2023-07-27T11:24:46.807Z"
   },
   {
    "duration": 13,
    "start_time": "2023-07-27T11:25:08.406Z"
   },
   {
    "duration": 8,
    "start_time": "2023-07-27T11:30:22.901Z"
   },
   {
    "duration": 9,
    "start_time": "2023-07-27T11:32:46.763Z"
   },
   {
    "duration": 4599,
    "start_time": "2023-07-27T11:33:07.672Z"
   },
   {
    "duration": 16,
    "start_time": "2023-07-27T11:37:17.150Z"
   },
   {
    "duration": 3120,
    "start_time": "2023-07-27T11:37:25.186Z"
   },
   {
    "duration": 3049,
    "start_time": "2023-07-27T13:16:56.295Z"
   },
   {
    "duration": 3332,
    "start_time": "2023-07-27T13:17:35.498Z"
   },
   {
    "duration": 3144,
    "start_time": "2023-07-27T13:20:50.145Z"
   },
   {
    "duration": 3347,
    "start_time": "2023-07-27T13:21:22.449Z"
   },
   {
    "duration": 3343,
    "start_time": "2023-07-27T13:22:34.150Z"
   },
   {
    "duration": 484,
    "start_time": "2023-07-27T13:22:53.593Z"
   },
   {
    "duration": 3386,
    "start_time": "2023-07-27T13:23:19.201Z"
   },
   {
    "duration": 3871,
    "start_time": "2023-07-27T13:23:28.475Z"
   },
   {
    "duration": 3691,
    "start_time": "2023-07-27T13:25:59.458Z"
   },
   {
    "duration": 36,
    "start_time": "2023-07-27T13:29:30.478Z"
   },
   {
    "duration": 12,
    "start_time": "2023-07-27T13:30:11.545Z"
   },
   {
    "duration": 178,
    "start_time": "2023-07-27T13:30:29.049Z"
   },
   {
    "duration": 1823,
    "start_time": "2023-07-27T13:30:29.477Z"
   },
   {
    "duration": 9,
    "start_time": "2023-07-27T13:30:31.302Z"
   },
   {
    "duration": 23,
    "start_time": "2023-07-27T13:30:31.312Z"
   },
   {
    "duration": 31,
    "start_time": "2023-07-27T13:30:31.337Z"
   },
   {
    "duration": 7,
    "start_time": "2023-07-27T13:30:31.453Z"
   },
   {
    "duration": 10,
    "start_time": "2023-07-27T13:30:31.883Z"
   },
   {
    "duration": 9,
    "start_time": "2023-07-27T13:30:32.814Z"
   },
   {
    "duration": 14,
    "start_time": "2023-07-27T13:30:33.845Z"
   },
   {
    "duration": 11,
    "start_time": "2023-07-27T13:30:34.549Z"
   },
   {
    "duration": 67,
    "start_time": "2023-07-27T13:30:35.444Z"
   },
   {
    "duration": 3638,
    "start_time": "2023-07-27T13:30:36.453Z"
   },
   {
    "duration": 19,
    "start_time": "2023-07-27T13:30:40.093Z"
   },
   {
    "duration": 11,
    "start_time": "2023-07-27T13:31:38.657Z"
   },
   {
    "duration": 10,
    "start_time": "2023-07-27T14:49:50.732Z"
   },
   {
    "duration": 74,
    "start_time": "2023-07-27T14:50:09.156Z"
   },
   {
    "duration": 90,
    "start_time": "2023-07-27T14:50:12.783Z"
   },
   {
    "duration": 4323,
    "start_time": "2023-07-27T14:50:13.884Z"
   },
   {
    "duration": 11,
    "start_time": "2023-07-27T14:50:18.209Z"
   },
   {
    "duration": 14,
    "start_time": "2023-07-27T14:50:39.710Z"
   },
   {
    "duration": 17,
    "start_time": "2023-07-27T14:51:04.399Z"
   },
   {
    "duration": 77,
    "start_time": "2023-07-27T14:51:14.825Z"
   },
   {
    "duration": 71,
    "start_time": "2023-07-27T14:51:17.580Z"
   },
   {
    "duration": 4041,
    "start_time": "2023-07-27T14:51:18.415Z"
   },
   {
    "duration": 5,
    "start_time": "2023-07-27T14:51:22.459Z"
   },
   {
    "duration": 4,
    "start_time": "2023-07-27T14:51:27.356Z"
   },
   {
    "duration": 4260,
    "start_time": "2023-07-27T14:51:36.855Z"
   },
   {
    "duration": 13,
    "start_time": "2023-07-27T14:51:44.576Z"
   },
   {
    "duration": 66,
    "start_time": "2023-07-27T14:54:04.252Z"
   },
   {
    "duration": 79,
    "start_time": "2023-07-27T14:54:06.052Z"
   },
   {
    "duration": 4147,
    "start_time": "2023-07-27T14:54:08.452Z"
   },
   {
    "duration": 6,
    "start_time": "2023-07-27T14:54:12.601Z"
   },
   {
    "duration": 15,
    "start_time": "2023-07-27T14:54:14.987Z"
   },
   {
    "duration": 143,
    "start_time": "2023-07-27T14:54:27.852Z"
   },
   {
    "duration": 2076,
    "start_time": "2023-07-27T14:54:28.393Z"
   },
   {
    "duration": 14,
    "start_time": "2023-07-27T14:54:30.471Z"
   },
   {
    "duration": 48,
    "start_time": "2023-07-27T14:54:30.502Z"
   },
   {
    "duration": 49,
    "start_time": "2023-07-27T14:54:30.551Z"
   },
   {
    "duration": 62,
    "start_time": "2023-07-27T14:54:30.601Z"
   },
   {
    "duration": 73,
    "start_time": "2023-07-27T14:54:30.665Z"
   },
   {
    "duration": 31,
    "start_time": "2023-07-27T14:54:30.739Z"
   },
   {
    "duration": 47,
    "start_time": "2023-07-27T14:54:30.772Z"
   },
   {
    "duration": 58,
    "start_time": "2023-07-27T14:54:30.822Z"
   },
   {
    "duration": 232,
    "start_time": "2023-07-27T14:54:30.883Z"
   },
   {
    "duration": 4165,
    "start_time": "2023-07-27T14:54:31.117Z"
   },
   {
    "duration": 17,
    "start_time": "2023-07-27T14:54:35.284Z"
   },
   {
    "duration": 0,
    "start_time": "2023-07-27T14:54:35.303Z"
   },
   {
    "duration": 19,
    "start_time": "2023-07-27T14:54:46.205Z"
   },
   {
    "duration": 6,
    "start_time": "2023-07-27T14:57:57.019Z"
   },
   {
    "duration": 6,
    "start_time": "2023-07-27T14:58:00.211Z"
   },
   {
    "duration": 5,
    "start_time": "2023-07-27T14:58:00.974Z"
   },
   {
    "duration": 15,
    "start_time": "2023-07-27T14:58:01.317Z"
   },
   {
    "duration": 14,
    "start_time": "2023-07-27T14:58:15.111Z"
   },
   {
    "duration": 23,
    "start_time": "2023-07-27T15:19:22.257Z"
   },
   {
    "duration": 17,
    "start_time": "2023-07-27T15:19:32.473Z"
   },
   {
    "duration": 15,
    "start_time": "2023-07-27T15:19:33.763Z"
   },
   {
    "duration": 73,
    "start_time": "2023-07-27T15:19:34.177Z"
   },
   {
    "duration": 3918,
    "start_time": "2023-07-27T15:19:34.577Z"
   },
   {
    "duration": 15,
    "start_time": "2023-07-27T15:19:38.497Z"
   },
   {
    "duration": 24,
    "start_time": "2023-07-27T15:19:38.513Z"
   },
   {
    "duration": 14,
    "start_time": "2023-07-27T15:22:17.021Z"
   },
   {
    "duration": 65,
    "start_time": "2023-07-27T15:22:17.949Z"
   },
   {
    "duration": 3544,
    "start_time": "2023-07-27T15:22:18.511Z"
   },
   {
    "duration": 5,
    "start_time": "2023-07-27T15:22:22.057Z"
   },
   {
    "duration": 30,
    "start_time": "2023-07-27T15:22:22.063Z"
   },
   {
    "duration": 25,
    "start_time": "2023-07-27T15:22:32.596Z"
   },
   {
    "duration": 15,
    "start_time": "2023-07-27T15:22:52.184Z"
   },
   {
    "duration": 72,
    "start_time": "2023-07-27T15:22:53.264Z"
   },
   {
    "duration": 3668,
    "start_time": "2023-07-27T15:22:53.668Z"
   },
   {
    "duration": 5,
    "start_time": "2023-07-27T15:22:57.338Z"
   },
   {
    "duration": 77,
    "start_time": "2023-07-27T15:22:57.344Z"
   },
   {
    "duration": 22,
    "start_time": "2023-07-27T15:23:15.573Z"
   },
   {
    "duration": 14,
    "start_time": "2023-07-27T15:23:55.011Z"
   },
   {
    "duration": 69,
    "start_time": "2023-07-27T15:23:55.948Z"
   },
   {
    "duration": 3709,
    "start_time": "2023-07-27T15:23:56.019Z"
   },
   {
    "duration": 5,
    "start_time": "2023-07-27T15:23:59.730Z"
   },
   {
    "duration": 27,
    "start_time": "2023-07-27T15:23:59.737Z"
   },
   {
    "duration": 14,
    "start_time": "2023-07-27T15:24:22.580Z"
   },
   {
    "duration": 138,
    "start_time": "2023-07-27T15:24:28.091Z"
   },
   {
    "duration": 1774,
    "start_time": "2023-07-27T15:24:28.640Z"
   },
   {
    "duration": 8,
    "start_time": "2023-07-27T15:24:30.416Z"
   },
   {
    "duration": 31,
    "start_time": "2023-07-27T15:24:30.425Z"
   },
   {
    "duration": 25,
    "start_time": "2023-07-27T15:24:30.458Z"
   },
   {
    "duration": 43,
    "start_time": "2023-07-27T15:24:30.485Z"
   },
   {
    "duration": 28,
    "start_time": "2023-07-27T15:24:30.530Z"
   },
   {
    "duration": 31,
    "start_time": "2023-07-27T15:24:30.559Z"
   },
   {
    "duration": 44,
    "start_time": "2023-07-27T15:24:30.592Z"
   },
   {
    "duration": 38,
    "start_time": "2023-07-27T15:24:30.638Z"
   },
   {
    "duration": 241,
    "start_time": "2023-07-27T15:24:30.678Z"
   },
   {
    "duration": 3611,
    "start_time": "2023-07-27T15:24:30.921Z"
   },
   {
    "duration": 7,
    "start_time": "2023-07-27T15:24:34.534Z"
   },
   {
    "duration": 28,
    "start_time": "2023-07-27T15:24:34.543Z"
   },
   {
    "duration": 23,
    "start_time": "2023-07-27T15:25:34.993Z"
   },
   {
    "duration": 12,
    "start_time": "2023-07-27T15:25:36.538Z"
   },
   {
    "duration": 120,
    "start_time": "2023-07-27T15:25:42.672Z"
   },
   {
    "duration": 1640,
    "start_time": "2023-07-27T15:25:43.198Z"
   },
   {
    "duration": 9,
    "start_time": "2023-07-27T15:25:44.839Z"
   },
   {
    "duration": 16,
    "start_time": "2023-07-27T15:25:44.849Z"
   },
   {
    "duration": 10,
    "start_time": "2023-07-27T15:25:44.867Z"
   },
   {
    "duration": 8,
    "start_time": "2023-07-27T15:25:44.878Z"
   },
   {
    "duration": 19,
    "start_time": "2023-07-27T15:25:44.887Z"
   },
   {
    "duration": 14,
    "start_time": "2023-07-27T15:25:44.907Z"
   },
   {
    "duration": 15,
    "start_time": "2023-07-27T15:25:44.922Z"
   },
   {
    "duration": 15,
    "start_time": "2023-07-27T15:25:44.938Z"
   },
   {
    "duration": 75,
    "start_time": "2023-07-27T15:25:44.955Z"
   },
   {
    "duration": 3617,
    "start_time": "2023-07-27T15:25:45.031Z"
   },
   {
    "duration": 6,
    "start_time": "2023-07-27T15:25:48.650Z"
   },
   {
    "duration": 58,
    "start_time": "2023-07-27T15:25:48.658Z"
   },
   {
    "duration": 121,
    "start_time": "2023-07-27T15:25:59.448Z"
   },
   {
    "duration": 1874,
    "start_time": "2023-07-27T15:25:59.799Z"
   },
   {
    "duration": 8,
    "start_time": "2023-07-27T15:26:01.675Z"
   },
   {
    "duration": 49,
    "start_time": "2023-07-27T15:26:01.685Z"
   },
   {
    "duration": 39,
    "start_time": "2023-07-27T15:26:01.736Z"
   },
   {
    "duration": 52,
    "start_time": "2023-07-27T15:26:01.776Z"
   },
   {
    "duration": 10,
    "start_time": "2023-07-27T15:26:03.047Z"
   },
   {
    "duration": 10,
    "start_time": "2023-07-27T15:26:04.387Z"
   },
   {
    "duration": 20,
    "start_time": "2023-07-27T15:26:04.996Z"
   },
   {
    "duration": 9,
    "start_time": "2023-07-27T15:26:05.721Z"
   },
   {
    "duration": 68,
    "start_time": "2023-07-27T15:26:06.256Z"
   },
   {
    "duration": 3519,
    "start_time": "2023-07-27T15:26:07.021Z"
   },
   {
    "duration": 6,
    "start_time": "2023-07-27T15:26:10.542Z"
   },
   {
    "duration": 27,
    "start_time": "2023-07-27T15:26:10.549Z"
   },
   {
    "duration": 22,
    "start_time": "2023-07-27T15:27:28.099Z"
   },
   {
    "duration": 16,
    "start_time": "2023-07-27T15:29:34.611Z"
   },
   {
    "duration": 1918,
    "start_time": "2023-07-27T15:39:51.523Z"
   },
   {
    "duration": 7,
    "start_time": "2023-07-27T15:40:12.778Z"
   },
   {
    "duration": 11,
    "start_time": "2023-07-27T15:40:21.811Z"
   },
   {
    "duration": 6,
    "start_time": "2023-07-27T15:40:37.619Z"
   },
   {
    "duration": 8,
    "start_time": "2023-07-27T15:42:43.146Z"
   },
   {
    "duration": 19,
    "start_time": "2023-07-27T15:42:57.894Z"
   },
   {
    "duration": 8,
    "start_time": "2023-07-27T15:43:13.054Z"
   },
   {
    "duration": 5,
    "start_time": "2023-07-27T15:47:58.448Z"
   },
   {
    "duration": 5,
    "start_time": "2023-07-27T15:48:02.646Z"
   },
   {
    "duration": 5,
    "start_time": "2023-07-27T15:48:25.727Z"
   },
   {
    "duration": 6,
    "start_time": "2023-07-27T15:48:33.073Z"
   },
   {
    "duration": 5,
    "start_time": "2023-07-27T15:48:54.753Z"
   },
   {
    "duration": 6,
    "start_time": "2023-07-27T15:49:07.989Z"
   },
   {
    "duration": 15,
    "start_time": "2023-07-27T15:49:10.499Z"
   },
   {
    "duration": 9,
    "start_time": "2023-07-27T15:49:58.320Z"
   },
   {
    "duration": 11,
    "start_time": "2023-07-27T15:50:04.424Z"
   },
   {
    "duration": 4,
    "start_time": "2023-07-27T15:50:13.674Z"
   },
   {
    "duration": 10,
    "start_time": "2023-07-27T15:50:15.418Z"
   },
   {
    "duration": 7,
    "start_time": "2023-07-27T15:50:21.366Z"
   },
   {
    "duration": 6,
    "start_time": "2023-07-27T15:50:29.258Z"
   },
   {
    "duration": 8,
    "start_time": "2023-07-27T15:50:36.029Z"
   },
   {
    "duration": 6,
    "start_time": "2023-07-27T15:50:45.578Z"
   },
   {
    "duration": 13,
    "start_time": "2023-07-27T15:52:46.508Z"
   },
   {
    "duration": 5,
    "start_time": "2023-07-27T15:53:17.791Z"
   },
   {
    "duration": 91,
    "start_time": "2023-07-27T15:56:19.156Z"
   },
   {
    "duration": 6,
    "start_time": "2023-07-27T15:56:27.664Z"
   },
   {
    "duration": 299,
    "start_time": "2023-07-28T08:52:02.476Z"
   },
   {
    "duration": 391,
    "start_time": "2023-07-28T08:52:08.187Z"
   },
   {
    "duration": 543,
    "start_time": "2023-07-28T08:52:14.878Z"
   },
   {
    "duration": 126,
    "start_time": "2023-07-28T08:52:19.464Z"
   },
   {
    "duration": 457,
    "start_time": "2023-07-28T08:52:26.793Z"
   },
   {
    "duration": 480,
    "start_time": "2023-07-28T08:52:33.311Z"
   },
   {
    "duration": 122,
    "start_time": "2023-07-28T08:52:41.345Z"
   },
   {
    "duration": 468,
    "start_time": "2023-07-28T08:52:55.244Z"
   },
   {
    "duration": 54,
    "start_time": "2023-07-28T08:58:06.489Z"
   },
   {
    "duration": 1149,
    "start_time": "2023-07-28T08:58:16.169Z"
   },
   {
    "duration": 2442,
    "start_time": "2023-07-28T08:58:17.320Z"
   },
   {
    "duration": 13,
    "start_time": "2023-07-28T08:58:19.764Z"
   },
   {
    "duration": 7,
    "start_time": "2023-07-28T08:58:19.779Z"
   },
   {
    "duration": 28,
    "start_time": "2023-07-28T08:58:19.788Z"
   },
   {
    "duration": 13,
    "start_time": "2023-07-28T08:58:19.818Z"
   },
   {
    "duration": 11,
    "start_time": "2023-07-28T08:58:19.832Z"
   },
   {
    "duration": 9,
    "start_time": "2023-07-28T08:58:19.844Z"
   },
   {
    "duration": 13,
    "start_time": "2023-07-28T08:58:19.854Z"
   },
   {
    "duration": 69,
    "start_time": "2023-07-28T08:58:19.869Z"
   },
   {
    "duration": 79,
    "start_time": "2023-07-28T08:58:19.940Z"
   },
   {
    "duration": 3525,
    "start_time": "2023-07-28T08:58:20.020Z"
   },
   {
    "duration": 8,
    "start_time": "2023-07-28T08:58:23.547Z"
   },
   {
    "duration": 20,
    "start_time": "2023-07-28T08:58:23.556Z"
   },
   {
    "duration": 37,
    "start_time": "2023-07-28T08:58:23.577Z"
   },
   {
    "duration": 12,
    "start_time": "2023-07-28T08:58:23.616Z"
   },
   {
    "duration": 18,
    "start_time": "2023-07-28T08:59:43.314Z"
   },
   {
    "duration": 27,
    "start_time": "2023-07-28T09:01:22.156Z"
   },
   {
    "duration": 144,
    "start_time": "2023-07-28T09:11:03.842Z"
   },
   {
    "duration": 202,
    "start_time": "2023-07-28T09:11:16.484Z"
   },
   {
    "duration": 143,
    "start_time": "2023-07-28T09:11:28.017Z"
   },
   {
    "duration": 608,
    "start_time": "2023-07-28T09:11:35.059Z"
   },
   {
    "duration": 107,
    "start_time": "2023-07-28T09:11:44.160Z"
   },
   {
    "duration": 21,
    "start_time": "2023-07-28T09:28:30.607Z"
   },
   {
    "duration": 258,
    "start_time": "2023-07-28T09:33:42.343Z"
   },
   {
    "duration": 37,
    "start_time": "2023-07-28T09:33:51.697Z"
   },
   {
    "duration": 55,
    "start_time": "2023-07-28T09:34:24.915Z"
   },
   {
    "duration": 33,
    "start_time": "2023-07-28T09:34:31.256Z"
   },
   {
    "duration": 38,
    "start_time": "2023-07-28T09:34:49.197Z"
   },
   {
    "duration": 19,
    "start_time": "2023-07-28T09:38:27.326Z"
   },
   {
    "duration": 32,
    "start_time": "2023-07-28T09:38:32.115Z"
   },
   {
    "duration": 21,
    "start_time": "2023-07-28T09:38:52.927Z"
   },
   {
    "duration": 33,
    "start_time": "2023-07-28T09:41:05.913Z"
   },
   {
    "duration": 60,
    "start_time": "2023-07-28T09:41:53.018Z"
   },
   {
    "duration": 22,
    "start_time": "2023-07-28T09:46:47.716Z"
   },
   {
    "duration": 20,
    "start_time": "2023-07-28T09:47:02.567Z"
   },
   {
    "duration": 37,
    "start_time": "2023-07-28T09:47:19.778Z"
   },
   {
    "duration": 38,
    "start_time": "2023-07-28T09:47:30.523Z"
   },
   {
    "duration": 38,
    "start_time": "2023-07-28T09:47:49.140Z"
   },
   {
    "duration": 36,
    "start_time": "2023-07-28T09:48:05.796Z"
   },
   {
    "duration": 118,
    "start_time": "2023-07-28T09:48:25.140Z"
   },
   {
    "duration": 1811,
    "start_time": "2023-07-28T09:48:25.260Z"
   },
   {
    "duration": 8,
    "start_time": "2023-07-28T09:48:27.073Z"
   },
   {
    "duration": 16,
    "start_time": "2023-07-28T09:48:27.083Z"
   },
   {
    "duration": 6,
    "start_time": "2023-07-28T09:48:27.102Z"
   },
   {
    "duration": 12,
    "start_time": "2023-07-28T09:48:27.110Z"
   },
   {
    "duration": 12,
    "start_time": "2023-07-28T09:48:27.124Z"
   },
   {
    "duration": 12,
    "start_time": "2023-07-28T09:48:27.137Z"
   },
   {
    "duration": 14,
    "start_time": "2023-07-28T09:48:27.150Z"
   },
   {
    "duration": 42,
    "start_time": "2023-07-28T09:48:27.165Z"
   },
   {
    "duration": 60,
    "start_time": "2023-07-28T09:48:27.819Z"
   },
   {
    "duration": 3381,
    "start_time": "2023-07-28T09:48:28.500Z"
   },
   {
    "duration": 6,
    "start_time": "2023-07-28T09:48:31.883Z"
   },
   {
    "duration": 83,
    "start_time": "2023-07-28T09:48:31.891Z"
   },
   {
    "duration": 22,
    "start_time": "2023-07-28T09:48:39.238Z"
   },
   {
    "duration": 42,
    "start_time": "2023-07-28T09:48:45.749Z"
   },
   {
    "duration": 36,
    "start_time": "2023-07-28T09:48:50.511Z"
   },
   {
    "duration": 13,
    "start_time": "2023-07-28T09:50:46.611Z"
   },
   {
    "duration": 9,
    "start_time": "2023-07-28T09:51:57.313Z"
   },
   {
    "duration": 39,
    "start_time": "2023-07-28T09:55:58.389Z"
   },
   {
    "duration": 51,
    "start_time": "2023-07-28T09:58:00.390Z"
   },
   {
    "duration": 24,
    "start_time": "2023-07-28T09:59:42.489Z"
   },
   {
    "duration": 121,
    "start_time": "2023-07-28T09:59:55.279Z"
   },
   {
    "duration": 1797,
    "start_time": "2023-07-28T09:59:55.660Z"
   },
   {
    "duration": 8,
    "start_time": "2023-07-28T09:59:57.459Z"
   },
   {
    "duration": 5,
    "start_time": "2023-07-28T09:59:57.469Z"
   },
   {
    "duration": 6,
    "start_time": "2023-07-28T09:59:58.428Z"
   },
   {
    "duration": 9,
    "start_time": "2023-07-28T09:59:59.357Z"
   },
   {
    "duration": 14,
    "start_time": "2023-07-28T10:00:00.106Z"
   },
   {
    "duration": 9,
    "start_time": "2023-07-28T10:00:01.263Z"
   },
   {
    "duration": 13,
    "start_time": "2023-07-28T10:00:02.664Z"
   },
   {
    "duration": 10,
    "start_time": "2023-07-28T10:00:03.107Z"
   },
   {
    "duration": 61,
    "start_time": "2023-07-28T10:00:03.839Z"
   },
   {
    "duration": 3750,
    "start_time": "2023-07-28T10:00:04.859Z"
   },
   {
    "duration": 7,
    "start_time": "2023-07-28T10:00:08.611Z"
   },
   {
    "duration": 25,
    "start_time": "2023-07-28T10:00:10.689Z"
   },
   {
    "duration": 23,
    "start_time": "2023-07-28T10:00:13.125Z"
   },
   {
    "duration": 119,
    "start_time": "2023-07-28T10:07:26.982Z"
   },
   {
    "duration": 1688,
    "start_time": "2023-07-28T10:07:27.519Z"
   },
   {
    "duration": 8,
    "start_time": "2023-07-28T10:07:29.209Z"
   },
   {
    "duration": 6,
    "start_time": "2023-07-28T10:07:29.218Z"
   },
   {
    "duration": 6,
    "start_time": "2023-07-28T10:07:29.226Z"
   },
   {
    "duration": 8,
    "start_time": "2023-07-28T10:07:29.234Z"
   },
   {
    "duration": 11,
    "start_time": "2023-07-28T10:07:29.244Z"
   },
   {
    "duration": 10,
    "start_time": "2023-07-28T10:07:29.257Z"
   },
   {
    "duration": 14,
    "start_time": "2023-07-28T10:07:29.300Z"
   },
   {
    "duration": 13,
    "start_time": "2023-07-28T10:07:29.316Z"
   },
   {
    "duration": 173,
    "start_time": "2023-07-28T10:07:29.737Z"
   },
   {
    "duration": 3492,
    "start_time": "2023-07-28T10:07:30.133Z"
   },
   {
    "duration": 6,
    "start_time": "2023-07-28T10:07:33.627Z"
   },
   {
    "duration": 25,
    "start_time": "2023-07-28T10:07:33.635Z"
   },
   {
    "duration": 20,
    "start_time": "2023-07-28T10:07:33.662Z"
   },
   {
    "duration": 54,
    "start_time": "2023-07-28T10:07:33.699Z"
   },
   {
    "duration": 15,
    "start_time": "2023-07-28T10:07:44.265Z"
   },
   {
    "duration": 5,
    "start_time": "2023-07-28T10:08:10.040Z"
   },
   {
    "duration": 6,
    "start_time": "2023-07-28T10:08:22.658Z"
   },
   {
    "duration": 5,
    "start_time": "2023-07-28T10:08:29.632Z"
   },
   {
    "duration": 7,
    "start_time": "2023-07-28T10:08:33.690Z"
   },
   {
    "duration": 12,
    "start_time": "2023-07-28T10:08:46.134Z"
   },
   {
    "duration": 8,
    "start_time": "2023-07-28T10:09:51.277Z"
   },
   {
    "duration": 5885,
    "start_time": "2023-07-28T10:10:54.018Z"
   },
   {
    "duration": 7071,
    "start_time": "2023-07-28T10:11:07.245Z"
   },
   {
    "duration": 2721,
    "start_time": "2023-07-28T10:12:54.358Z"
   },
   {
    "duration": 9,
    "start_time": "2023-07-28T10:13:48.139Z"
   },
   {
    "duration": 7,
    "start_time": "2023-07-28T10:13:54.606Z"
   },
   {
    "duration": 8,
    "start_time": "2023-07-28T11:26:43.341Z"
   },
   {
    "duration": 5,
    "start_time": "2023-07-28T11:27:08.458Z"
   },
   {
    "duration": 8,
    "start_time": "2023-07-28T11:27:25.721Z"
   },
   {
    "duration": 12,
    "start_time": "2023-07-28T11:28:14.958Z"
   },
   {
    "duration": 11,
    "start_time": "2023-07-28T11:28:21.921Z"
   },
   {
    "duration": 170,
    "start_time": "2023-07-28T11:28:31.436Z"
   },
   {
    "duration": 2269,
    "start_time": "2023-07-28T11:28:31.963Z"
   },
   {
    "duration": 12,
    "start_time": "2023-07-28T11:28:34.234Z"
   },
   {
    "duration": 13,
    "start_time": "2023-07-28T11:28:34.248Z"
   },
   {
    "duration": 31,
    "start_time": "2023-07-28T11:28:34.263Z"
   },
   {
    "duration": 40,
    "start_time": "2023-07-28T11:28:34.295Z"
   },
   {
    "duration": 30,
    "start_time": "2023-07-28T11:28:34.337Z"
   },
   {
    "duration": 10,
    "start_time": "2023-07-28T11:28:34.368Z"
   },
   {
    "duration": 80,
    "start_time": "2023-07-28T11:28:34.379Z"
   },
   {
    "duration": 56,
    "start_time": "2023-07-28T11:28:34.461Z"
   },
   {
    "duration": 77,
    "start_time": "2023-07-28T11:28:34.521Z"
   },
   {
    "duration": 4266,
    "start_time": "2023-07-28T11:28:34.599Z"
   },
   {
    "duration": 9,
    "start_time": "2023-07-28T11:28:38.866Z"
   },
   {
    "duration": 117,
    "start_time": "2023-07-28T11:28:38.877Z"
   },
   {
    "duration": 50,
    "start_time": "2023-07-28T11:28:38.996Z"
   },
   {
    "duration": 74,
    "start_time": "2023-07-28T11:28:39.047Z"
   },
   {
    "duration": 8,
    "start_time": "2023-07-28T11:28:39.122Z"
   },
   {
    "duration": 25,
    "start_time": "2023-07-28T11:28:39.131Z"
   },
   {
    "duration": 5,
    "start_time": "2023-07-28T11:28:39.159Z"
   },
   {
    "duration": 16,
    "start_time": "2023-07-28T11:28:39.165Z"
   },
   {
    "duration": 125,
    "start_time": "2023-07-28T11:38:00.923Z"
   },
   {
    "duration": 1947,
    "start_time": "2023-07-28T11:38:01.050Z"
   },
   {
    "duration": 21,
    "start_time": "2023-07-28T11:38:02.998Z"
   },
   {
    "duration": 22,
    "start_time": "2023-07-28T11:38:03.020Z"
   },
   {
    "duration": 40,
    "start_time": "2023-07-28T11:38:03.044Z"
   },
   {
    "duration": 46,
    "start_time": "2023-07-28T11:38:03.086Z"
   },
   {
    "duration": 20,
    "start_time": "2023-07-28T11:38:03.134Z"
   },
   {
    "duration": 20,
    "start_time": "2023-07-28T11:38:03.156Z"
   },
   {
    "duration": 46,
    "start_time": "2023-07-28T11:38:03.178Z"
   },
   {
    "duration": 52,
    "start_time": "2023-07-28T11:38:03.225Z"
   },
   {
    "duration": 119,
    "start_time": "2023-07-28T11:38:03.279Z"
   },
   {
    "duration": 3727,
    "start_time": "2023-07-28T11:38:03.413Z"
   },
   {
    "duration": 7,
    "start_time": "2023-07-28T11:38:07.141Z"
   },
   {
    "duration": 40,
    "start_time": "2023-07-28T11:38:07.149Z"
   },
   {
    "duration": 34,
    "start_time": "2023-07-28T11:38:07.190Z"
   },
   {
    "duration": 52,
    "start_time": "2023-07-28T11:38:07.226Z"
   },
   {
    "duration": 8,
    "start_time": "2023-07-28T11:38:07.280Z"
   },
   {
    "duration": 21,
    "start_time": "2023-07-28T11:38:07.301Z"
   },
   {
    "duration": 14,
    "start_time": "2023-07-28T11:38:07.324Z"
   },
   {
    "duration": 9,
    "start_time": "2023-07-28T11:38:07.340Z"
   },
   {
    "duration": 11,
    "start_time": "2023-07-28T11:42:13.421Z"
   },
   {
    "duration": 10,
    "start_time": "2023-07-28T11:42:20.733Z"
   },
   {
    "duration": 8,
    "start_time": "2023-07-28T11:42:28.172Z"
   },
   {
    "duration": 9,
    "start_time": "2023-07-28T11:43:38.049Z"
   },
   {
    "duration": 9,
    "start_time": "2023-07-28T11:43:45.078Z"
   },
   {
    "duration": 322,
    "start_time": "2023-07-28T12:14:25.295Z"
   },
   {
    "duration": 19,
    "start_time": "2023-07-28T12:17:15.890Z"
   },
   {
    "duration": 297,
    "start_time": "2023-07-28T12:17:23.835Z"
   },
   {
    "duration": 133,
    "start_time": "2023-07-28T12:17:30.280Z"
   },
   {
    "duration": 1906,
    "start_time": "2023-07-28T12:17:30.611Z"
   },
   {
    "duration": 11,
    "start_time": "2023-07-28T12:17:32.519Z"
   },
   {
    "duration": 31,
    "start_time": "2023-07-28T12:17:32.531Z"
   },
   {
    "duration": 22,
    "start_time": "2023-07-28T12:17:32.564Z"
   },
   {
    "duration": 32,
    "start_time": "2023-07-28T12:17:32.590Z"
   },
   {
    "duration": 46,
    "start_time": "2023-07-28T12:17:32.624Z"
   },
   {
    "duration": 21,
    "start_time": "2023-07-28T12:17:32.671Z"
   },
   {
    "duration": 30,
    "start_time": "2023-07-28T12:17:32.693Z"
   },
   {
    "duration": 15,
    "start_time": "2023-07-28T12:17:32.725Z"
   },
   {
    "duration": 67,
    "start_time": "2023-07-28T12:17:32.742Z"
   },
   {
    "duration": 3798,
    "start_time": "2023-07-28T12:17:32.812Z"
   },
   {
    "duration": 8,
    "start_time": "2023-07-28T12:17:36.612Z"
   },
   {
    "duration": 28,
    "start_time": "2023-07-28T12:17:36.621Z"
   },
   {
    "duration": 22,
    "start_time": "2023-07-28T12:17:36.651Z"
   },
   {
    "duration": 67,
    "start_time": "2023-07-28T12:17:36.675Z"
   },
   {
    "duration": 7,
    "start_time": "2023-07-28T12:17:36.744Z"
   },
   {
    "duration": 18,
    "start_time": "2023-07-28T12:17:36.752Z"
   },
   {
    "duration": 5,
    "start_time": "2023-07-28T12:17:36.772Z"
   },
   {
    "duration": 51,
    "start_time": "2023-07-28T12:17:36.779Z"
   },
   {
    "duration": 292,
    "start_time": "2023-07-28T12:17:36.832Z"
   },
   {
    "duration": 11,
    "start_time": "2023-07-28T12:18:59.860Z"
   },
   {
    "duration": 305,
    "start_time": "2023-07-28T12:19:36.239Z"
   },
   {
    "duration": 335,
    "start_time": "2023-07-28T12:20:19.336Z"
   },
   {
    "duration": 9,
    "start_time": "2023-07-28T12:37:05.034Z"
   },
   {
    "duration": 5,
    "start_time": "2023-07-28T12:37:24.828Z"
   },
   {
    "duration": 8,
    "start_time": "2023-07-28T12:39:40.931Z"
   },
   {
    "duration": 529,
    "start_time": "2023-07-28T12:39:43.118Z"
   },
   {
    "duration": 11,
    "start_time": "2023-07-28T12:43:11.237Z"
   },
   {
    "duration": 8,
    "start_time": "2023-07-28T12:43:34.715Z"
   },
   {
    "duration": 362,
    "start_time": "2023-07-28T12:43:35.588Z"
   },
   {
    "duration": 332,
    "start_time": "2023-07-28T12:44:01.146Z"
   },
   {
    "duration": 10,
    "start_time": "2023-07-28T13:03:52.299Z"
   },
   {
    "duration": 6,
    "start_time": "2023-07-28T13:04:04.850Z"
   },
   {
    "duration": 5,
    "start_time": "2023-07-28T13:06:04.181Z"
   },
   {
    "duration": 6,
    "start_time": "2023-07-28T13:06:06.838Z"
   },
   {
    "duration": 14,
    "start_time": "2023-07-28T13:06:18.781Z"
   },
   {
    "duration": 7,
    "start_time": "2023-07-28T13:06:29.718Z"
   },
   {
    "duration": 7,
    "start_time": "2023-07-28T13:06:34.749Z"
   },
   {
    "duration": 6,
    "start_time": "2023-07-28T13:06:42.246Z"
   },
   {
    "duration": 7,
    "start_time": "2023-07-28T13:06:46.418Z"
   },
   {
    "duration": 4,
    "start_time": "2023-07-28T13:06:50.727Z"
   },
   {
    "duration": 25,
    "start_time": "2023-07-28T13:09:26.621Z"
   },
   {
    "duration": 149,
    "start_time": "2023-07-28T15:38:54.976Z"
   },
   {
    "duration": 122,
    "start_time": "2023-07-28T15:40:37.742Z"
   },
   {
    "duration": 102,
    "start_time": "2023-07-28T15:40:47.443Z"
   },
   {
    "duration": 177,
    "start_time": "2023-07-28T15:41:02.882Z"
   },
   {
    "duration": 1850,
    "start_time": "2023-07-28T15:41:03.061Z"
   },
   {
    "duration": 14,
    "start_time": "2023-07-28T15:41:04.920Z"
   },
   {
    "duration": 42,
    "start_time": "2023-07-28T15:41:04.936Z"
   },
   {
    "duration": 23,
    "start_time": "2023-07-28T15:41:04.979Z"
   },
   {
    "duration": 50,
    "start_time": "2023-07-28T15:41:05.003Z"
   },
   {
    "duration": 20,
    "start_time": "2023-07-28T15:41:05.055Z"
   },
   {
    "duration": 9,
    "start_time": "2023-07-28T15:41:05.076Z"
   },
   {
    "duration": 68,
    "start_time": "2023-07-28T15:41:05.087Z"
   },
   {
    "duration": 14,
    "start_time": "2023-07-28T15:41:05.156Z"
   },
   {
    "duration": 106,
    "start_time": "2023-07-28T15:41:05.172Z"
   },
   {
    "duration": 4236,
    "start_time": "2023-07-28T15:41:05.282Z"
   },
   {
    "duration": 7,
    "start_time": "2023-07-28T15:41:09.520Z"
   },
   {
    "duration": 66,
    "start_time": "2023-07-28T15:41:09.528Z"
   },
   {
    "duration": 25,
    "start_time": "2023-07-28T15:41:11.142Z"
   },
   {
    "duration": 117,
    "start_time": "2023-07-28T15:41:22.929Z"
   },
   {
    "duration": 90,
    "start_time": "2023-07-28T15:41:53.547Z"
   },
   {
    "duration": 82,
    "start_time": "2023-07-28T15:42:01.055Z"
   },
   {
    "duration": 100,
    "start_time": "2023-07-28T15:42:05.350Z"
   },
   {
    "duration": 98,
    "start_time": "2023-07-28T15:42:08.556Z"
   },
   {
    "duration": 40,
    "start_time": "2023-07-28T15:42:15.375Z"
   },
   {
    "duration": 87,
    "start_time": "2023-07-28T15:42:16.555Z"
   },
   {
    "duration": 94,
    "start_time": "2023-07-28T15:42:23.325Z"
   },
   {
    "duration": 145,
    "start_time": "2023-07-28T15:42:31.237Z"
   },
   {
    "duration": 1914,
    "start_time": "2023-07-28T15:42:31.832Z"
   },
   {
    "duration": 8,
    "start_time": "2023-07-28T15:42:33.748Z"
   },
   {
    "duration": 5,
    "start_time": "2023-07-28T15:42:33.758Z"
   },
   {
    "duration": 6,
    "start_time": "2023-07-28T15:42:33.764Z"
   },
   {
    "duration": 37,
    "start_time": "2023-07-28T15:42:33.771Z"
   },
   {
    "duration": 30,
    "start_time": "2023-07-28T15:42:33.809Z"
   },
   {
    "duration": 14,
    "start_time": "2023-07-28T15:42:33.841Z"
   },
   {
    "duration": 12,
    "start_time": "2023-07-28T15:42:33.857Z"
   },
   {
    "duration": 15,
    "start_time": "2023-07-28T15:42:33.870Z"
   },
   {
    "duration": 70,
    "start_time": "2023-07-28T15:42:33.887Z"
   },
   {
    "duration": 4154,
    "start_time": "2023-07-28T15:42:34.421Z"
   },
   {
    "duration": 6,
    "start_time": "2023-07-28T15:42:38.576Z"
   },
   {
    "duration": 41,
    "start_time": "2023-07-28T15:42:38.584Z"
   },
   {
    "duration": 54,
    "start_time": "2023-07-28T15:42:38.626Z"
   },
   {
    "duration": 89,
    "start_time": "2023-07-28T15:42:38.681Z"
   },
   {
    "duration": 130,
    "start_time": "2023-07-28T15:43:07.779Z"
   },
   {
    "duration": 107,
    "start_time": "2023-07-28T15:44:39.934Z"
   },
   {
    "duration": 8,
    "start_time": "2023-07-28T15:48:39.342Z"
   },
   {
    "duration": 21,
    "start_time": "2023-07-28T15:48:50.397Z"
   },
   {
    "duration": 12,
    "start_time": "2023-07-28T15:49:01.643Z"
   },
   {
    "duration": 21,
    "start_time": "2023-07-28T15:49:18.039Z"
   },
   {
    "duration": 19,
    "start_time": "2023-07-28T15:49:28.133Z"
   },
   {
    "duration": 13,
    "start_time": "2023-07-28T15:54:27.326Z"
   },
   {
    "duration": 6,
    "start_time": "2023-07-28T15:54:36.190Z"
   },
   {
    "duration": 8,
    "start_time": "2023-07-28T15:54:43.382Z"
   },
   {
    "duration": 6,
    "start_time": "2023-07-28T15:54:49.949Z"
   },
   {
    "duration": 5,
    "start_time": "2023-07-28T15:54:55.878Z"
   },
   {
    "duration": 133,
    "start_time": "2023-07-28T16:09:04.644Z"
   },
   {
    "duration": 1919,
    "start_time": "2023-07-28T16:09:04.778Z"
   },
   {
    "duration": 22,
    "start_time": "2023-07-28T16:09:06.711Z"
   },
   {
    "duration": 45,
    "start_time": "2023-07-28T16:09:06.735Z"
   },
   {
    "duration": 42,
    "start_time": "2023-07-28T16:09:06.783Z"
   },
   {
    "duration": 49,
    "start_time": "2023-07-28T16:09:06.827Z"
   },
   {
    "duration": 83,
    "start_time": "2023-07-28T16:09:06.878Z"
   },
   {
    "duration": 30,
    "start_time": "2023-07-28T16:09:06.963Z"
   },
   {
    "duration": 59,
    "start_time": "2023-07-28T16:09:06.994Z"
   },
   {
    "duration": 11,
    "start_time": "2023-07-28T16:09:07.054Z"
   },
   {
    "duration": 90,
    "start_time": "2023-07-28T16:09:07.067Z"
   },
   {
    "duration": 4592,
    "start_time": "2023-07-28T16:09:07.158Z"
   },
   {
    "duration": 7,
    "start_time": "2023-07-28T16:09:11.751Z"
   },
   {
    "duration": 42,
    "start_time": "2023-07-28T16:09:11.759Z"
   },
   {
    "duration": 33,
    "start_time": "2023-07-28T16:09:11.814Z"
   },
   {
    "duration": 118,
    "start_time": "2023-07-28T16:09:11.849Z"
   },
   {
    "duration": 25,
    "start_time": "2023-07-28T16:09:11.968Z"
   },
   {
    "duration": 42,
    "start_time": "2023-07-28T16:09:12.007Z"
   },
   {
    "duration": 23,
    "start_time": "2023-07-28T16:09:12.050Z"
   },
   {
    "duration": 73,
    "start_time": "2023-07-28T16:09:12.074Z"
   },
   {
    "duration": 423,
    "start_time": "2023-07-28T16:09:12.148Z"
   },
   {
    "duration": 4,
    "start_time": "2023-07-28T16:09:12.573Z"
   },
   {
    "duration": 158,
    "start_time": "2023-07-28T16:13:26.828Z"
   },
   {
    "duration": 8,
    "start_time": "2023-07-28T16:29:15.217Z"
   },
   {
    "duration": 438,
    "start_time": "2023-07-28T16:29:26.852Z"
   },
   {
    "duration": 584,
    "start_time": "2023-07-28T16:33:01.811Z"
   },
   {
    "duration": 13,
    "start_time": "2023-07-28T16:33:16.497Z"
   },
   {
    "duration": 396,
    "start_time": "2023-07-28T16:33:22.778Z"
   },
   {
    "duration": 118,
    "start_time": "2023-07-28T16:33:46.846Z"
   },
   {
    "duration": 1857,
    "start_time": "2023-07-28T16:33:47.750Z"
   },
   {
    "duration": 350,
    "start_time": "2023-07-28T16:33:51.559Z"
   },
   {
    "duration": 533,
    "start_time": "2023-07-28T16:39:20.978Z"
   },
   {
    "duration": 513,
    "start_time": "2023-07-28T16:39:38.947Z"
   },
   {
    "duration": 478,
    "start_time": "2023-07-28T16:39:51.694Z"
   },
   {
    "duration": 416,
    "start_time": "2023-07-28T16:40:08.031Z"
   },
   {
    "duration": 1947,
    "start_time": "2023-07-28T16:40:17.997Z"
   },
   {
    "duration": 716,
    "start_time": "2023-07-28T16:41:55.451Z"
   },
   {
    "duration": 821,
    "start_time": "2023-07-28T16:42:10.554Z"
   },
   {
    "duration": 7,
    "start_time": "2023-07-28T16:42:36.734Z"
   },
   {
    "duration": 4,
    "start_time": "2023-07-28T16:42:45.859Z"
   },
   {
    "duration": 8,
    "start_time": "2023-07-28T16:44:13.427Z"
   },
   {
    "duration": 5,
    "start_time": "2023-07-28T16:44:19.285Z"
   },
   {
    "duration": 7,
    "start_time": "2023-07-28T16:44:21.296Z"
   },
   {
    "duration": 10,
    "start_time": "2023-07-28T16:44:21.834Z"
   },
   {
    "duration": 117,
    "start_time": "2023-07-28T16:44:26.336Z"
   },
   {
    "duration": 1597,
    "start_time": "2023-07-28T16:44:27.216Z"
   },
   {
    "duration": 4,
    "start_time": "2023-07-28T16:44:28.815Z"
   },
   {
    "duration": 8,
    "start_time": "2023-07-28T16:44:30.042Z"
   },
   {
    "duration": 5,
    "start_time": "2023-07-28T16:44:34.133Z"
   },
   {
    "duration": 6,
    "start_time": "2023-07-28T16:44:34.632Z"
   },
   {
    "duration": 9,
    "start_time": "2023-07-28T16:44:35.051Z"
   },
   {
    "duration": 10,
    "start_time": "2023-07-28T16:44:35.548Z"
   },
   {
    "duration": 8,
    "start_time": "2023-07-28T16:44:36.206Z"
   },
   {
    "duration": 13,
    "start_time": "2023-07-28T16:44:36.682Z"
   },
   {
    "duration": 2126,
    "start_time": "2023-07-28T16:44:37.148Z"
   },
   {
    "duration": 0,
    "start_time": "2023-07-28T16:44:39.276Z"
   },
   {
    "duration": 0,
    "start_time": "2023-07-28T16:44:39.277Z"
   },
   {
    "duration": 0,
    "start_time": "2023-07-28T16:44:39.278Z"
   },
   {
    "duration": 0,
    "start_time": "2023-07-28T16:44:39.279Z"
   },
   {
    "duration": 12,
    "start_time": "2023-07-28T16:44:40.239Z"
   },
   {
    "duration": 21,
    "start_time": "2023-07-28T16:44:56.750Z"
   },
   {
    "duration": 22,
    "start_time": "2023-07-28T16:45:03.465Z"
   },
   {
    "duration": 130,
    "start_time": "2023-07-28T16:45:17.202Z"
   },
   {
    "duration": 1578,
    "start_time": "2023-07-28T16:45:18.776Z"
   },
   {
    "duration": 4,
    "start_time": "2023-07-28T16:45:20.706Z"
   },
   {
    "duration": 13,
    "start_time": "2023-07-28T16:45:22.064Z"
   },
   {
    "duration": 5,
    "start_time": "2023-07-28T16:45:23.285Z"
   },
   {
    "duration": 7,
    "start_time": "2023-07-28T16:45:24.347Z"
   },
   {
    "duration": 9,
    "start_time": "2023-07-28T16:45:25.200Z"
   },
   {
    "duration": 12,
    "start_time": "2023-07-28T16:45:26.351Z"
   },
   {
    "duration": 9,
    "start_time": "2023-07-28T16:45:27.731Z"
   },
   {
    "duration": 12,
    "start_time": "2023-07-28T16:45:28.650Z"
   },
   {
    "duration": 1515,
    "start_time": "2023-07-28T16:45:35.529Z"
   },
   {
    "duration": 2253,
    "start_time": "2023-07-28T16:46:01.578Z"
   },
   {
    "duration": 364,
    "start_time": "2023-07-28T16:46:24.107Z"
   },
   {
    "duration": 1599,
    "start_time": "2023-07-28T16:46:31.340Z"
   },
   {
    "duration": 4,
    "start_time": "2023-07-28T16:46:33.989Z"
   },
   {
    "duration": 9,
    "start_time": "2023-07-28T16:46:36.232Z"
   },
   {
    "duration": 6,
    "start_time": "2023-07-28T16:46:37.784Z"
   },
   {
    "duration": 4,
    "start_time": "2023-07-28T16:46:56.322Z"
   },
   {
    "duration": 118,
    "start_time": "2023-07-28T16:47:02.970Z"
   },
   {
    "duration": 1573,
    "start_time": "2023-07-28T16:47:04.000Z"
   },
   {
    "duration": 4,
    "start_time": "2023-07-28T16:47:05.833Z"
   },
   {
    "duration": 10,
    "start_time": "2023-07-28T16:47:08.451Z"
   },
   {
    "duration": 5,
    "start_time": "2023-07-28T16:47:13.959Z"
   },
   {
    "duration": 8,
    "start_time": "2023-07-28T16:47:15.124Z"
   },
   {
    "duration": 10,
    "start_time": "2023-07-28T16:47:16.487Z"
   },
   {
    "duration": 14,
    "start_time": "2023-07-28T16:47:18.176Z"
   },
   {
    "duration": 8,
    "start_time": "2023-07-28T16:47:19.696Z"
   },
   {
    "duration": 13,
    "start_time": "2023-07-28T16:47:20.609Z"
   },
   {
    "duration": 1969,
    "start_time": "2023-07-28T16:47:21.493Z"
   },
   {
    "duration": 13,
    "start_time": "2023-07-28T16:48:37.465Z"
   },
   {
    "duration": 114,
    "start_time": "2023-07-28T16:48:48.787Z"
   },
   {
    "duration": 1564,
    "start_time": "2023-07-28T16:48:49.488Z"
   },
   {
    "duration": 5,
    "start_time": "2023-07-28T16:48:53.289Z"
   },
   {
    "duration": 4,
    "start_time": "2023-07-28T16:48:55.644Z"
   },
   {
    "duration": 10,
    "start_time": "2023-07-28T16:49:01.486Z"
   },
   {
    "duration": 5,
    "start_time": "2023-07-28T16:49:02.565Z"
   },
   {
    "duration": 6,
    "start_time": "2023-07-28T16:49:03.252Z"
   },
   {
    "duration": 7,
    "start_time": "2023-07-28T16:49:03.840Z"
   },
   {
    "duration": 10,
    "start_time": "2023-07-28T16:49:04.460Z"
   },
   {
    "duration": 10,
    "start_time": "2023-07-28T16:49:06.155Z"
   },
   {
    "duration": 19,
    "start_time": "2023-07-28T16:49:36.126Z"
   },
   {
    "duration": 10,
    "start_time": "2023-07-28T16:49:36.978Z"
   },
   {
    "duration": 61,
    "start_time": "2023-07-28T16:49:38.698Z"
   },
   {
    "duration": 1745,
    "start_time": "2023-07-28T16:49:40.222Z"
   },
   {
    "duration": 0,
    "start_time": "2023-07-28T16:49:41.969Z"
   },
   {
    "duration": 22,
    "start_time": "2023-07-28T16:49:42.725Z"
   },
   {
    "duration": 22,
    "start_time": "2023-07-28T16:49:47.654Z"
   },
   {
    "duration": 79,
    "start_time": "2023-07-28T16:49:52.675Z"
   },
   {
    "duration": 31,
    "start_time": "2023-07-28T16:49:55.476Z"
   },
   {
    "duration": 14,
    "start_time": "2023-07-28T16:50:11.304Z"
   },
   {
    "duration": 115,
    "start_time": "2023-07-28T16:51:36.585Z"
   },
   {
    "duration": 1890,
    "start_time": "2023-07-28T16:51:37.199Z"
   },
   {
    "duration": 11,
    "start_time": "2023-07-28T16:51:39.091Z"
   },
   {
    "duration": 27,
    "start_time": "2023-07-28T16:51:39.104Z"
   },
   {
    "duration": 16,
    "start_time": "2023-07-28T16:51:39.133Z"
   },
   {
    "duration": 9,
    "start_time": "2023-07-28T16:51:39.150Z"
   },
   {
    "duration": 18,
    "start_time": "2023-07-28T16:51:39.160Z"
   },
   {
    "duration": 16,
    "start_time": "2023-07-28T16:51:39.179Z"
   },
   {
    "duration": 16,
    "start_time": "2023-07-28T16:51:39.197Z"
   },
   {
    "duration": 9,
    "start_time": "2023-07-28T16:51:39.214Z"
   },
   {
    "duration": 16,
    "start_time": "2023-07-28T16:51:39.225Z"
   },
   {
    "duration": 9,
    "start_time": "2023-07-28T16:51:39.259Z"
   },
   {
    "duration": 58,
    "start_time": "2023-07-28T16:51:41.235Z"
   },
   {
    "duration": 1645,
    "start_time": "2023-07-28T16:51:42.448Z"
   },
   {
    "duration": 2065,
    "start_time": "2023-07-28T16:53:12.145Z"
   },
   {
    "duration": 3318,
    "start_time": "2023-07-28T16:54:08.710Z"
   },
   {
    "duration": 8,
    "start_time": "2023-07-28T16:54:15.391Z"
   },
   {
    "duration": 22,
    "start_time": "2023-07-28T16:54:21.369Z"
   },
   {
    "duration": 32,
    "start_time": "2023-07-28T16:54:23.148Z"
   },
   {
    "duration": 77,
    "start_time": "2023-07-28T16:54:32.929Z"
   },
   {
    "duration": 13,
    "start_time": "2023-07-28T16:54:36.335Z"
   },
   {
    "duration": 79,
    "start_time": "2023-07-28T16:54:39.065Z"
   },
   {
    "duration": 1913,
    "start_time": "2023-07-28T16:54:45.531Z"
   },
   {
    "duration": 5,
    "start_time": "2023-07-28T16:54:55.511Z"
   },
   {
    "duration": 9,
    "start_time": "2023-07-28T16:55:10.476Z"
   },
   {
    "duration": 8,
    "start_time": "2023-07-28T16:55:25.232Z"
   },
   {
    "duration": 8,
    "start_time": "2023-07-28T16:55:52.007Z"
   },
   {
    "duration": 10,
    "start_time": "2023-07-28T16:56:08.142Z"
   },
   {
    "duration": 9,
    "start_time": "2023-07-28T16:56:14.797Z"
   },
   {
    "duration": 8,
    "start_time": "2023-07-28T16:56:23.601Z"
   },
   {
    "duration": 8,
    "start_time": "2023-07-28T16:56:35.156Z"
   },
   {
    "duration": 13,
    "start_time": "2023-07-28T16:56:46.011Z"
   },
   {
    "duration": 8,
    "start_time": "2023-07-28T16:56:57.290Z"
   },
   {
    "duration": 4,
    "start_time": "2023-07-28T16:57:04.107Z"
   },
   {
    "duration": 7,
    "start_time": "2023-07-28T16:57:08.897Z"
   },
   {
    "duration": 5,
    "start_time": "2023-07-28T16:57:17.830Z"
   },
   {
    "duration": 4,
    "start_time": "2023-07-28T16:57:22.259Z"
   },
   {
    "duration": 8,
    "start_time": "2023-07-28T16:57:26.900Z"
   },
   {
    "duration": 5,
    "start_time": "2023-07-28T16:57:33.000Z"
   },
   {
    "duration": 6,
    "start_time": "2023-07-28T18:27:24.613Z"
   },
   {
    "duration": 5,
    "start_time": "2023-07-28T18:27:36.861Z"
   },
   {
    "duration": 113,
    "start_time": "2023-07-28T18:29:30.022Z"
   },
   {
    "duration": 1570,
    "start_time": "2023-07-28T18:29:31.074Z"
   },
   {
    "duration": 5,
    "start_time": "2023-07-28T18:29:32.804Z"
   },
   {
    "duration": 3,
    "start_time": "2023-07-28T18:29:33.251Z"
   },
   {
    "duration": 9,
    "start_time": "2023-07-28T18:29:34.134Z"
   },
   {
    "duration": 4,
    "start_time": "2023-07-28T18:29:36.206Z"
   },
   {
    "duration": 6,
    "start_time": "2023-07-28T18:29:37.130Z"
   },
   {
    "duration": 10,
    "start_time": "2023-07-28T18:29:38.109Z"
   },
   {
    "duration": 11,
    "start_time": "2023-07-28T18:29:38.980Z"
   },
   {
    "duration": 10,
    "start_time": "2023-07-28T18:29:40.097Z"
   },
   {
    "duration": 14,
    "start_time": "2023-07-28T18:29:41.065Z"
   },
   {
    "duration": 10,
    "start_time": "2023-07-28T18:29:41.765Z"
   },
   {
    "duration": 63,
    "start_time": "2023-07-28T18:29:42.589Z"
   },
   {
    "duration": 3499,
    "start_time": "2023-07-28T18:29:43.453Z"
   },
   {
    "duration": 6,
    "start_time": "2023-07-28T18:29:46.954Z"
   },
   {
    "duration": 29,
    "start_time": "2023-07-28T18:29:46.961Z"
   },
   {
    "duration": 23,
    "start_time": "2023-07-28T18:29:46.992Z"
   },
   {
    "duration": 77,
    "start_time": "2023-07-28T18:29:47.388Z"
   },
   {
    "duration": 12,
    "start_time": "2023-07-28T18:29:49.681Z"
   },
   {
    "duration": 7,
    "start_time": "2023-07-28T18:29:50.590Z"
   },
   {
    "duration": 5,
    "start_time": "2023-07-28T18:30:00.575Z"
   },
   {
    "duration": 8,
    "start_time": "2023-07-28T18:30:01.274Z"
   },
   {
    "duration": 305,
    "start_time": "2023-07-28T18:30:01.684Z"
   },
   {
    "duration": 3687,
    "start_time": "2023-07-28T18:30:02.109Z"
   },
   {
    "duration": 4,
    "start_time": "2023-07-28T18:30:55.784Z"
   },
   {
    "duration": 5,
    "start_time": "2023-07-28T18:30:59.813Z"
   },
   {
    "duration": 26,
    "start_time": "2023-07-28T18:32:34.387Z"
   },
   {
    "duration": 24,
    "start_time": "2023-07-28T18:33:17.450Z"
   },
   {
    "duration": 3,
    "start_time": "2023-07-28T18:43:54.039Z"
   },
   {
    "duration": 7,
    "start_time": "2023-07-28T18:44:13.667Z"
   },
   {
    "duration": 7,
    "start_time": "2023-07-28T18:44:19.912Z"
   },
   {
    "duration": 8,
    "start_time": "2023-07-28T18:46:16.337Z"
   },
   {
    "duration": 8,
    "start_time": "2023-07-28T18:48:53.348Z"
   },
   {
    "duration": 608,
    "start_time": "2023-07-28T18:53:08.346Z"
   },
   {
    "duration": 1727,
    "start_time": "2023-07-28T18:53:08.956Z"
   },
   {
    "duration": 6,
    "start_time": "2023-07-28T18:53:10.685Z"
   },
   {
    "duration": 4,
    "start_time": "2023-07-28T18:53:14.634Z"
   },
   {
    "duration": 9,
    "start_time": "2023-07-28T18:53:15.041Z"
   },
   {
    "duration": 4,
    "start_time": "2023-07-28T18:53:15.455Z"
   },
   {
    "duration": 6,
    "start_time": "2023-07-28T18:53:15.874Z"
   },
   {
    "duration": 8,
    "start_time": "2023-07-28T18:53:16.411Z"
   },
   {
    "duration": 11,
    "start_time": "2023-07-28T18:53:16.478Z"
   },
   {
    "duration": 9,
    "start_time": "2023-07-28T18:53:16.878Z"
   },
   {
    "duration": 12,
    "start_time": "2023-07-28T18:53:17.261Z"
   },
   {
    "duration": 10,
    "start_time": "2023-07-28T18:53:17.682Z"
   },
   {
    "duration": 68,
    "start_time": "2023-07-28T18:53:18.100Z"
   },
   {
    "duration": 3222,
    "start_time": "2023-07-28T18:53:19.306Z"
   },
   {
    "duration": 5,
    "start_time": "2023-07-28T18:53:22.530Z"
   },
   {
    "duration": 22,
    "start_time": "2023-07-28T18:53:24.323Z"
   },
   {
    "duration": 21,
    "start_time": "2023-07-28T18:53:25.612Z"
   },
   {
    "duration": 73,
    "start_time": "2023-07-28T18:53:26.309Z"
   },
   {
    "duration": 12,
    "start_time": "2023-07-28T18:53:27.336Z"
   },
   {
    "duration": 4,
    "start_time": "2023-07-28T18:53:28.918Z"
   },
   {
    "duration": 9,
    "start_time": "2023-07-28T18:53:29.552Z"
   },
   {
    "duration": 297,
    "start_time": "2023-07-28T18:53:29.915Z"
   },
   {
    "duration": 4,
    "start_time": "2023-07-28T18:53:30.381Z"
   },
   {
    "duration": 24,
    "start_time": "2023-07-28T18:53:34.515Z"
   },
   {
    "duration": 4,
    "start_time": "2023-07-28T18:53:35.606Z"
   },
   {
    "duration": 7,
    "start_time": "2023-07-28T18:53:36.778Z"
   },
   {
    "duration": 91,
    "start_time": "2023-07-28T18:53:37.422Z"
   },
   {
    "duration": 104,
    "start_time": "2023-07-28T18:59:49.453Z"
   },
   {
    "duration": 116,
    "start_time": "2023-07-28T19:00:21.201Z"
   },
   {
    "duration": 1989,
    "start_time": "2023-07-28T19:00:21.739Z"
   },
   {
    "duration": 6,
    "start_time": "2023-07-28T19:00:23.731Z"
   },
   {
    "duration": 11,
    "start_time": "2023-07-28T19:00:23.739Z"
   },
   {
    "duration": 15,
    "start_time": "2023-07-28T19:00:23.752Z"
   },
   {
    "duration": 6,
    "start_time": "2023-07-28T19:00:23.768Z"
   },
   {
    "duration": 12,
    "start_time": "2023-07-28T19:00:23.775Z"
   },
   {
    "duration": 16,
    "start_time": "2023-07-28T19:00:23.788Z"
   },
   {
    "duration": 9,
    "start_time": "2023-07-28T19:00:23.805Z"
   },
   {
    "duration": 19,
    "start_time": "2023-07-28T19:00:23.816Z"
   },
   {
    "duration": 16,
    "start_time": "2023-07-28T19:00:23.837Z"
   },
   {
    "duration": 20,
    "start_time": "2023-07-28T19:00:23.854Z"
   },
   {
    "duration": 63,
    "start_time": "2023-07-28T19:00:23.876Z"
   },
   {
    "duration": 3448,
    "start_time": "2023-07-28T19:00:23.940Z"
   },
   {
    "duration": 13,
    "start_time": "2023-07-28T19:00:27.389Z"
   },
   {
    "duration": 21,
    "start_time": "2023-07-28T19:00:27.404Z"
   },
   {
    "duration": 22,
    "start_time": "2023-07-28T19:00:27.426Z"
   },
   {
    "duration": 98,
    "start_time": "2023-07-28T19:00:27.449Z"
   },
   {
    "duration": 13,
    "start_time": "2023-07-28T19:00:27.548Z"
   },
   {
    "duration": 4,
    "start_time": "2023-07-28T19:00:27.562Z"
   },
   {
    "duration": 11,
    "start_time": "2023-07-28T19:00:27.567Z"
   },
   {
    "duration": 328,
    "start_time": "2023-07-28T19:00:27.580Z"
   },
   {
    "duration": 3,
    "start_time": "2023-07-28T19:00:27.909Z"
   },
   {
    "duration": 36,
    "start_time": "2023-07-28T19:00:27.914Z"
   },
   {
    "duration": 4,
    "start_time": "2023-07-28T19:00:27.952Z"
   },
   {
    "duration": 15,
    "start_time": "2023-07-28T19:00:27.957Z"
   },
   {
    "duration": 102,
    "start_time": "2023-07-28T19:00:27.973Z"
   },
   {
    "duration": 129,
    "start_time": "2023-07-28T19:00:45.399Z"
   },
   {
    "duration": 1658,
    "start_time": "2023-07-28T19:00:47.355Z"
   },
   {
    "duration": 5,
    "start_time": "2023-07-28T19:00:49.014Z"
   },
   {
    "duration": 11,
    "start_time": "2023-07-28T19:00:49.020Z"
   },
   {
    "duration": 13,
    "start_time": "2023-07-28T19:00:49.033Z"
   },
   {
    "duration": 5,
    "start_time": "2023-07-28T19:00:49.047Z"
   },
   {
    "duration": 13,
    "start_time": "2023-07-28T19:00:49.054Z"
   },
   {
    "duration": 9,
    "start_time": "2023-07-28T19:00:49.068Z"
   },
   {
    "duration": 27,
    "start_time": "2023-07-28T19:00:49.078Z"
   },
   {
    "duration": 13,
    "start_time": "2023-07-28T19:00:49.107Z"
   },
   {
    "duration": 14,
    "start_time": "2023-07-28T19:00:49.122Z"
   },
   {
    "duration": 14,
    "start_time": "2023-07-28T19:00:49.137Z"
   },
   {
    "duration": 73,
    "start_time": "2023-07-28T19:00:49.152Z"
   },
   {
    "duration": 3337,
    "start_time": "2023-07-28T19:00:49.227Z"
   },
   {
    "duration": 7,
    "start_time": "2023-07-28T19:00:52.565Z"
   },
   {
    "duration": 53,
    "start_time": "2023-07-28T19:00:52.573Z"
   },
   {
    "duration": 29,
    "start_time": "2023-07-28T19:00:52.628Z"
   },
   {
    "duration": 85,
    "start_time": "2023-07-28T19:00:52.658Z"
   },
   {
    "duration": 14,
    "start_time": "2023-07-28T19:00:52.744Z"
   },
   {
    "duration": 5,
    "start_time": "2023-07-28T19:00:52.760Z"
   },
   {
    "duration": 16,
    "start_time": "2023-07-28T19:00:52.766Z"
   },
   {
    "duration": 326,
    "start_time": "2023-07-28T19:00:52.783Z"
   },
   {
    "duration": 3,
    "start_time": "2023-07-28T19:00:53.111Z"
   },
   {
    "duration": 42,
    "start_time": "2023-07-28T19:00:53.116Z"
   },
   {
    "duration": 37,
    "start_time": "2023-07-28T19:00:53.159Z"
   },
   {
    "duration": 40,
    "start_time": "2023-07-28T19:00:53.197Z"
   },
   {
    "duration": 117,
    "start_time": "2023-07-28T19:00:53.238Z"
   },
   {
    "duration": 409,
    "start_time": "2023-07-28T19:09:08.100Z"
   },
   {
    "duration": 145,
    "start_time": "2023-07-28T19:09:22.515Z"
   },
   {
    "duration": 119,
    "start_time": "2023-07-28T19:13:36.356Z"
   },
   {
    "duration": 1683,
    "start_time": "2023-07-28T19:13:36.901Z"
   },
   {
    "duration": 13,
    "start_time": "2023-07-28T19:13:38.586Z"
   },
   {
    "duration": 4,
    "start_time": "2023-07-28T19:13:38.601Z"
   },
   {
    "duration": 19,
    "start_time": "2023-07-28T19:13:38.607Z"
   },
   {
    "duration": 13,
    "start_time": "2023-07-28T19:13:38.628Z"
   },
   {
    "duration": 28,
    "start_time": "2023-07-28T19:13:38.642Z"
   },
   {
    "duration": 19,
    "start_time": "2023-07-28T19:13:38.672Z"
   },
   {
    "duration": 22,
    "start_time": "2023-07-28T19:13:38.692Z"
   },
   {
    "duration": 11,
    "start_time": "2023-07-28T19:13:38.716Z"
   },
   {
    "duration": 15,
    "start_time": "2023-07-28T19:13:38.730Z"
   },
   {
    "duration": 24,
    "start_time": "2023-07-28T19:13:38.747Z"
   },
   {
    "duration": 73,
    "start_time": "2023-07-28T19:13:38.773Z"
   },
   {
    "duration": 3678,
    "start_time": "2023-07-28T19:13:38.848Z"
   },
   {
    "duration": 6,
    "start_time": "2023-07-28T19:13:42.528Z"
   },
   {
    "duration": 54,
    "start_time": "2023-07-28T19:13:42.535Z"
   },
   {
    "duration": 29,
    "start_time": "2023-07-28T19:13:42.590Z"
   },
   {
    "duration": 96,
    "start_time": "2023-07-28T19:13:42.621Z"
   },
   {
    "duration": 14,
    "start_time": "2023-07-28T19:13:42.718Z"
   },
   {
    "duration": 23,
    "start_time": "2023-07-28T19:13:42.734Z"
   },
   {
    "duration": 15,
    "start_time": "2023-07-28T19:13:42.758Z"
   },
   {
    "duration": 381,
    "start_time": "2023-07-28T19:13:42.775Z"
   },
   {
    "duration": 3,
    "start_time": "2023-07-28T19:13:43.158Z"
   },
   {
    "duration": 25,
    "start_time": "2023-07-28T19:13:46.594Z"
   },
   {
    "duration": 4,
    "start_time": "2023-07-28T19:13:49.044Z"
   },
   {
    "duration": 7,
    "start_time": "2023-07-28T19:13:51.676Z"
   },
   {
    "duration": 93,
    "start_time": "2023-07-28T19:13:56.181Z"
   },
   {
    "duration": 150,
    "start_time": "2023-07-28T19:13:58.910Z"
   },
   {
    "duration": 198,
    "start_time": "2023-07-28T19:14:58.729Z"
   },
   {
    "duration": 42,
    "start_time": "2023-07-28T19:15:05.396Z"
   },
   {
    "duration": 9,
    "start_time": "2023-07-28T19:15:41.081Z"
   },
   {
    "duration": 7,
    "start_time": "2023-07-28T19:16:57.965Z"
   },
   {
    "duration": 10,
    "start_time": "2023-07-28T19:17:34.808Z"
   },
   {
    "duration": 97,
    "start_time": "2023-07-28T19:17:42.270Z"
   },
   {
    "duration": 989,
    "start_time": "2023-07-28T19:19:12.323Z"
   },
   {
    "duration": 117,
    "start_time": "2023-07-28T19:19:29.975Z"
   },
   {
    "duration": 608,
    "start_time": "2023-07-28T19:19:35.795Z"
   },
   {
    "duration": 591,
    "start_time": "2023-07-28T19:19:42.734Z"
   },
   {
    "duration": 540,
    "start_time": "2023-07-28T19:19:48.134Z"
   },
   {
    "duration": 580,
    "start_time": "2023-07-28T19:21:24.754Z"
   },
   {
    "duration": 566,
    "start_time": "2023-07-28T19:21:40.207Z"
   },
   {
    "duration": 3,
    "start_time": "2023-07-28T19:21:57.206Z"
   },
   {
    "duration": 158,
    "start_time": "2023-07-28T19:22:02.631Z"
   },
   {
    "duration": 9,
    "start_time": "2023-07-28T19:22:48.652Z"
   },
   {
    "duration": 8,
    "start_time": "2023-07-28T19:23:00.987Z"
   },
   {
    "duration": 12,
    "start_time": "2023-07-28T19:23:24.892Z"
   },
   {
    "duration": 88,
    "start_time": "2023-07-28T19:23:47.805Z"
   },
   {
    "duration": 111,
    "start_time": "2023-07-28T19:23:51.893Z"
   },
   {
    "duration": 79,
    "start_time": "2023-07-28T19:24:15.606Z"
   },
   {
    "duration": 7,
    "start_time": "2023-07-28T19:24:23.712Z"
   },
   {
    "duration": 136,
    "start_time": "2023-07-28T19:24:33.005Z"
   },
   {
    "duration": 81,
    "start_time": "2023-07-28T19:24:58.287Z"
   },
   {
    "duration": 7,
    "start_time": "2023-07-28T19:25:37.234Z"
   },
   {
    "duration": 9,
    "start_time": "2023-07-28T19:25:46.653Z"
   },
   {
    "duration": 8,
    "start_time": "2023-07-28T19:26:10.680Z"
   },
   {
    "duration": 84,
    "start_time": "2023-07-28T19:26:19.625Z"
   },
   {
    "duration": 791,
    "start_time": "2023-07-28T19:26:58.902Z"
   },
   {
    "duration": 1450,
    "start_time": "2023-07-28T19:27:24.216Z"
   },
   {
    "duration": 766,
    "start_time": "2023-07-28T19:27:34.033Z"
   },
   {
    "duration": 815,
    "start_time": "2023-07-28T19:32:37.983Z"
   },
   {
    "duration": 864,
    "start_time": "2023-07-28T19:32:43.479Z"
   },
   {
    "duration": 1332,
    "start_time": "2023-07-28T19:33:04.156Z"
   },
   {
    "duration": 9,
    "start_time": "2023-07-28T19:33:27.858Z"
   },
   {
    "duration": 7,
    "start_time": "2023-07-28T19:34:03.928Z"
   },
   {
    "duration": 94,
    "start_time": "2023-07-28T19:34:21.615Z"
   },
   {
    "duration": 9,
    "start_time": "2023-07-28T19:35:04.451Z"
   },
   {
    "duration": 8,
    "start_time": "2023-07-28T19:35:35.642Z"
   },
   {
    "duration": 171,
    "start_time": "2023-07-28T19:35:45.840Z"
   },
   {
    "duration": 149,
    "start_time": "2023-07-28T19:36:03.594Z"
   },
   {
    "duration": 53,
    "start_time": "2023-07-29T09:34:14.349Z"
   },
   {
    "duration": 7,
    "start_time": "2023-07-29T09:35:52.351Z"
   },
   {
    "duration": 1898,
    "start_time": "2023-07-29T09:35:56.466Z"
   },
   {
    "duration": 1710,
    "start_time": "2023-07-29T09:35:58.365Z"
   },
   {
    "duration": 7,
    "start_time": "2023-07-29T09:36:00.076Z"
   },
   {
    "duration": 45,
    "start_time": "2023-07-29T09:36:00.085Z"
   },
   {
    "duration": 85,
    "start_time": "2023-07-29T09:36:00.132Z"
   },
   {
    "duration": 89,
    "start_time": "2023-07-29T09:36:00.219Z"
   },
   {
    "duration": 32,
    "start_time": "2023-07-29T09:36:00.309Z"
   },
   {
    "duration": 83,
    "start_time": "2023-07-29T09:36:00.343Z"
   },
   {
    "duration": 36,
    "start_time": "2023-07-29T09:36:00.428Z"
   },
   {
    "duration": 45,
    "start_time": "2023-07-29T09:36:00.467Z"
   },
   {
    "duration": 54,
    "start_time": "2023-07-29T09:36:00.513Z"
   },
   {
    "duration": 70,
    "start_time": "2023-07-29T09:36:00.568Z"
   },
   {
    "duration": 124,
    "start_time": "2023-07-29T09:36:00.639Z"
   },
   {
    "duration": 3588,
    "start_time": "2023-07-29T09:36:00.764Z"
   },
   {
    "duration": 5,
    "start_time": "2023-07-29T09:36:04.354Z"
   },
   {
    "duration": 24,
    "start_time": "2023-07-29T09:36:04.360Z"
   },
   {
    "duration": 20,
    "start_time": "2023-07-29T09:36:04.386Z"
   },
   {
    "duration": 74,
    "start_time": "2023-07-29T09:36:04.420Z"
   },
   {
    "duration": 24,
    "start_time": "2023-07-29T09:36:04.496Z"
   },
   {
    "duration": 5,
    "start_time": "2023-07-29T09:36:04.521Z"
   },
   {
    "duration": 19,
    "start_time": "2023-07-29T09:36:04.527Z"
   },
   {
    "duration": 326,
    "start_time": "2023-07-29T09:36:04.548Z"
   },
   {
    "duration": 4,
    "start_time": "2023-07-29T09:36:04.876Z"
   },
   {
    "duration": 40,
    "start_time": "2023-07-29T09:36:04.881Z"
   },
   {
    "duration": 4,
    "start_time": "2023-07-29T09:36:04.922Z"
   },
   {
    "duration": 19,
    "start_time": "2023-07-29T09:36:04.927Z"
   },
   {
    "duration": 101,
    "start_time": "2023-07-29T09:36:04.947Z"
   },
   {
    "duration": 71,
    "start_time": "2023-07-29T09:36:05.051Z"
   },
   {
    "duration": 0,
    "start_time": "2023-07-29T09:36:05.124Z"
   },
   {
    "duration": 0,
    "start_time": "2023-07-29T09:36:05.126Z"
   },
   {
    "duration": 0,
    "start_time": "2023-07-29T09:36:05.127Z"
   },
   {
    "duration": 0,
    "start_time": "2023-07-29T09:36:05.129Z"
   },
   {
    "duration": 0,
    "start_time": "2023-07-29T09:36:05.130Z"
   },
   {
    "duration": 0,
    "start_time": "2023-07-29T09:36:05.131Z"
   },
   {
    "duration": 0,
    "start_time": "2023-07-29T09:36:05.133Z"
   },
   {
    "duration": 0,
    "start_time": "2023-07-29T09:36:05.134Z"
   },
   {
    "duration": 0,
    "start_time": "2023-07-29T09:36:05.135Z"
   },
   {
    "duration": 0,
    "start_time": "2023-07-29T09:36:05.137Z"
   },
   {
    "duration": 0,
    "start_time": "2023-07-29T09:36:05.138Z"
   },
   {
    "duration": 0,
    "start_time": "2023-07-29T09:36:05.139Z"
   },
   {
    "duration": 0,
    "start_time": "2023-07-29T09:36:05.140Z"
   },
   {
    "duration": 0,
    "start_time": "2023-07-29T09:36:05.141Z"
   },
   {
    "duration": 0,
    "start_time": "2023-07-29T09:36:05.142Z"
   },
   {
    "duration": 0,
    "start_time": "2023-07-29T09:36:05.143Z"
   },
   {
    "duration": 0,
    "start_time": "2023-07-29T09:36:05.144Z"
   },
   {
    "duration": 32,
    "start_time": "2023-07-29T09:37:02.471Z"
   },
   {
    "duration": 32,
    "start_time": "2023-07-29T09:37:31.440Z"
   },
   {
    "duration": 36,
    "start_time": "2023-07-29T09:38:16.894Z"
   },
   {
    "duration": 29,
    "start_time": "2023-07-29T09:38:24.787Z"
   },
   {
    "duration": 23,
    "start_time": "2023-07-29T09:38:46.579Z"
   },
   {
    "duration": 8,
    "start_time": "2023-07-29T10:16:18.880Z"
   },
   {
    "duration": 13,
    "start_time": "2023-07-29T10:16:26.257Z"
   },
   {
    "duration": 143,
    "start_time": "2023-07-29T10:17:56.332Z"
   },
   {
    "duration": 4,
    "start_time": "2023-07-29T10:18:22.527Z"
   },
   {
    "duration": 8,
    "start_time": "2023-07-29T10:18:22.940Z"
   },
   {
    "duration": 325,
    "start_time": "2023-07-29T10:18:23.109Z"
   },
   {
    "duration": 3,
    "start_time": "2023-07-29T10:18:23.480Z"
   },
   {
    "duration": 24,
    "start_time": "2023-07-29T10:18:24.662Z"
   },
   {
    "duration": 5,
    "start_time": "2023-07-29T10:18:25.330Z"
   },
   {
    "duration": 7,
    "start_time": "2023-07-29T10:18:25.924Z"
   },
   {
    "duration": 89,
    "start_time": "2023-07-29T10:18:26.315Z"
   },
   {
    "duration": 218,
    "start_time": "2023-07-29T10:18:27.083Z"
   },
   {
    "duration": 8,
    "start_time": "2023-07-29T10:18:27.817Z"
   },
   {
    "duration": 6,
    "start_time": "2023-07-29T10:18:28.557Z"
   },
   {
    "duration": 8,
    "start_time": "2023-07-29T10:18:28.924Z"
   },
   {
    "duration": 8,
    "start_time": "2023-07-29T10:18:29.345Z"
   },
   {
    "duration": 85,
    "start_time": "2023-07-29T10:18:33.623Z"
   },
   {
    "duration": 517,
    "start_time": "2023-07-29T10:18:36.846Z"
   },
   {
    "duration": 79,
    "start_time": "2023-07-29T10:18:41.593Z"
   },
   {
    "duration": 127,
    "start_time": "2023-07-29T10:19:53.627Z"
   },
   {
    "duration": 86,
    "start_time": "2023-07-29T10:19:57.782Z"
   },
   {
    "duration": 857,
    "start_time": "2023-07-29T10:20:00.592Z"
   },
   {
    "duration": 9,
    "start_time": "2023-07-29T10:20:04.283Z"
   },
   {
    "duration": 8,
    "start_time": "2023-07-29T10:20:08.566Z"
   },
   {
    "duration": 7,
    "start_time": "2023-07-29T10:20:09.018Z"
   },
   {
    "duration": 7,
    "start_time": "2023-07-29T10:20:16.157Z"
   },
   {
    "duration": 87,
    "start_time": "2023-07-29T10:20:16.448Z"
   },
   {
    "duration": 141,
    "start_time": "2023-07-29T10:20:16.880Z"
   },
   {
    "duration": 9,
    "start_time": "2023-07-29T10:20:17.250Z"
   },
   {
    "duration": 7,
    "start_time": "2023-07-29T10:20:17.622Z"
   },
   {
    "duration": 173,
    "start_time": "2023-07-29T10:20:17.821Z"
   },
   {
    "duration": 556,
    "start_time": "2023-07-29T10:20:18.037Z"
   },
   {
    "duration": 8,
    "start_time": "2023-07-29T10:20:18.594Z"
   },
   {
    "duration": 19,
    "start_time": "2023-07-29T10:20:18.603Z"
   },
   {
    "duration": 78,
    "start_time": "2023-07-29T10:20:18.697Z"
   },
   {
    "duration": 126,
    "start_time": "2023-07-29T10:20:19.742Z"
   },
   {
    "duration": 6,
    "start_time": "2023-07-29T10:20:20.680Z"
   },
   {
    "duration": 8,
    "start_time": "2023-07-29T10:20:21.791Z"
   },
   {
    "duration": 83,
    "start_time": "2023-07-29T10:20:22.157Z"
   },
   {
    "duration": 877,
    "start_time": "2023-07-29T10:20:22.724Z"
   },
   {
    "duration": 8,
    "start_time": "2023-07-29T10:20:23.603Z"
   },
   {
    "duration": 6,
    "start_time": "2023-07-29T10:20:23.881Z"
   },
   {
    "duration": 8,
    "start_time": "2023-07-29T10:20:24.787Z"
   },
   {
    "duration": 93,
    "start_time": "2023-07-29T10:20:27.987Z"
   },
   {
    "duration": 133,
    "start_time": "2023-07-29T10:20:29.028Z"
   },
   {
    "duration": 27,
    "start_time": "2023-07-29T10:20:35.541Z"
   },
   {
    "duration": 23,
    "start_time": "2023-07-29T10:20:36.029Z"
   },
   {
    "duration": 12,
    "start_time": "2023-07-29T10:20:41.227Z"
   },
   {
    "duration": 13,
    "start_time": "2023-07-29T10:21:40.038Z"
   },
   {
    "duration": 59,
    "start_time": "2023-07-29T10:23:03.284Z"
   },
   {
    "duration": 118,
    "start_time": "2023-07-29T10:32:29.894Z"
   },
   {
    "duration": 1733,
    "start_time": "2023-07-29T10:32:30.014Z"
   },
   {
    "duration": 6,
    "start_time": "2023-07-29T10:32:31.749Z"
   },
   {
    "duration": 53,
    "start_time": "2023-07-29T10:32:31.757Z"
   },
   {
    "duration": 21,
    "start_time": "2023-07-29T10:32:31.813Z"
   },
   {
    "duration": 7,
    "start_time": "2023-07-29T10:32:31.835Z"
   },
   {
    "duration": 25,
    "start_time": "2023-07-29T10:32:31.844Z"
   },
   {
    "duration": 27,
    "start_time": "2023-07-29T10:32:31.871Z"
   },
   {
    "duration": 39,
    "start_time": "2023-07-29T10:32:31.900Z"
   },
   {
    "duration": 30,
    "start_time": "2023-07-29T10:32:31.941Z"
   },
   {
    "duration": 25,
    "start_time": "2023-07-29T10:32:31.973Z"
   },
   {
    "duration": 26,
    "start_time": "2023-07-29T10:32:31.999Z"
   },
   {
    "duration": 72,
    "start_time": "2023-07-29T10:32:32.027Z"
   },
   {
    "duration": 3398,
    "start_time": "2023-07-29T10:32:32.100Z"
   },
   {
    "duration": 6,
    "start_time": "2023-07-29T10:32:35.500Z"
   },
   {
    "duration": 34,
    "start_time": "2023-07-29T10:32:35.507Z"
   },
   {
    "duration": 20,
    "start_time": "2023-07-29T10:32:35.543Z"
   },
   {
    "duration": 89,
    "start_time": "2023-07-29T10:32:35.565Z"
   },
   {
    "duration": 12,
    "start_time": "2023-07-29T10:32:35.655Z"
   },
   {
    "duration": 27,
    "start_time": "2023-07-29T10:32:35.669Z"
   },
   {
    "duration": 22,
    "start_time": "2023-07-29T10:32:35.697Z"
   },
   {
    "duration": 413,
    "start_time": "2023-07-29T10:32:35.720Z"
   },
   {
    "duration": 4,
    "start_time": "2023-07-29T10:32:36.134Z"
   },
   {
    "duration": 29,
    "start_time": "2023-07-29T10:32:36.139Z"
   },
   {
    "duration": 3,
    "start_time": "2023-07-29T10:32:36.169Z"
   },
   {
    "duration": 11,
    "start_time": "2023-07-29T10:32:36.173Z"
   },
   {
    "duration": 109,
    "start_time": "2023-07-29T10:32:36.185Z"
   },
   {
    "duration": 159,
    "start_time": "2023-07-29T10:32:36.296Z"
   },
   {
    "duration": 9,
    "start_time": "2023-07-29T10:32:36.456Z"
   },
   {
    "duration": 11,
    "start_time": "2023-07-29T10:32:36.466Z"
   },
   {
    "duration": 105,
    "start_time": "2023-07-29T10:32:36.480Z"
   },
   {
    "duration": 538,
    "start_time": "2023-07-29T10:32:36.586Z"
   },
   {
    "duration": 10,
    "start_time": "2023-07-29T10:32:37.126Z"
   },
   {
    "duration": 16,
    "start_time": "2023-07-29T10:32:37.137Z"
   },
   {
    "duration": 120,
    "start_time": "2023-07-29T10:32:37.155Z"
   },
   {
    "duration": 247,
    "start_time": "2023-07-29T10:32:37.277Z"
   },
   {
    "duration": 9,
    "start_time": "2023-07-29T10:32:37.526Z"
   },
   {
    "duration": 10,
    "start_time": "2023-07-29T10:32:37.537Z"
   },
   {
    "duration": 104,
    "start_time": "2023-07-29T10:32:37.548Z"
   },
   {
    "duration": 812,
    "start_time": "2023-07-29T10:32:37.654Z"
   },
   {
    "duration": 9,
    "start_time": "2023-07-29T10:32:38.468Z"
   },
   {
    "duration": 11,
    "start_time": "2023-07-29T10:32:38.479Z"
   },
   {
    "duration": 206,
    "start_time": "2023-07-29T10:32:38.491Z"
   },
   {
    "duration": 149,
    "start_time": "2023-07-29T10:32:38.698Z"
   },
   {
    "duration": 29,
    "start_time": "2023-07-29T10:32:38.850Z"
   },
   {
    "duration": 23,
    "start_time": "2023-07-29T10:32:38.934Z"
   },
   {
    "duration": 16,
    "start_time": "2023-07-29T10:32:40.063Z"
   },
   {
    "duration": 24,
    "start_time": "2023-07-29T10:32:40.453Z"
   },
   {
    "duration": 33,
    "start_time": "2023-07-29T10:40:40.430Z"
   },
   {
    "duration": 13,
    "start_time": "2023-07-29T10:52:37.702Z"
   },
   {
    "duration": 24,
    "start_time": "2023-07-29T10:52:37.934Z"
   },
   {
    "duration": 28,
    "start_time": "2023-07-29T10:52:39.120Z"
   },
   {
    "duration": 26,
    "start_time": "2023-07-29T11:03:48.580Z"
   },
   {
    "duration": 23,
    "start_time": "2023-07-29T11:03:53.448Z"
   },
   {
    "duration": 130,
    "start_time": "2023-07-29T11:04:18.236Z"
   },
   {
    "duration": 1679,
    "start_time": "2023-07-29T11:04:18.368Z"
   },
   {
    "duration": 5,
    "start_time": "2023-07-29T11:04:20.049Z"
   },
   {
    "duration": 14,
    "start_time": "2023-07-29T11:04:20.056Z"
   },
   {
    "duration": 46,
    "start_time": "2023-07-29T11:04:20.072Z"
   },
   {
    "duration": 65,
    "start_time": "2023-07-29T11:04:20.121Z"
   },
   {
    "duration": 22,
    "start_time": "2023-07-29T11:04:20.188Z"
   },
   {
    "duration": 44,
    "start_time": "2023-07-29T11:04:20.212Z"
   },
   {
    "duration": 20,
    "start_time": "2023-07-29T11:04:20.258Z"
   },
   {
    "duration": 13,
    "start_time": "2023-07-29T11:04:20.280Z"
   },
   {
    "duration": 60,
    "start_time": "2023-07-29T11:04:20.296Z"
   },
   {
    "duration": 14,
    "start_time": "2023-07-29T11:04:20.358Z"
   },
   {
    "duration": 203,
    "start_time": "2023-07-29T11:04:20.374Z"
   },
   {
    "duration": 3595,
    "start_time": "2023-07-29T11:04:20.579Z"
   },
   {
    "duration": 7,
    "start_time": "2023-07-29T11:04:24.175Z"
   },
   {
    "duration": 27,
    "start_time": "2023-07-29T11:04:24.183Z"
   },
   {
    "duration": 36,
    "start_time": "2023-07-29T11:04:24.212Z"
   },
   {
    "duration": 89,
    "start_time": "2023-07-29T11:04:24.250Z"
   },
   {
    "duration": 13,
    "start_time": "2023-07-29T11:04:24.340Z"
   },
   {
    "duration": 4,
    "start_time": "2023-07-29T11:04:24.355Z"
   },
   {
    "duration": 11,
    "start_time": "2023-07-29T11:04:24.360Z"
   },
   {
    "duration": 344,
    "start_time": "2023-07-29T11:04:24.372Z"
   },
   {
    "duration": 18,
    "start_time": "2023-07-29T11:04:24.717Z"
   },
   {
    "duration": 35,
    "start_time": "2023-07-29T11:04:24.737Z"
   },
   {
    "duration": 4,
    "start_time": "2023-07-29T11:04:24.773Z"
   },
   {
    "duration": 10,
    "start_time": "2023-07-29T11:04:24.778Z"
   },
   {
    "duration": 95,
    "start_time": "2023-07-29T11:04:24.790Z"
   },
   {
    "duration": 159,
    "start_time": "2023-07-29T11:04:24.886Z"
   },
   {
    "duration": 10,
    "start_time": "2023-07-29T11:04:25.048Z"
   },
   {
    "duration": 12,
    "start_time": "2023-07-29T11:04:25.059Z"
   },
   {
    "duration": 120,
    "start_time": "2023-07-29T11:04:25.072Z"
   },
   {
    "duration": 610,
    "start_time": "2023-07-29T11:04:25.194Z"
   },
   {
    "duration": 19,
    "start_time": "2023-07-29T11:04:25.806Z"
   },
   {
    "duration": 18,
    "start_time": "2023-07-29T11:04:25.826Z"
   },
   {
    "duration": 213,
    "start_time": "2023-07-29T11:04:25.845Z"
   },
   {
    "duration": 145,
    "start_time": "2023-07-29T11:04:26.059Z"
   },
   {
    "duration": 29,
    "start_time": "2023-07-29T11:04:26.206Z"
   },
   {
    "duration": 12,
    "start_time": "2023-07-29T11:04:26.237Z"
   },
   {
    "duration": 132,
    "start_time": "2023-07-29T11:04:26.250Z"
   },
   {
    "duration": 805,
    "start_time": "2023-07-29T11:04:26.384Z"
   },
   {
    "duration": 9,
    "start_time": "2023-07-29T11:04:27.190Z"
   },
   {
    "duration": 12,
    "start_time": "2023-07-29T11:04:27.200Z"
   },
   {
    "duration": 102,
    "start_time": "2023-07-29T11:04:27.230Z"
   },
   {
    "duration": 311,
    "start_time": "2023-07-29T11:04:27.333Z"
   },
   {
    "duration": 32,
    "start_time": "2023-07-29T11:04:27.646Z"
   },
   {
    "duration": 46,
    "start_time": "2023-07-29T11:04:27.680Z"
   },
   {
    "duration": 24,
    "start_time": "2023-07-29T11:04:27.727Z"
   },
   {
    "duration": 36,
    "start_time": "2023-07-29T11:04:27.753Z"
   },
   {
    "duration": 48,
    "start_time": "2023-07-29T11:04:27.791Z"
   },
   {
    "duration": 25,
    "start_time": "2023-07-29T11:04:27.842Z"
   },
   {
    "duration": 26,
    "start_time": "2023-07-29T11:04:33.034Z"
   },
   {
    "duration": 20,
    "start_time": "2023-07-29T11:05:34.215Z"
   },
   {
    "duration": 28,
    "start_time": "2023-07-29T11:07:09.380Z"
   },
   {
    "duration": 28,
    "start_time": "2023-07-29T11:07:34.230Z"
   },
   {
    "duration": 138,
    "start_time": "2023-07-29T11:07:38.299Z"
   },
   {
    "duration": 1704,
    "start_time": "2023-07-29T11:07:38.439Z"
   },
   {
    "duration": 6,
    "start_time": "2023-07-29T11:07:40.145Z"
   },
   {
    "duration": 12,
    "start_time": "2023-07-29T11:07:40.152Z"
   },
   {
    "duration": 12,
    "start_time": "2023-07-29T11:07:40.166Z"
   },
   {
    "duration": 6,
    "start_time": "2023-07-29T11:07:40.179Z"
   },
   {
    "duration": 9,
    "start_time": "2023-07-29T11:07:40.186Z"
   },
   {
    "duration": 19,
    "start_time": "2023-07-29T11:07:40.196Z"
   },
   {
    "duration": 227,
    "start_time": "2023-07-29T11:07:40.216Z"
   },
   {
    "duration": 8,
    "start_time": "2023-07-29T11:07:40.444Z"
   },
   {
    "duration": 11,
    "start_time": "2023-07-29T11:07:40.455Z"
   },
   {
    "duration": 10,
    "start_time": "2023-07-29T11:07:40.467Z"
   },
   {
    "duration": 77,
    "start_time": "2023-07-29T11:07:40.478Z"
   },
   {
    "duration": 3653,
    "start_time": "2023-07-29T11:07:40.556Z"
   },
   {
    "duration": 14,
    "start_time": "2023-07-29T11:07:44.211Z"
   },
   {
    "duration": 36,
    "start_time": "2023-07-29T11:07:44.238Z"
   },
   {
    "duration": 27,
    "start_time": "2023-07-29T11:07:44.276Z"
   },
   {
    "duration": 98,
    "start_time": "2023-07-29T11:07:44.305Z"
   },
   {
    "duration": 33,
    "start_time": "2023-07-29T11:07:44.405Z"
   },
   {
    "duration": 10,
    "start_time": "2023-07-29T11:07:44.439Z"
   },
   {
    "duration": 10,
    "start_time": "2023-07-29T11:07:44.450Z"
   },
   {
    "duration": 473,
    "start_time": "2023-07-29T11:07:44.462Z"
   },
   {
    "duration": 4,
    "start_time": "2023-07-29T11:07:44.937Z"
   },
   {
    "duration": 27,
    "start_time": "2023-07-29T11:07:44.943Z"
   },
   {
    "duration": 4,
    "start_time": "2023-07-29T11:07:44.972Z"
   },
   {
    "duration": 10,
    "start_time": "2023-07-29T11:07:44.977Z"
   },
   {
    "duration": 121,
    "start_time": "2023-07-29T11:07:44.988Z"
   },
   {
    "duration": 202,
    "start_time": "2023-07-29T11:07:45.110Z"
   },
   {
    "duration": 15,
    "start_time": "2023-07-29T11:07:45.316Z"
   },
   {
    "duration": 21,
    "start_time": "2023-07-29T11:07:45.333Z"
   },
   {
    "duration": 112,
    "start_time": "2023-07-29T11:07:45.355Z"
   },
   {
    "duration": 574,
    "start_time": "2023-07-29T11:07:45.469Z"
   },
   {
    "duration": 8,
    "start_time": "2023-07-29T11:07:46.044Z"
   },
   {
    "duration": 7,
    "start_time": "2023-07-29T11:07:46.054Z"
   },
   {
    "duration": 98,
    "start_time": "2023-07-29T11:07:46.062Z"
   },
   {
    "duration": 174,
    "start_time": "2023-07-29T11:07:46.161Z"
   },
   {
    "duration": 8,
    "start_time": "2023-07-29T11:07:46.337Z"
   },
   {
    "duration": 7,
    "start_time": "2023-07-29T11:07:46.346Z"
   },
   {
    "duration": 109,
    "start_time": "2023-07-29T11:07:46.355Z"
   },
   {
    "duration": 990,
    "start_time": "2023-07-29T11:07:46.466Z"
   },
   {
    "duration": 9,
    "start_time": "2023-07-29T11:07:47.457Z"
   },
   {
    "duration": 9,
    "start_time": "2023-07-29T11:07:47.467Z"
   },
   {
    "duration": 113,
    "start_time": "2023-07-29T11:07:47.478Z"
   },
   {
    "duration": 151,
    "start_time": "2023-07-29T11:07:47.592Z"
   },
   {
    "duration": 29,
    "start_time": "2023-07-29T11:07:47.745Z"
   },
   {
    "duration": 21,
    "start_time": "2023-07-29T11:07:47.776Z"
   },
   {
    "duration": 45,
    "start_time": "2023-07-29T11:07:47.798Z"
   },
   {
    "duration": 23,
    "start_time": "2023-07-29T11:07:47.845Z"
   },
   {
    "duration": 28,
    "start_time": "2023-07-29T11:07:47.870Z"
   },
   {
    "duration": 30,
    "start_time": "2023-07-29T11:07:47.899Z"
   },
   {
    "duration": 30,
    "start_time": "2023-07-29T11:07:47.930Z"
   },
   {
    "duration": 31,
    "start_time": "2023-07-29T11:09:44.505Z"
   },
   {
    "duration": 23,
    "start_time": "2023-07-29T11:09:46.332Z"
   },
   {
    "duration": 24,
    "start_time": "2023-07-29T11:10:59.952Z"
   },
   {
    "duration": 15,
    "start_time": "2023-07-29T11:11:21.688Z"
   },
   {
    "duration": 21,
    "start_time": "2023-07-29T11:12:16.055Z"
   },
   {
    "duration": 21,
    "start_time": "2023-07-29T11:12:19.356Z"
   },
   {
    "duration": 20,
    "start_time": "2023-07-29T11:12:22.208Z"
   },
   {
    "duration": 21,
    "start_time": "2023-07-29T11:13:11.131Z"
   },
   {
    "duration": 22,
    "start_time": "2023-07-29T11:13:13.692Z"
   },
   {
    "duration": 28,
    "start_time": "2023-07-29T11:13:19.156Z"
   },
   {
    "duration": 24,
    "start_time": "2023-07-29T11:13:56.861Z"
   },
   {
    "duration": 122,
    "start_time": "2023-07-29T11:14:33.347Z"
   },
   {
    "duration": 1835,
    "start_time": "2023-07-29T11:14:33.670Z"
   },
   {
    "duration": 5,
    "start_time": "2023-07-29T11:14:35.507Z"
   },
   {
    "duration": 23,
    "start_time": "2023-07-29T11:14:35.520Z"
   },
   {
    "duration": 25,
    "start_time": "2023-07-29T11:14:35.544Z"
   },
   {
    "duration": 7,
    "start_time": "2023-07-29T11:14:35.570Z"
   },
   {
    "duration": 12,
    "start_time": "2023-07-29T11:14:35.579Z"
   },
   {
    "duration": 8,
    "start_time": "2023-07-29T11:14:35.934Z"
   },
   {
    "duration": 9,
    "start_time": "2023-07-29T11:14:35.998Z"
   },
   {
    "duration": 9,
    "start_time": "2023-07-29T11:14:36.080Z"
   },
   {
    "duration": 12,
    "start_time": "2023-07-29T11:14:36.139Z"
   },
   {
    "duration": 9,
    "start_time": "2023-07-29T11:14:36.204Z"
   },
   {
    "duration": 70,
    "start_time": "2023-07-29T11:14:36.265Z"
   },
   {
    "duration": 3634,
    "start_time": "2023-07-29T11:14:36.336Z"
   },
   {
    "duration": 6,
    "start_time": "2023-07-29T11:14:39.972Z"
   },
   {
    "duration": 22,
    "start_time": "2023-07-29T11:14:39.979Z"
   },
   {
    "duration": 37,
    "start_time": "2023-07-29T11:14:40.003Z"
   },
   {
    "duration": 91,
    "start_time": "2023-07-29T11:14:40.042Z"
   },
   {
    "duration": 13,
    "start_time": "2023-07-29T11:14:40.134Z"
   },
   {
    "duration": 4,
    "start_time": "2023-07-29T11:14:40.149Z"
   },
   {
    "duration": 20,
    "start_time": "2023-07-29T11:14:40.154Z"
   },
   {
    "duration": 334,
    "start_time": "2023-07-29T11:14:40.176Z"
   },
   {
    "duration": 18,
    "start_time": "2023-07-29T11:14:40.512Z"
   },
   {
    "duration": 30,
    "start_time": "2023-07-29T11:14:40.532Z"
   },
   {
    "duration": 4,
    "start_time": "2023-07-29T11:14:40.564Z"
   },
   {
    "duration": 17,
    "start_time": "2023-07-29T11:14:40.569Z"
   },
   {
    "duration": 91,
    "start_time": "2023-07-29T11:14:40.587Z"
   },
   {
    "duration": 161,
    "start_time": "2023-07-29T11:14:40.680Z"
   },
   {
    "duration": 10,
    "start_time": "2023-07-29T11:14:44.133Z"
   },
   {
    "duration": 7,
    "start_time": "2023-07-29T11:14:44.707Z"
   },
   {
    "duration": 93,
    "start_time": "2023-07-29T11:14:45.068Z"
   },
   {
    "duration": 743,
    "start_time": "2023-07-29T11:14:45.308Z"
   },
   {
    "duration": 8,
    "start_time": "2023-07-29T11:14:46.052Z"
   },
   {
    "duration": 6,
    "start_time": "2023-07-29T11:14:46.062Z"
   },
   {
    "duration": 102,
    "start_time": "2023-07-29T11:14:46.069Z"
   },
   {
    "duration": 141,
    "start_time": "2023-07-29T11:14:46.307Z"
   },
   {
    "duration": 7,
    "start_time": "2023-07-29T11:14:46.535Z"
   },
   {
    "duration": 8,
    "start_time": "2023-07-29T11:14:46.783Z"
   },
   {
    "duration": 83,
    "start_time": "2023-07-29T11:14:47.033Z"
   },
   {
    "duration": 801,
    "start_time": "2023-07-29T11:14:47.264Z"
   },
   {
    "duration": 8,
    "start_time": "2023-07-29T11:14:48.068Z"
   },
   {
    "duration": 7,
    "start_time": "2023-07-29T11:14:48.078Z"
   },
   {
    "duration": 126,
    "start_time": "2023-07-29T11:14:48.087Z"
   },
   {
    "duration": 150,
    "start_time": "2023-07-29T11:14:48.219Z"
   },
   {
    "duration": 32,
    "start_time": "2023-07-29T11:14:48.371Z"
   },
   {
    "duration": 28,
    "start_time": "2023-07-29T11:14:48.533Z"
   },
   {
    "duration": 13,
    "start_time": "2023-07-29T11:14:49.603Z"
   },
   {
    "duration": 32,
    "start_time": "2023-07-29T11:14:50.216Z"
   },
   {
    "duration": 31,
    "start_time": "2023-07-29T11:14:51.938Z"
   },
   {
    "duration": 15,
    "start_time": "2023-07-29T11:14:53.399Z"
   },
   {
    "duration": 34,
    "start_time": "2023-07-29T11:14:53.804Z"
   },
   {
    "duration": 25,
    "start_time": "2023-07-29T11:15:01.771Z"
   },
   {
    "duration": 30,
    "start_time": "2023-07-29T11:15:08.007Z"
   },
   {
    "duration": 34,
    "start_time": "2023-07-29T11:21:49.408Z"
   },
   {
    "duration": 29,
    "start_time": "2023-07-29T11:23:34.803Z"
   },
   {
    "duration": 21,
    "start_time": "2023-07-29T11:25:51.257Z"
   },
   {
    "duration": 30,
    "start_time": "2023-07-29T11:26:00.927Z"
   },
   {
    "duration": 25,
    "start_time": "2023-07-29T11:26:09.454Z"
   },
   {
    "duration": 28,
    "start_time": "2023-07-29T11:26:13.213Z"
   },
   {
    "duration": 110,
    "start_time": "2023-07-29T18:17:23.558Z"
   },
   {
    "duration": 1780,
    "start_time": "2023-07-29T18:17:23.670Z"
   },
   {
    "duration": 6,
    "start_time": "2023-07-29T18:17:25.451Z"
   },
   {
    "duration": 30,
    "start_time": "2023-07-29T18:17:25.458Z"
   },
   {
    "duration": 26,
    "start_time": "2023-07-29T18:17:25.490Z"
   },
   {
    "duration": 21,
    "start_time": "2023-07-29T18:17:25.517Z"
   },
   {
    "duration": 32,
    "start_time": "2023-07-29T18:17:25.539Z"
   },
   {
    "duration": 16,
    "start_time": "2023-07-29T18:17:25.573Z"
   },
   {
    "duration": 13,
    "start_time": "2023-07-29T18:17:25.590Z"
   },
   {
    "duration": 8,
    "start_time": "2023-07-29T18:17:25.604Z"
   },
   {
    "duration": 12,
    "start_time": "2023-07-29T18:17:25.717Z"
   },
   {
    "duration": 10,
    "start_time": "2023-07-29T18:17:27.183Z"
   },
   {
    "duration": 59,
    "start_time": "2023-07-29T18:17:27.789Z"
   },
   {
    "duration": 3461,
    "start_time": "2023-07-29T18:17:28.237Z"
   },
   {
    "duration": 6,
    "start_time": "2023-07-29T18:17:31.699Z"
   },
   {
    "duration": 22,
    "start_time": "2023-07-29T18:17:33.029Z"
   },
   {
    "duration": 20,
    "start_time": "2023-07-29T18:17:33.956Z"
   },
   {
    "duration": 72,
    "start_time": "2023-07-29T18:17:34.785Z"
   },
   {
    "duration": 14,
    "start_time": "2023-07-29T18:17:35.568Z"
   },
   {
    "duration": 4,
    "start_time": "2023-07-29T18:17:36.921Z"
   },
   {
    "duration": 11,
    "start_time": "2023-07-29T18:17:37.548Z"
   },
   {
    "duration": 309,
    "start_time": "2023-07-29T18:17:38.272Z"
   },
   {
    "duration": 4,
    "start_time": "2023-07-29T18:17:39.126Z"
   },
   {
    "duration": 25,
    "start_time": "2023-07-29T18:17:40.491Z"
   },
   {
    "duration": 4,
    "start_time": "2023-07-29T18:17:41.334Z"
   },
   {
    "duration": 7,
    "start_time": "2023-07-29T18:17:42.225Z"
   },
   {
    "duration": 89,
    "start_time": "2023-07-29T18:17:43.180Z"
   },
   {
    "duration": 139,
    "start_time": "2023-07-29T18:17:44.378Z"
   },
   {
    "duration": 9,
    "start_time": "2023-07-29T18:17:45.529Z"
   },
   {
    "duration": 7,
    "start_time": "2023-07-29T18:17:46.433Z"
   },
   {
    "duration": 90,
    "start_time": "2023-07-29T18:17:47.405Z"
   },
   {
    "duration": 666,
    "start_time": "2023-07-29T18:17:48.584Z"
   },
   {
    "duration": 8,
    "start_time": "2023-07-29T18:17:50.052Z"
   },
   {
    "duration": 7,
    "start_time": "2023-07-29T18:17:50.933Z"
   },
   {
    "duration": 78,
    "start_time": "2023-07-29T18:17:51.563Z"
   },
   {
    "duration": 136,
    "start_time": "2023-07-29T18:17:52.483Z"
   },
   {
    "duration": 9,
    "start_time": "2023-07-29T18:17:53.162Z"
   },
   {
    "duration": 9,
    "start_time": "2023-07-29T18:17:53.786Z"
   },
   {
    "duration": 81,
    "start_time": "2023-07-29T18:17:54.872Z"
   },
   {
    "duration": 728,
    "start_time": "2023-07-29T18:17:55.884Z"
   },
   {
    "duration": 8,
    "start_time": "2023-07-29T18:17:56.742Z"
   },
   {
    "duration": 6,
    "start_time": "2023-07-29T18:17:57.468Z"
   },
   {
    "duration": 98,
    "start_time": "2023-07-29T18:17:58.130Z"
   },
   {
    "duration": 136,
    "start_time": "2023-07-29T18:17:58.899Z"
   },
   {
    "duration": 31,
    "start_time": "2023-07-29T18:17:59.963Z"
   },
   {
    "duration": 27,
    "start_time": "2023-07-29T18:18:01.673Z"
   },
   {
    "duration": 17,
    "start_time": "2023-07-29T18:18:03.710Z"
   },
   {
    "duration": 24,
    "start_time": "2023-07-29T18:18:04.249Z"
   },
   {
    "duration": 27,
    "start_time": "2023-07-29T18:18:06.041Z"
   },
   {
    "duration": 1276,
    "start_time": "2023-07-29T18:18:08.039Z"
   },
   {
    "duration": 25,
    "start_time": "2023-07-29T18:18:22.027Z"
   },
   {
    "duration": 76,
    "start_time": "2023-07-29T18:18:44.251Z"
   },
   {
    "duration": 20,
    "start_time": "2023-07-29T18:18:49.103Z"
   },
   {
    "duration": 17,
    "start_time": "2023-07-29T18:18:52.176Z"
   },
   {
    "duration": 21,
    "start_time": "2023-07-29T18:18:54.429Z"
   },
   {
    "duration": 21,
    "start_time": "2023-07-29T18:19:06.260Z"
   },
   {
    "duration": 24,
    "start_time": "2023-07-29T18:20:12.333Z"
   },
   {
    "duration": 22,
    "start_time": "2023-07-29T18:21:44.630Z"
   },
   {
    "duration": 22,
    "start_time": "2023-07-29T18:21:56.134Z"
   },
   {
    "duration": 31,
    "start_time": "2023-07-29T18:23:39.547Z"
   },
   {
    "duration": 28,
    "start_time": "2023-07-29T18:23:49.942Z"
   },
   {
    "duration": 22,
    "start_time": "2023-07-29T18:26:59.212Z"
   },
   {
    "duration": 29,
    "start_time": "2023-07-29T18:27:08.956Z"
   },
   {
    "duration": 26,
    "start_time": "2023-07-29T18:27:35.515Z"
   },
   {
    "duration": 26,
    "start_time": "2023-07-29T18:27:50.421Z"
   },
   {
    "duration": 27,
    "start_time": "2023-07-29T18:28:44.739Z"
   },
   {
    "duration": 22,
    "start_time": "2023-07-29T18:28:46.869Z"
   },
   {
    "duration": 14,
    "start_time": "2023-07-29T18:28:47.785Z"
   },
   {
    "duration": 26,
    "start_time": "2023-07-29T18:28:48.133Z"
   },
   {
    "duration": 26,
    "start_time": "2023-07-29T18:28:49.266Z"
   },
   {
    "duration": 22,
    "start_time": "2023-07-29T18:28:50.768Z"
   },
   {
    "duration": 24,
    "start_time": "2023-07-29T18:30:06.227Z"
   },
   {
    "duration": 14,
    "start_time": "2023-07-29T18:30:28.015Z"
   },
   {
    "duration": 24,
    "start_time": "2023-07-29T18:30:37.386Z"
   },
   {
    "duration": 23,
    "start_time": "2023-07-29T18:30:46.076Z"
   },
   {
    "duration": 23,
    "start_time": "2023-07-29T18:30:48.620Z"
   },
   {
    "duration": 24,
    "start_time": "2023-07-29T18:37:22.571Z"
   },
   {
    "duration": 23,
    "start_time": "2023-07-29T18:37:30.132Z"
   },
   {
    "duration": 24,
    "start_time": "2023-07-29T18:37:33.223Z"
   },
   {
    "duration": 29,
    "start_time": "2023-07-29T18:37:58.890Z"
   },
   {
    "duration": 11,
    "start_time": "2023-07-29T18:42:31.590Z"
   },
   {
    "duration": 32,
    "start_time": "2023-07-29T18:42:36.638Z"
   },
   {
    "duration": 28,
    "start_time": "2023-07-29T18:42:53.686Z"
   },
   {
    "duration": 31,
    "start_time": "2023-07-29T18:42:55.434Z"
   },
   {
    "duration": 28,
    "start_time": "2023-07-29T18:43:00.320Z"
   },
   {
    "duration": 30,
    "start_time": "2023-07-29T18:43:01.923Z"
   },
   {
    "duration": 114,
    "start_time": "2023-07-29T18:43:08.256Z"
   },
   {
    "duration": 1861,
    "start_time": "2023-07-29T18:43:08.371Z"
   },
   {
    "duration": 5,
    "start_time": "2023-07-29T18:43:10.234Z"
   },
   {
    "duration": 24,
    "start_time": "2023-07-29T18:43:10.240Z"
   },
   {
    "duration": 21,
    "start_time": "2023-07-29T18:43:10.266Z"
   },
   {
    "duration": 4,
    "start_time": "2023-07-29T18:43:10.288Z"
   },
   {
    "duration": 7,
    "start_time": "2023-07-29T18:43:10.294Z"
   },
   {
    "duration": 8,
    "start_time": "2023-07-29T18:43:10.303Z"
   },
   {
    "duration": 28,
    "start_time": "2023-07-29T18:43:10.312Z"
   },
   {
    "duration": 14,
    "start_time": "2023-07-29T18:43:10.341Z"
   },
   {
    "duration": 16,
    "start_time": "2023-07-29T18:43:10.358Z"
   },
   {
    "duration": 36,
    "start_time": "2023-07-29T18:43:10.375Z"
   },
   {
    "duration": 68,
    "start_time": "2023-07-29T18:43:10.413Z"
   },
   {
    "duration": 3704,
    "start_time": "2023-07-29T18:43:10.482Z"
   },
   {
    "duration": 6,
    "start_time": "2023-07-29T18:43:14.188Z"
   },
   {
    "duration": 33,
    "start_time": "2023-07-29T18:43:14.195Z"
   },
   {
    "duration": 27,
    "start_time": "2023-07-29T18:43:14.230Z"
   },
   {
    "duration": 104,
    "start_time": "2023-07-29T18:43:14.259Z"
   },
   {
    "duration": 19,
    "start_time": "2023-07-29T18:43:14.365Z"
   },
   {
    "duration": 5,
    "start_time": "2023-07-29T18:43:14.387Z"
   },
   {
    "duration": 32,
    "start_time": "2023-07-29T18:43:14.393Z"
   },
   {
    "duration": 341,
    "start_time": "2023-07-29T18:43:14.426Z"
   },
   {
    "duration": 4,
    "start_time": "2023-07-29T18:43:14.769Z"
   },
   {
    "duration": 31,
    "start_time": "2023-07-29T18:43:14.774Z"
   },
   {
    "duration": 4,
    "start_time": "2023-07-29T18:43:14.820Z"
   },
   {
    "duration": 18,
    "start_time": "2023-07-29T18:43:14.826Z"
   },
   {
    "duration": 100,
    "start_time": "2023-07-29T18:43:14.846Z"
   },
   {
    "duration": 174,
    "start_time": "2023-07-29T18:43:14.948Z"
   },
   {
    "duration": 10,
    "start_time": "2023-07-29T18:43:15.125Z"
   },
   {
    "duration": 7,
    "start_time": "2023-07-29T18:43:15.137Z"
   },
   {
    "duration": 147,
    "start_time": "2023-07-29T18:43:15.145Z"
   },
   {
    "duration": 597,
    "start_time": "2023-07-29T18:43:15.294Z"
   },
   {
    "duration": 12,
    "start_time": "2023-07-29T18:43:15.893Z"
   },
   {
    "duration": 18,
    "start_time": "2023-07-29T18:43:15.907Z"
   },
   {
    "duration": 299,
    "start_time": "2023-07-29T18:43:15.927Z"
   },
   {
    "duration": 150,
    "start_time": "2023-07-29T18:43:16.228Z"
   },
   {
    "duration": 8,
    "start_time": "2023-07-29T18:43:16.380Z"
   },
   {
    "duration": 16,
    "start_time": "2023-07-29T18:43:16.390Z"
   },
   {
    "duration": 104,
    "start_time": "2023-07-29T18:43:16.420Z"
   },
   {
    "duration": 858,
    "start_time": "2023-07-29T18:43:16.525Z"
   },
   {
    "duration": 9,
    "start_time": "2023-07-29T18:43:17.384Z"
   },
   {
    "duration": 7,
    "start_time": "2023-07-29T18:43:17.395Z"
   },
   {
    "duration": 110,
    "start_time": "2023-07-29T18:43:17.420Z"
   },
   {
    "duration": 154,
    "start_time": "2023-07-29T18:43:17.531Z"
   },
   {
    "duration": 41,
    "start_time": "2023-07-29T18:43:17.687Z"
   },
   {
    "duration": 22,
    "start_time": "2023-07-29T18:43:17.730Z"
   },
   {
    "duration": 13,
    "start_time": "2023-07-29T18:43:17.754Z"
   },
   {
    "duration": 53,
    "start_time": "2023-07-29T18:43:17.768Z"
   },
   {
    "duration": 30,
    "start_time": "2023-07-29T18:43:17.822Z"
   },
   {
    "duration": 1265,
    "start_time": "2023-07-29T18:43:17.855Z"
   },
   {
    "duration": 10,
    "start_time": "2023-07-29T18:43:36.113Z"
   },
   {
    "duration": 34,
    "start_time": "2023-07-29T18:43:48.113Z"
   },
   {
    "duration": 30,
    "start_time": "2023-07-29T18:43:50.819Z"
   },
   {
    "duration": 125,
    "start_time": "2023-07-29T18:44:07.712Z"
   },
   {
    "duration": 1895,
    "start_time": "2023-07-29T18:44:07.839Z"
   },
   {
    "duration": 6,
    "start_time": "2023-07-29T18:44:09.735Z"
   },
   {
    "duration": 10,
    "start_time": "2023-07-29T18:44:09.742Z"
   },
   {
    "duration": 10,
    "start_time": "2023-07-29T18:44:09.754Z"
   },
   {
    "duration": 5,
    "start_time": "2023-07-29T18:44:09.766Z"
   },
   {
    "duration": 6,
    "start_time": "2023-07-29T18:44:09.772Z"
   },
   {
    "duration": 8,
    "start_time": "2023-07-29T18:44:09.779Z"
   },
   {
    "duration": 39,
    "start_time": "2023-07-29T18:44:09.789Z"
   },
   {
    "duration": 8,
    "start_time": "2023-07-29T18:44:09.830Z"
   },
   {
    "duration": 16,
    "start_time": "2023-07-29T18:44:09.840Z"
   },
   {
    "duration": 13,
    "start_time": "2023-07-29T18:44:09.857Z"
   },
   {
    "duration": 77,
    "start_time": "2023-07-29T18:44:09.872Z"
   },
   {
    "duration": 3796,
    "start_time": "2023-07-29T18:44:09.950Z"
   },
   {
    "duration": 7,
    "start_time": "2023-07-29T18:44:13.747Z"
   },
   {
    "duration": 83,
    "start_time": "2023-07-29T18:44:13.755Z"
   },
   {
    "duration": 36,
    "start_time": "2023-07-29T18:44:13.840Z"
   },
   {
    "duration": 94,
    "start_time": "2023-07-29T18:44:13.878Z"
   },
   {
    "duration": 14,
    "start_time": "2023-07-29T18:44:13.974Z"
   },
   {
    "duration": 26,
    "start_time": "2023-07-29T18:44:13.989Z"
   },
   {
    "duration": 13,
    "start_time": "2023-07-29T18:44:14.017Z"
   },
   {
    "duration": 338,
    "start_time": "2023-07-29T18:44:14.032Z"
   },
   {
    "duration": 4,
    "start_time": "2023-07-29T18:44:14.371Z"
   },
   {
    "duration": 29,
    "start_time": "2023-07-29T18:44:14.376Z"
   },
   {
    "duration": 14,
    "start_time": "2023-07-29T18:44:14.406Z"
   },
   {
    "duration": 17,
    "start_time": "2023-07-29T18:44:14.422Z"
   },
   {
    "duration": 105,
    "start_time": "2023-07-29T18:44:14.441Z"
   },
   {
    "duration": 173,
    "start_time": "2023-07-29T18:44:14.547Z"
   },
   {
    "duration": 10,
    "start_time": "2023-07-29T18:44:14.723Z"
   },
   {
    "duration": 18,
    "start_time": "2023-07-29T18:44:14.734Z"
   },
   {
    "duration": 107,
    "start_time": "2023-07-29T18:44:14.753Z"
   },
   {
    "duration": 644,
    "start_time": "2023-07-29T18:44:14.862Z"
   },
   {
    "duration": 14,
    "start_time": "2023-07-29T18:44:15.507Z"
   },
   {
    "duration": 6,
    "start_time": "2023-07-29T18:44:15.523Z"
   },
   {
    "duration": 107,
    "start_time": "2023-07-29T18:44:15.530Z"
   },
   {
    "duration": 156,
    "start_time": "2023-07-29T18:44:15.639Z"
   },
   {
    "duration": 28,
    "start_time": "2023-07-29T18:44:15.796Z"
   },
   {
    "duration": 8,
    "start_time": "2023-07-29T18:44:15.826Z"
   },
   {
    "duration": 99,
    "start_time": "2023-07-29T18:44:15.835Z"
   },
   {
    "duration": 1207,
    "start_time": "2023-07-29T18:44:15.936Z"
   },
   {
    "duration": 9,
    "start_time": "2023-07-29T18:44:17.145Z"
   },
   {
    "duration": 8,
    "start_time": "2023-07-29T18:44:17.155Z"
   },
   {
    "duration": 131,
    "start_time": "2023-07-29T18:44:17.165Z"
   },
   {
    "duration": 151,
    "start_time": "2023-07-29T18:44:17.298Z"
   },
   {
    "duration": 32,
    "start_time": "2023-07-29T18:44:17.451Z"
   },
   {
    "duration": 39,
    "start_time": "2023-07-29T18:44:17.484Z"
   },
   {
    "duration": 14,
    "start_time": "2023-07-29T18:44:17.526Z"
   },
   {
    "duration": 26,
    "start_time": "2023-07-29T18:44:17.542Z"
   },
   {
    "duration": 56,
    "start_time": "2023-07-29T18:44:17.570Z"
   },
   {
    "duration": 33,
    "start_time": "2023-07-29T18:44:19.120Z"
   },
   {
    "duration": 30,
    "start_time": "2023-07-29T18:45:21.062Z"
   },
   {
    "duration": 121,
    "start_time": "2023-07-29T18:45:29.019Z"
   },
   {
    "duration": 1591,
    "start_time": "2023-07-29T18:45:29.561Z"
   },
   {
    "duration": 6,
    "start_time": "2023-07-29T18:45:31.154Z"
   },
   {
    "duration": 43,
    "start_time": "2023-07-29T18:45:31.161Z"
   },
   {
    "duration": 28,
    "start_time": "2023-07-29T18:45:31.206Z"
   },
   {
    "duration": 4,
    "start_time": "2023-07-29T18:45:31.353Z"
   },
   {
    "duration": 6,
    "start_time": "2023-07-29T18:45:31.987Z"
   },
   {
    "duration": 7,
    "start_time": "2023-07-29T18:45:32.051Z"
   },
   {
    "duration": 10,
    "start_time": "2023-07-29T18:45:32.119Z"
   },
   {
    "duration": 11,
    "start_time": "2023-07-29T18:45:32.221Z"
   },
   {
    "duration": 14,
    "start_time": "2023-07-29T18:45:32.268Z"
   },
   {
    "duration": 10,
    "start_time": "2023-07-29T18:45:32.324Z"
   },
   {
    "duration": 66,
    "start_time": "2023-07-29T18:45:32.400Z"
   },
   {
    "duration": 3488,
    "start_time": "2023-07-29T18:45:32.469Z"
   },
   {
    "duration": 6,
    "start_time": "2023-07-29T18:45:35.959Z"
   },
   {
    "duration": 31,
    "start_time": "2023-07-29T18:45:35.966Z"
   },
   {
    "duration": 27,
    "start_time": "2023-07-29T18:45:35.999Z"
   },
   {
    "duration": 76,
    "start_time": "2023-07-29T18:45:36.027Z"
   },
   {
    "duration": 25,
    "start_time": "2023-07-29T18:45:36.104Z"
   },
   {
    "duration": 4,
    "start_time": "2023-07-29T18:45:36.130Z"
   },
   {
    "duration": 14,
    "start_time": "2023-07-29T18:45:36.136Z"
   },
   {
    "duration": 327,
    "start_time": "2023-07-29T18:45:36.151Z"
   },
   {
    "duration": 4,
    "start_time": "2023-07-29T18:45:36.480Z"
   },
   {
    "duration": 36,
    "start_time": "2023-07-29T18:45:36.485Z"
   },
   {
    "duration": 4,
    "start_time": "2023-07-29T18:45:36.522Z"
   },
   {
    "duration": 11,
    "start_time": "2023-07-29T18:45:36.527Z"
   },
   {
    "duration": 102,
    "start_time": "2023-07-29T18:45:36.540Z"
   },
   {
    "duration": 156,
    "start_time": "2023-07-29T18:45:36.643Z"
   },
   {
    "duration": 19,
    "start_time": "2023-07-29T18:45:36.801Z"
   },
   {
    "duration": 6,
    "start_time": "2023-07-29T18:45:36.822Z"
   },
   {
    "duration": 101,
    "start_time": "2023-07-29T18:45:36.829Z"
   },
   {
    "duration": 788,
    "start_time": "2023-07-29T18:45:36.932Z"
   },
   {
    "duration": 9,
    "start_time": "2023-07-29T18:45:37.721Z"
   },
   {
    "duration": 7,
    "start_time": "2023-07-29T18:45:37.731Z"
   },
   {
    "duration": 104,
    "start_time": "2023-07-29T18:45:37.740Z"
   },
   {
    "duration": 144,
    "start_time": "2023-07-29T18:45:37.846Z"
   },
   {
    "duration": 7,
    "start_time": "2023-07-29T18:45:37.992Z"
   },
   {
    "duration": 22,
    "start_time": "2023-07-29T18:45:38.001Z"
   },
   {
    "duration": 106,
    "start_time": "2023-07-29T18:45:38.024Z"
   },
   {
    "duration": 830,
    "start_time": "2023-07-29T18:45:38.132Z"
   },
   {
    "duration": 8,
    "start_time": "2023-07-29T18:45:38.965Z"
   },
   {
    "duration": 13,
    "start_time": "2023-07-29T18:45:38.975Z"
   },
   {
    "duration": 130,
    "start_time": "2023-07-29T18:45:38.989Z"
   },
   {
    "duration": 142,
    "start_time": "2023-07-29T18:45:39.121Z"
   },
   {
    "duration": 33,
    "start_time": "2023-07-29T18:45:39.264Z"
   },
   {
    "duration": 40,
    "start_time": "2023-07-29T18:45:39.299Z"
   },
   {
    "duration": 14,
    "start_time": "2023-07-29T18:45:39.340Z"
   },
   {
    "duration": 26,
    "start_time": "2023-07-29T18:45:39.355Z"
   },
   {
    "duration": 58,
    "start_time": "2023-07-29T18:45:39.383Z"
   },
   {
    "duration": 47,
    "start_time": "2023-07-29T18:45:39.443Z"
   },
   {
    "duration": 39,
    "start_time": "2023-07-29T18:47:10.242Z"
   },
   {
    "duration": 131,
    "start_time": "2023-07-29T18:47:33.818Z"
   },
   {
    "duration": 34,
    "start_time": "2023-07-29T18:48:06.842Z"
   },
   {
    "duration": 29,
    "start_time": "2023-07-29T18:48:10.525Z"
   },
   {
    "duration": 30,
    "start_time": "2023-07-29T18:48:14.363Z"
   },
   {
    "duration": 27,
    "start_time": "2023-07-29T18:48:33.925Z"
   },
   {
    "duration": 43,
    "start_time": "2023-07-29T18:48:49.510Z"
   },
   {
    "duration": 33,
    "start_time": "2023-07-29T18:50:03.395Z"
   },
   {
    "duration": 26,
    "start_time": "2023-07-29T18:50:15.524Z"
   },
   {
    "duration": 37,
    "start_time": "2023-07-29T18:51:58.031Z"
   },
   {
    "duration": 22,
    "start_time": "2023-07-29T18:51:58.284Z"
   },
   {
    "duration": 13,
    "start_time": "2023-07-29T18:51:59.098Z"
   },
   {
    "duration": 24,
    "start_time": "2023-07-29T18:51:59.274Z"
   },
   {
    "duration": 39,
    "start_time": "2023-07-29T18:52:54.357Z"
   },
   {
    "duration": 125,
    "start_time": "2023-07-29T18:52:57.823Z"
   },
   {
    "duration": 28,
    "start_time": "2023-07-29T18:53:26.351Z"
   },
   {
    "duration": 121,
    "start_time": "2023-07-29T18:53:27.125Z"
   },
   {
    "duration": 31,
    "start_time": "2023-07-29T18:53:30.762Z"
   },
   {
    "duration": 112,
    "start_time": "2023-07-29T18:53:47.813Z"
   },
   {
    "duration": 1862,
    "start_time": "2023-07-29T18:53:47.927Z"
   },
   {
    "duration": 5,
    "start_time": "2023-07-29T18:53:49.791Z"
   },
   {
    "duration": 8,
    "start_time": "2023-07-29T18:53:49.797Z"
   },
   {
    "duration": 26,
    "start_time": "2023-07-29T18:53:49.807Z"
   },
   {
    "duration": 4,
    "start_time": "2023-07-29T18:53:49.835Z"
   },
   {
    "duration": 11,
    "start_time": "2023-07-29T18:53:49.840Z"
   },
   {
    "duration": 9,
    "start_time": "2023-07-29T18:53:49.852Z"
   },
   {
    "duration": 14,
    "start_time": "2023-07-29T18:53:49.863Z"
   },
   {
    "duration": 9,
    "start_time": "2023-07-29T18:53:49.879Z"
   },
   {
    "duration": 39,
    "start_time": "2023-07-29T18:53:49.891Z"
   },
   {
    "duration": 12,
    "start_time": "2023-07-29T18:53:49.932Z"
   },
   {
    "duration": 80,
    "start_time": "2023-07-29T18:53:49.946Z"
   },
   {
    "duration": 3237,
    "start_time": "2023-07-29T18:53:50.028Z"
   },
   {
    "duration": 7,
    "start_time": "2023-07-29T18:53:53.266Z"
   },
   {
    "duration": 40,
    "start_time": "2023-07-29T18:53:53.274Z"
   },
   {
    "duration": 22,
    "start_time": "2023-07-29T18:53:53.315Z"
   },
   {
    "duration": 89,
    "start_time": "2023-07-29T18:53:53.339Z"
   },
   {
    "duration": 13,
    "start_time": "2023-07-29T18:53:53.429Z"
   },
   {
    "duration": 7,
    "start_time": "2023-07-29T18:53:53.443Z"
   },
   {
    "duration": 13,
    "start_time": "2023-07-29T18:53:53.451Z"
   },
   {
    "duration": 309,
    "start_time": "2023-07-29T18:53:53.466Z"
   },
   {
    "duration": 4,
    "start_time": "2023-07-29T18:53:53.776Z"
   },
   {
    "duration": 47,
    "start_time": "2023-07-29T18:53:53.782Z"
   },
   {
    "duration": 5,
    "start_time": "2023-07-29T18:53:53.830Z"
   },
   {
    "duration": 11,
    "start_time": "2023-07-29T18:53:53.837Z"
   },
   {
    "duration": 113,
    "start_time": "2023-07-29T18:53:53.850Z"
   },
   {
    "duration": 150,
    "start_time": "2023-07-29T18:53:53.964Z"
   },
   {
    "duration": 9,
    "start_time": "2023-07-29T18:53:54.119Z"
   },
   {
    "duration": 19,
    "start_time": "2023-07-29T18:53:54.129Z"
   },
   {
    "duration": 95,
    "start_time": "2023-07-29T18:53:54.150Z"
   },
   {
    "duration": 491,
    "start_time": "2023-07-29T18:53:54.246Z"
   },
   {
    "duration": 9,
    "start_time": "2023-07-29T18:53:54.738Z"
   },
   {
    "duration": 6,
    "start_time": "2023-07-29T18:53:54.748Z"
   },
   {
    "duration": 90,
    "start_time": "2023-07-29T18:53:54.755Z"
   },
   {
    "duration": 159,
    "start_time": "2023-07-29T18:53:54.846Z"
   },
   {
    "duration": 14,
    "start_time": "2023-07-29T18:53:55.007Z"
   },
   {
    "duration": 24,
    "start_time": "2023-07-29T18:53:55.023Z"
   },
   {
    "duration": 92,
    "start_time": "2023-07-29T18:53:55.049Z"
   },
   {
    "duration": 825,
    "start_time": "2023-07-29T18:53:55.142Z"
   },
   {
    "duration": 10,
    "start_time": "2023-07-29T18:53:55.969Z"
   },
   {
    "duration": 14,
    "start_time": "2023-07-29T18:53:55.980Z"
   },
   {
    "duration": 395,
    "start_time": "2023-07-29T18:53:55.995Z"
   },
   {
    "duration": 137,
    "start_time": "2023-07-29T18:53:56.392Z"
   },
   {
    "duration": 31,
    "start_time": "2023-07-29T18:53:56.530Z"
   },
   {
    "duration": 22,
    "start_time": "2023-07-29T18:53:56.562Z"
   },
   {
    "duration": 35,
    "start_time": "2023-07-29T18:53:56.585Z"
   },
   {
    "duration": 24,
    "start_time": "2023-07-29T18:53:56.622Z"
   },
   {
    "duration": 38,
    "start_time": "2023-07-29T18:53:56.647Z"
   },
   {
    "duration": 1267,
    "start_time": "2023-07-29T18:53:56.686Z"
   },
   {
    "duration": 0,
    "start_time": "2023-07-29T18:53:57.954Z"
   },
   {
    "duration": 12,
    "start_time": "2023-07-29T18:54:48.707Z"
   },
   {
    "duration": 31,
    "start_time": "2023-07-29T18:55:02.740Z"
   },
   {
    "duration": 31,
    "start_time": "2023-07-29T18:55:42.322Z"
   },
   {
    "duration": 30,
    "start_time": "2023-07-29T18:55:46.185Z"
   },
   {
    "duration": 32,
    "start_time": "2023-07-29T18:55:53.424Z"
   },
   {
    "duration": 22,
    "start_time": "2023-07-29T18:56:05.040Z"
   },
   {
    "duration": 14,
    "start_time": "2023-07-29T18:56:06.512Z"
   },
   {
    "duration": 25,
    "start_time": "2023-07-29T18:56:07.081Z"
   },
   {
    "duration": 28,
    "start_time": "2023-07-29T18:56:08.944Z"
   },
   {
    "duration": 36,
    "start_time": "2023-07-29T18:56:11.144Z"
   },
   {
    "duration": 136,
    "start_time": "2023-07-29T18:56:12.086Z"
   },
   {
    "duration": 36,
    "start_time": "2023-07-29T18:56:50.950Z"
   },
   {
    "duration": 36,
    "start_time": "2023-07-29T18:57:29.433Z"
   },
   {
    "duration": 113,
    "start_time": "2023-07-29T18:58:23.987Z"
   },
   {
    "duration": 1564,
    "start_time": "2023-07-29T18:58:24.817Z"
   },
   {
    "duration": 5,
    "start_time": "2023-07-29T18:58:27.209Z"
   },
   {
    "duration": 3,
    "start_time": "2023-07-29T18:58:27.844Z"
   },
   {
    "duration": 13,
    "start_time": "2023-07-29T18:58:28.749Z"
   },
   {
    "duration": 5,
    "start_time": "2023-07-29T18:58:29.655Z"
   },
   {
    "duration": 8,
    "start_time": "2023-07-29T18:58:30.312Z"
   },
   {
    "duration": 11,
    "start_time": "2023-07-29T18:58:30.935Z"
   },
   {
    "duration": 14,
    "start_time": "2023-07-29T18:58:31.755Z"
   },
   {
    "duration": 12,
    "start_time": "2023-07-29T18:58:32.757Z"
   },
   {
    "duration": 12,
    "start_time": "2023-07-29T18:58:33.617Z"
   },
   {
    "duration": 10,
    "start_time": "2023-07-29T18:58:34.322Z"
   },
   {
    "duration": 60,
    "start_time": "2023-07-29T18:58:35.035Z"
   },
   {
    "duration": 3195,
    "start_time": "2023-07-29T18:58:35.694Z"
   },
   {
    "duration": 6,
    "start_time": "2023-07-29T18:58:38.891Z"
   },
   {
    "duration": 31,
    "start_time": "2023-07-29T18:58:38.898Z"
   },
   {
    "duration": 22,
    "start_time": "2023-07-29T18:58:38.931Z"
   },
   {
    "duration": 76,
    "start_time": "2023-07-29T18:58:43.334Z"
   },
   {
    "duration": 12,
    "start_time": "2023-07-29T18:58:44.492Z"
   },
   {
    "duration": 5,
    "start_time": "2023-07-29T18:58:47.587Z"
   },
   {
    "duration": 9,
    "start_time": "2023-07-29T18:58:48.609Z"
   },
   {
    "duration": 317,
    "start_time": "2023-07-29T18:58:49.181Z"
   },
   {
    "duration": 3,
    "start_time": "2023-07-29T18:58:49.648Z"
   },
   {
    "duration": 26,
    "start_time": "2023-07-29T18:59:02.354Z"
   },
   {
    "duration": 5,
    "start_time": "2023-07-29T18:59:03.414Z"
   },
   {
    "duration": 8,
    "start_time": "2023-07-29T18:59:05.350Z"
   },
   {
    "duration": 88,
    "start_time": "2023-07-29T18:59:06.051Z"
   },
   {
    "duration": 144,
    "start_time": "2023-07-29T18:59:06.988Z"
   },
   {
    "duration": 8,
    "start_time": "2023-07-29T18:59:08.063Z"
   },
   {
    "duration": 7,
    "start_time": "2023-07-29T18:59:09.081Z"
   },
   {
    "duration": 85,
    "start_time": "2023-07-29T18:59:09.599Z"
   },
   {
    "duration": 545,
    "start_time": "2023-07-29T18:59:10.100Z"
   },
   {
    "duration": 9,
    "start_time": "2023-07-29T18:59:10.647Z"
   },
   {
    "duration": 8,
    "start_time": "2023-07-29T18:59:11.165Z"
   },
   {
    "duration": 83,
    "start_time": "2023-07-29T18:59:11.689Z"
   },
   {
    "duration": 134,
    "start_time": "2023-07-29T18:59:12.183Z"
   },
   {
    "duration": 7,
    "start_time": "2023-07-29T18:59:12.559Z"
   },
   {
    "duration": 8,
    "start_time": "2023-07-29T18:59:13.062Z"
   },
   {
    "duration": 87,
    "start_time": "2023-07-29T18:59:13.470Z"
   },
   {
    "duration": 1100,
    "start_time": "2023-07-29T18:59:13.824Z"
   },
   {
    "duration": 9,
    "start_time": "2023-07-29T18:59:14.927Z"
   },
   {
    "duration": 13,
    "start_time": "2023-07-29T18:59:14.938Z"
   },
   {
    "duration": 125,
    "start_time": "2023-07-29T18:59:15.187Z"
   },
   {
    "duration": 128,
    "start_time": "2023-07-29T18:59:15.692Z"
   },
   {
    "duration": 30,
    "start_time": "2023-07-29T18:59:16.969Z"
   },
   {
    "duration": 22,
    "start_time": "2023-07-29T18:59:18.257Z"
   },
   {
    "duration": 13,
    "start_time": "2023-07-29T18:59:19.806Z"
   },
   {
    "duration": 23,
    "start_time": "2023-07-29T18:59:20.249Z"
   },
   {
    "duration": 26,
    "start_time": "2023-07-29T18:59:21.828Z"
   },
   {
    "duration": 1438,
    "start_time": "2023-07-29T19:00:18.285Z"
   },
   {
    "duration": 1671,
    "start_time": "2023-07-29T19:00:45.464Z"
   },
   {
    "duration": 1877,
    "start_time": "2023-07-29T19:01:09.667Z"
   },
   {
    "duration": 32,
    "start_time": "2023-07-29T19:01:44.352Z"
   },
   {
    "duration": 14,
    "start_time": "2023-07-29T19:01:54.355Z"
   },
   {
    "duration": 32,
    "start_time": "2023-07-29T19:01:58.180Z"
   },
   {
    "duration": 31,
    "start_time": "2023-07-29T19:02:00.681Z"
   },
   {
    "duration": 30,
    "start_time": "2023-07-29T19:02:03.358Z"
   },
   {
    "duration": 30,
    "start_time": "2023-07-29T19:02:06.826Z"
   },
   {
    "duration": 4,
    "start_time": "2023-07-29T19:02:09.596Z"
   },
   {
    "duration": 38,
    "start_time": "2023-07-29T19:02:13.219Z"
   },
   {
    "duration": 28,
    "start_time": "2023-07-29T19:02:34.235Z"
   },
   {
    "duration": 23,
    "start_time": "2023-07-29T19:02:43.115Z"
   },
   {
    "duration": 20,
    "start_time": "2023-07-29T19:02:45.684Z"
   },
   {
    "duration": 26,
    "start_time": "2023-07-29T19:02:56.620Z"
   },
   {
    "duration": 23,
    "start_time": "2023-07-29T19:03:08.381Z"
   },
   {
    "duration": 26,
    "start_time": "2023-07-29T19:04:08.534Z"
   },
   {
    "duration": 23,
    "start_time": "2023-07-29T19:05:04.650Z"
   },
   {
    "duration": 29,
    "start_time": "2023-07-29T19:05:09.837Z"
   },
   {
    "duration": 40,
    "start_time": "2023-07-29T19:05:16.285Z"
   },
   {
    "duration": 24,
    "start_time": "2023-07-29T19:05:52.309Z"
   },
   {
    "duration": 31,
    "start_time": "2023-07-29T19:05:55.365Z"
   },
   {
    "duration": 111,
    "start_time": "2023-07-29T19:06:03.621Z"
   },
   {
    "duration": 1615,
    "start_time": "2023-07-29T19:06:03.734Z"
   },
   {
    "duration": 7,
    "start_time": "2023-07-29T19:06:05.352Z"
   },
   {
    "duration": 28,
    "start_time": "2023-07-29T19:06:05.360Z"
   },
   {
    "duration": 32,
    "start_time": "2023-07-29T19:06:05.390Z"
   },
   {
    "duration": 5,
    "start_time": "2023-07-29T19:06:05.423Z"
   },
   {
    "duration": 11,
    "start_time": "2023-07-29T19:06:05.430Z"
   },
   {
    "duration": 21,
    "start_time": "2023-07-29T19:06:05.443Z"
   },
   {
    "duration": 36,
    "start_time": "2023-07-29T19:06:05.465Z"
   },
   {
    "duration": 25,
    "start_time": "2023-07-29T19:06:05.502Z"
   },
   {
    "duration": 17,
    "start_time": "2023-07-29T19:06:05.530Z"
   },
   {
    "duration": 19,
    "start_time": "2023-07-29T19:06:05.548Z"
   },
   {
    "duration": 79,
    "start_time": "2023-07-29T19:06:05.569Z"
   },
   {
    "duration": 3365,
    "start_time": "2023-07-29T19:06:05.649Z"
   },
   {
    "duration": 9,
    "start_time": "2023-07-29T19:06:09.016Z"
   },
   {
    "duration": 22,
    "start_time": "2023-07-29T19:06:09.027Z"
   },
   {
    "duration": 24,
    "start_time": "2023-07-29T19:06:09.050Z"
   },
   {
    "duration": 103,
    "start_time": "2023-07-29T19:06:09.075Z"
   },
   {
    "duration": 14,
    "start_time": "2023-07-29T19:06:09.180Z"
   },
   {
    "duration": 25,
    "start_time": "2023-07-29T19:06:09.195Z"
   },
   {
    "duration": 12,
    "start_time": "2023-07-29T19:06:09.221Z"
   },
   {
    "duration": 316,
    "start_time": "2023-07-29T19:06:09.234Z"
   },
   {
    "duration": 4,
    "start_time": "2023-07-29T19:06:09.551Z"
   },
   {
    "duration": 29,
    "start_time": "2023-07-29T19:06:09.556Z"
   },
   {
    "duration": 3,
    "start_time": "2023-07-29T19:06:09.587Z"
   },
   {
    "duration": 28,
    "start_time": "2023-07-29T19:06:09.592Z"
   },
   {
    "duration": 98,
    "start_time": "2023-07-29T19:06:09.622Z"
   },
   {
    "duration": 153,
    "start_time": "2023-07-29T19:06:09.721Z"
   },
   {
    "duration": 24,
    "start_time": "2023-07-29T19:06:09.877Z"
   },
   {
    "duration": 30,
    "start_time": "2023-07-29T19:06:09.903Z"
   },
   {
    "duration": 119,
    "start_time": "2023-07-29T19:06:09.934Z"
   },
   {
    "duration": 536,
    "start_time": "2023-07-29T19:06:10.054Z"
   },
   {
    "duration": 9,
    "start_time": "2023-07-29T19:06:10.591Z"
   },
   {
    "duration": 21,
    "start_time": "2023-07-29T19:06:10.601Z"
   },
   {
    "duration": 423,
    "start_time": "2023-07-29T19:06:10.624Z"
   },
   {
    "duration": 166,
    "start_time": "2023-07-29T19:06:11.048Z"
   },
   {
    "duration": 15,
    "start_time": "2023-07-29T19:06:11.220Z"
   },
   {
    "duration": 28,
    "start_time": "2023-07-29T19:06:11.237Z"
   },
   {
    "duration": 105,
    "start_time": "2023-07-29T19:06:11.266Z"
   },
   {
    "duration": 865,
    "start_time": "2023-07-29T19:06:11.373Z"
   },
   {
    "duration": 10,
    "start_time": "2023-07-29T19:06:12.240Z"
   },
   {
    "duration": 21,
    "start_time": "2023-07-29T19:06:12.251Z"
   },
   {
    "duration": 124,
    "start_time": "2023-07-29T19:06:12.274Z"
   },
   {
    "duration": 147,
    "start_time": "2023-07-29T19:06:12.400Z"
   },
   {
    "duration": 33,
    "start_time": "2023-07-29T19:06:12.549Z"
   },
   {
    "duration": 38,
    "start_time": "2023-07-29T19:06:12.583Z"
   },
   {
    "duration": 15,
    "start_time": "2023-07-29T19:06:12.622Z"
   },
   {
    "duration": 26,
    "start_time": "2023-07-29T19:06:12.639Z"
   },
   {
    "duration": 56,
    "start_time": "2023-07-29T19:06:12.667Z"
   },
   {
    "duration": 31,
    "start_time": "2023-07-29T19:06:12.725Z"
   },
   {
    "duration": 26,
    "start_time": "2023-07-29T19:09:21.682Z"
   },
   {
    "duration": 17,
    "start_time": "2023-07-29T19:10:43.636Z"
   },
   {
    "duration": 19,
    "start_time": "2023-07-29T19:10:57.940Z"
   },
   {
    "duration": 113,
    "start_time": "2023-07-29T19:11:04.856Z"
   },
   {
    "duration": 1645,
    "start_time": "2023-07-29T19:11:05.403Z"
   },
   {
    "duration": 5,
    "start_time": "2023-07-29T19:11:07.050Z"
   },
   {
    "duration": 13,
    "start_time": "2023-07-29T19:11:07.056Z"
   },
   {
    "duration": 14,
    "start_time": "2023-07-29T19:11:07.070Z"
   },
   {
    "duration": 4,
    "start_time": "2023-07-29T19:11:07.085Z"
   },
   {
    "duration": 8,
    "start_time": "2023-07-29T19:11:07.090Z"
   },
   {
    "duration": 23,
    "start_time": "2023-07-29T19:11:07.100Z"
   },
   {
    "duration": 9,
    "start_time": "2023-07-29T19:11:07.124Z"
   },
   {
    "duration": 9,
    "start_time": "2023-07-29T19:11:07.134Z"
   },
   {
    "duration": 12,
    "start_time": "2023-07-29T19:11:07.145Z"
   },
   {
    "duration": 18,
    "start_time": "2023-07-29T19:11:07.159Z"
   },
   {
    "duration": 81,
    "start_time": "2023-07-29T19:11:07.179Z"
   },
   {
    "duration": 3371,
    "start_time": "2023-07-29T19:11:07.261Z"
   },
   {
    "duration": 6,
    "start_time": "2023-07-29T19:11:10.634Z"
   },
   {
    "duration": 28,
    "start_time": "2023-07-29T19:11:10.642Z"
   },
   {
    "duration": 50,
    "start_time": "2023-07-29T19:11:10.672Z"
   },
   {
    "duration": 109,
    "start_time": "2023-07-29T19:11:10.724Z"
   },
   {
    "duration": 19,
    "start_time": "2023-07-29T19:11:10.835Z"
   },
   {
    "duration": 5,
    "start_time": "2023-07-29T19:11:10.855Z"
   },
   {
    "duration": 11,
    "start_time": "2023-07-29T19:11:10.862Z"
   },
   {
    "duration": 387,
    "start_time": "2023-07-29T19:11:10.875Z"
   },
   {
    "duration": 3,
    "start_time": "2023-07-29T19:11:11.264Z"
   },
   {
    "duration": 49,
    "start_time": "2023-07-29T19:11:11.268Z"
   },
   {
    "duration": 4,
    "start_time": "2023-07-29T19:11:11.319Z"
   },
   {
    "duration": 30,
    "start_time": "2023-07-29T19:11:11.324Z"
   },
   {
    "duration": 94,
    "start_time": "2023-07-29T19:11:11.356Z"
   },
   {
    "duration": 171,
    "start_time": "2023-07-29T19:11:11.451Z"
   },
   {
    "duration": 9,
    "start_time": "2023-07-29T19:11:11.626Z"
   },
   {
    "duration": 23,
    "start_time": "2023-07-29T19:11:11.637Z"
   },
   {
    "duration": 107,
    "start_time": "2023-07-29T19:11:11.661Z"
   },
   {
    "duration": 925,
    "start_time": "2023-07-29T19:11:11.770Z"
   },
   {
    "duration": 9,
    "start_time": "2023-07-29T19:11:12.696Z"
   },
   {
    "duration": 17,
    "start_time": "2023-07-29T19:11:12.706Z"
   },
   {
    "duration": 96,
    "start_time": "2023-07-29T19:11:12.724Z"
   },
   {
    "duration": 146,
    "start_time": "2023-07-29T19:11:12.821Z"
   },
   {
    "duration": 8,
    "start_time": "2023-07-29T19:11:12.969Z"
   },
   {
    "duration": 18,
    "start_time": "2023-07-29T19:11:12.978Z"
   },
   {
    "duration": 104,
    "start_time": "2023-07-29T19:11:12.998Z"
   },
   {
    "duration": 822,
    "start_time": "2023-07-29T19:11:13.103Z"
   },
   {
    "duration": 10,
    "start_time": "2023-07-29T19:11:13.926Z"
   },
   {
    "duration": 6,
    "start_time": "2023-07-29T19:11:13.938Z"
   },
   {
    "duration": 130,
    "start_time": "2023-07-29T19:11:13.946Z"
   },
   {
    "duration": 148,
    "start_time": "2023-07-29T19:11:14.078Z"
   },
   {
    "duration": 32,
    "start_time": "2023-07-29T19:11:14.227Z"
   },
   {
    "duration": 24,
    "start_time": "2023-07-29T19:11:14.260Z"
   },
   {
    "duration": 35,
    "start_time": "2023-07-29T19:11:14.286Z"
   },
   {
    "duration": 26,
    "start_time": "2023-07-29T19:11:15.699Z"
   },
   {
    "duration": 31,
    "start_time": "2023-07-29T19:11:17.945Z"
   },
   {
    "duration": 13,
    "start_time": "2023-07-29T19:11:20.780Z"
   },
   {
    "duration": 20,
    "start_time": "2023-07-29T19:11:33.480Z"
   },
   {
    "duration": 4,
    "start_time": "2023-07-29T19:13:33.128Z"
   },
   {
    "duration": 47,
    "start_time": "2023-07-29T19:14:03.082Z"
   },
   {
    "duration": 1404,
    "start_time": "2023-07-29T19:14:46.480Z"
   },
   {
    "duration": 1617,
    "start_time": "2023-07-29T19:14:47.886Z"
   },
   {
    "duration": 6,
    "start_time": "2023-07-29T19:14:49.504Z"
   },
   {
    "duration": 15,
    "start_time": "2023-07-29T19:14:49.512Z"
   },
   {
    "duration": 14,
    "start_time": "2023-07-29T19:14:49.528Z"
   },
   {
    "duration": 4,
    "start_time": "2023-07-29T19:14:49.543Z"
   },
   {
    "duration": 9,
    "start_time": "2023-07-29T19:14:49.548Z"
   },
   {
    "duration": 9,
    "start_time": "2023-07-29T19:14:49.559Z"
   },
   {
    "duration": 15,
    "start_time": "2023-07-29T19:14:49.569Z"
   },
   {
    "duration": 77,
    "start_time": "2023-07-29T19:14:49.586Z"
   },
   {
    "duration": 10,
    "start_time": "2023-07-29T19:14:49.665Z"
   },
   {
    "duration": 10,
    "start_time": "2023-07-29T19:14:49.677Z"
   },
   {
    "duration": 79,
    "start_time": "2023-07-29T19:14:49.688Z"
   },
   {
    "duration": 3188,
    "start_time": "2023-07-29T19:14:49.769Z"
   },
   {
    "duration": 6,
    "start_time": "2023-07-29T19:14:52.958Z"
   },
   {
    "duration": 44,
    "start_time": "2023-07-29T19:14:52.965Z"
   },
   {
    "duration": 26,
    "start_time": "2023-07-29T19:14:53.010Z"
   },
   {
    "duration": 90,
    "start_time": "2023-07-29T19:14:53.038Z"
   },
   {
    "duration": 11,
    "start_time": "2023-07-29T19:14:53.130Z"
   },
   {
    "duration": 35,
    "start_time": "2023-07-29T19:14:53.142Z"
   },
   {
    "duration": 44,
    "start_time": "2023-07-29T19:14:53.178Z"
   },
   {
    "duration": 313,
    "start_time": "2023-07-29T19:14:53.224Z"
   },
   {
    "duration": 4,
    "start_time": "2023-07-29T19:14:53.538Z"
   },
   {
    "duration": 48,
    "start_time": "2023-07-29T19:14:53.543Z"
   },
   {
    "duration": 3,
    "start_time": "2023-07-29T19:14:53.593Z"
   },
   {
    "duration": 10,
    "start_time": "2023-07-29T19:14:53.598Z"
   },
   {
    "duration": 95,
    "start_time": "2023-07-29T19:14:53.610Z"
   },
   {
    "duration": 146,
    "start_time": "2023-07-29T19:14:53.709Z"
   },
   {
    "duration": 9,
    "start_time": "2023-07-29T19:14:53.856Z"
   },
   {
    "duration": 13,
    "start_time": "2023-07-29T19:14:53.866Z"
   },
   {
    "duration": 99,
    "start_time": "2023-07-29T19:14:53.880Z"
   },
   {
    "duration": 617,
    "start_time": "2023-07-29T19:14:53.981Z"
   },
   {
    "duration": 7,
    "start_time": "2023-07-29T19:14:54.600Z"
   },
   {
    "duration": 12,
    "start_time": "2023-07-29T19:14:54.608Z"
   },
   {
    "duration": 79,
    "start_time": "2023-07-29T19:14:54.622Z"
   },
   {
    "duration": 135,
    "start_time": "2023-07-29T19:14:54.702Z"
   },
   {
    "duration": 6,
    "start_time": "2023-07-29T19:14:54.839Z"
   },
   {
    "duration": 10,
    "start_time": "2023-07-29T19:14:54.847Z"
   },
   {
    "duration": 99,
    "start_time": "2023-07-29T19:14:54.859Z"
   },
   {
    "duration": 915,
    "start_time": "2023-07-29T19:14:54.960Z"
   },
   {
    "duration": 9,
    "start_time": "2023-07-29T19:14:55.876Z"
   },
   {
    "duration": 11,
    "start_time": "2023-07-29T19:14:55.886Z"
   },
   {
    "duration": 100,
    "start_time": "2023-07-29T19:14:55.899Z"
   },
   {
    "duration": 141,
    "start_time": "2023-07-29T19:14:56.000Z"
   },
   {
    "duration": 29,
    "start_time": "2023-07-29T19:14:56.143Z"
   },
   {
    "duration": 21,
    "start_time": "2023-07-29T19:14:56.174Z"
   },
   {
    "duration": 35,
    "start_time": "2023-07-29T19:14:56.196Z"
   },
   {
    "duration": 73,
    "start_time": "2023-07-29T19:14:56.233Z"
   },
   {
    "duration": 36,
    "start_time": "2023-07-29T19:14:56.307Z"
   },
   {
    "duration": 13,
    "start_time": "2023-07-29T19:14:56.345Z"
   },
   {
    "duration": 45,
    "start_time": "2023-07-29T19:15:14.665Z"
   },
   {
    "duration": 1445,
    "start_time": "2023-07-29T19:15:19.524Z"
   },
   {
    "duration": 1564,
    "start_time": "2023-07-29T19:15:20.971Z"
   },
   {
    "duration": 6,
    "start_time": "2023-07-29T19:15:22.536Z"
   },
   {
    "duration": 6,
    "start_time": "2023-07-29T19:15:22.544Z"
   },
   {
    "duration": 11,
    "start_time": "2023-07-29T19:15:22.551Z"
   },
   {
    "duration": 4,
    "start_time": "2023-07-29T19:15:22.563Z"
   },
   {
    "duration": 13,
    "start_time": "2023-07-29T19:15:22.569Z"
   },
   {
    "duration": 7,
    "start_time": "2023-07-29T19:15:22.583Z"
   },
   {
    "duration": 10,
    "start_time": "2023-07-29T19:15:22.591Z"
   },
   {
    "duration": 77,
    "start_time": "2023-07-29T19:15:22.603Z"
   },
   {
    "duration": 15,
    "start_time": "2023-07-29T19:15:22.681Z"
   },
   {
    "duration": 22,
    "start_time": "2023-07-29T19:15:22.698Z"
   },
   {
    "duration": 59,
    "start_time": "2023-07-29T19:15:22.722Z"
   },
   {
    "duration": 3372,
    "start_time": "2023-07-29T19:15:22.783Z"
   },
   {
    "duration": 6,
    "start_time": "2023-07-29T19:15:26.156Z"
   },
   {
    "duration": 39,
    "start_time": "2023-07-29T19:15:26.163Z"
   },
   {
    "duration": 21,
    "start_time": "2023-07-29T19:15:26.204Z"
   },
   {
    "duration": 78,
    "start_time": "2023-07-29T19:15:26.226Z"
   },
   {
    "duration": 19,
    "start_time": "2023-07-29T19:15:26.305Z"
   },
   {
    "duration": 4,
    "start_time": "2023-07-29T19:15:26.325Z"
   },
   {
    "duration": 12,
    "start_time": "2023-07-29T19:15:26.330Z"
   },
   {
    "duration": 301,
    "start_time": "2023-07-29T19:15:26.344Z"
   },
   {
    "duration": 3,
    "start_time": "2023-07-29T19:15:26.647Z"
   },
   {
    "duration": 31,
    "start_time": "2023-07-29T19:15:26.651Z"
   },
   {
    "duration": 4,
    "start_time": "2023-07-29T19:15:26.683Z"
   },
   {
    "duration": 18,
    "start_time": "2023-07-29T19:15:26.688Z"
   },
   {
    "duration": 91,
    "start_time": "2023-07-29T19:15:26.707Z"
   },
   {
    "duration": 145,
    "start_time": "2023-07-29T19:15:26.801Z"
   },
   {
    "duration": 8,
    "start_time": "2023-07-29T19:15:26.947Z"
   },
   {
    "duration": 22,
    "start_time": "2023-07-29T19:15:26.956Z"
   },
   {
    "duration": 100,
    "start_time": "2023-07-29T19:15:26.979Z"
   },
   {
    "duration": 627,
    "start_time": "2023-07-29T19:15:27.080Z"
   },
   {
    "duration": 14,
    "start_time": "2023-07-29T19:15:27.709Z"
   },
   {
    "duration": 7,
    "start_time": "2023-07-29T19:15:27.724Z"
   },
   {
    "duration": 91,
    "start_time": "2023-07-29T19:15:27.733Z"
   },
   {
    "duration": 134,
    "start_time": "2023-07-29T19:15:27.827Z"
   },
   {
    "duration": 7,
    "start_time": "2023-07-29T19:15:27.963Z"
   },
   {
    "duration": 7,
    "start_time": "2023-07-29T19:15:27.972Z"
   },
   {
    "duration": 94,
    "start_time": "2023-07-29T19:15:29.027Z"
   },
   {
    "duration": 867,
    "start_time": "2023-07-29T19:15:29.568Z"
   },
   {
    "duration": 8,
    "start_time": "2023-07-29T19:15:30.437Z"
   },
   {
    "duration": 29,
    "start_time": "2023-07-29T19:15:30.447Z"
   },
   {
    "duration": 96,
    "start_time": "2023-07-29T19:15:30.854Z"
   },
   {
    "duration": 135,
    "start_time": "2023-07-29T19:15:31.127Z"
   },
   {
    "duration": 32,
    "start_time": "2023-07-29T19:15:31.463Z"
   },
   {
    "duration": 22,
    "start_time": "2023-07-29T19:15:31.788Z"
   },
   {
    "duration": 13,
    "start_time": "2023-07-29T19:15:33.099Z"
   },
   {
    "duration": 56,
    "start_time": "2023-07-29T19:15:33.653Z"
   },
   {
    "duration": 36,
    "start_time": "2023-07-29T19:15:35.292Z"
   },
   {
    "duration": 12,
    "start_time": "2023-07-29T19:15:37.649Z"
   },
   {
    "duration": 46,
    "start_time": "2023-07-29T19:17:33.380Z"
   },
   {
    "duration": 1425,
    "start_time": "2023-07-29T19:18:03.018Z"
   },
   {
    "duration": 1645,
    "start_time": "2023-07-29T19:18:04.445Z"
   },
   {
    "duration": 6,
    "start_time": "2023-07-29T19:18:06.092Z"
   },
   {
    "duration": 14,
    "start_time": "2023-07-29T19:18:06.099Z"
   },
   {
    "duration": 34,
    "start_time": "2023-07-29T19:18:06.115Z"
   },
   {
    "duration": 14,
    "start_time": "2023-07-29T19:18:06.151Z"
   },
   {
    "duration": 16,
    "start_time": "2023-07-29T19:18:06.167Z"
   },
   {
    "duration": 34,
    "start_time": "2023-07-29T19:18:06.185Z"
   },
   {
    "duration": 26,
    "start_time": "2023-07-29T19:18:06.220Z"
   },
   {
    "duration": 9,
    "start_time": "2023-07-29T19:18:06.247Z"
   },
   {
    "duration": 16,
    "start_time": "2023-07-29T19:18:06.318Z"
   },
   {
    "duration": 35,
    "start_time": "2023-07-29T19:18:06.335Z"
   },
   {
    "duration": 102,
    "start_time": "2023-07-29T19:18:06.371Z"
   },
   {
    "duration": 3348,
    "start_time": "2023-07-29T19:18:06.475Z"
   },
   {
    "duration": 6,
    "start_time": "2023-07-29T19:18:09.825Z"
   },
   {
    "duration": 24,
    "start_time": "2023-07-29T19:18:09.832Z"
   },
   {
    "duration": 19,
    "start_time": "2023-07-29T19:18:09.857Z"
   },
   {
    "duration": 87,
    "start_time": "2023-07-29T19:18:09.877Z"
   },
   {
    "duration": 13,
    "start_time": "2023-07-29T19:18:09.965Z"
   },
   {
    "duration": 15,
    "start_time": "2023-07-29T19:18:09.979Z"
   },
   {
    "duration": 28,
    "start_time": "2023-07-29T19:18:09.996Z"
   },
   {
    "duration": 328,
    "start_time": "2023-07-29T19:18:10.026Z"
   },
   {
    "duration": 5,
    "start_time": "2023-07-29T19:18:10.355Z"
   },
   {
    "duration": 119,
    "start_time": "2023-07-29T19:18:10.361Z"
   },
   {
    "duration": 4,
    "start_time": "2023-07-29T19:18:10.482Z"
   },
   {
    "duration": 13,
    "start_time": "2023-07-29T19:18:10.488Z"
   },
   {
    "duration": 120,
    "start_time": "2023-07-29T19:18:10.503Z"
   },
   {
    "duration": 164,
    "start_time": "2023-07-29T19:18:10.624Z"
   },
   {
    "duration": 9,
    "start_time": "2023-07-29T19:18:10.792Z"
   },
   {
    "duration": 19,
    "start_time": "2023-07-29T19:18:10.802Z"
   },
   {
    "duration": 118,
    "start_time": "2023-07-29T19:18:10.822Z"
   },
   {
    "duration": 695,
    "start_time": "2023-07-29T19:18:10.942Z"
   },
   {
    "duration": 9,
    "start_time": "2023-07-29T19:18:11.638Z"
   },
   {
    "duration": 7,
    "start_time": "2023-07-29T19:18:11.649Z"
   },
   {
    "duration": 97,
    "start_time": "2023-07-29T19:18:11.658Z"
   },
   {
    "duration": 150,
    "start_time": "2023-07-29T19:18:11.758Z"
   },
   {
    "duration": 9,
    "start_time": "2023-07-29T19:18:11.920Z"
   },
   {
    "duration": 28,
    "start_time": "2023-07-29T19:18:11.931Z"
   },
   {
    "duration": 115,
    "start_time": "2023-07-29T19:18:11.960Z"
   },
   {
    "duration": 945,
    "start_time": "2023-07-29T19:18:12.077Z"
   },
   {
    "duration": 8,
    "start_time": "2023-07-29T19:18:13.024Z"
   },
   {
    "duration": 7,
    "start_time": "2023-07-29T19:18:13.034Z"
   },
   {
    "duration": 124,
    "start_time": "2023-07-29T19:18:13.043Z"
   },
   {
    "duration": 153,
    "start_time": "2023-07-29T19:18:13.169Z"
   },
   {
    "duration": 32,
    "start_time": "2023-07-29T19:18:13.323Z"
   },
   {
    "duration": 25,
    "start_time": "2023-07-29T19:18:13.357Z"
   },
   {
    "duration": 35,
    "start_time": "2023-07-29T19:18:13.385Z"
   },
   {
    "duration": 61,
    "start_time": "2023-07-29T19:18:13.422Z"
   },
   {
    "duration": 41,
    "start_time": "2023-07-29T19:18:13.485Z"
   },
   {
    "duration": 34,
    "start_time": "2023-07-29T19:18:14.901Z"
   },
   {
    "duration": 133,
    "start_time": "2023-07-29T19:18:16.167Z"
   },
   {
    "duration": 34,
    "start_time": "2023-07-29T19:19:02.513Z"
   },
   {
    "duration": 44,
    "start_time": "2023-07-29T19:19:05.285Z"
   },
   {
    "duration": 43,
    "start_time": "2023-07-29T19:19:15.232Z"
   },
   {
    "duration": 43,
    "start_time": "2023-07-29T19:19:25.606Z"
   },
   {
    "duration": 33,
    "start_time": "2023-07-29T19:19:30.155Z"
   },
   {
    "duration": 46,
    "start_time": "2023-07-29T19:19:30.730Z"
   },
   {
    "duration": 148,
    "start_time": "2023-07-29T19:19:31.093Z"
   },
   {
    "duration": 140,
    "start_time": "2023-07-29T19:22:04.980Z"
   },
   {
    "duration": 137,
    "start_time": "2023-07-29T19:22:18.334Z"
   },
   {
    "duration": 81,
    "start_time": "2023-07-29T19:23:06.390Z"
   },
   {
    "duration": 7,
    "start_time": "2023-07-29T19:23:25.765Z"
   },
   {
    "duration": 19,
    "start_time": "2023-07-29T19:25:19.519Z"
   },
   {
    "duration": 99,
    "start_time": "2023-07-29T19:25:51.633Z"
   },
   {
    "duration": 8,
    "start_time": "2023-07-29T19:25:57.539Z"
   },
   {
    "duration": 101,
    "start_time": "2023-07-29T19:26:05.151Z"
   },
   {
    "duration": 86,
    "start_time": "2023-07-29T19:26:58.620Z"
   },
   {
    "duration": 86,
    "start_time": "2023-07-29T19:27:11.055Z"
   },
   {
    "duration": 2,
    "start_time": "2023-07-29T19:27:26.263Z"
   },
   {
    "duration": 78,
    "start_time": "2023-07-29T19:27:54.890Z"
   },
   {
    "duration": 198,
    "start_time": "2023-07-29T19:28:07.980Z"
   },
   {
    "duration": 79,
    "start_time": "2023-07-29T19:28:32.856Z"
   },
   {
    "duration": 125,
    "start_time": "2023-07-29T19:30:10.671Z"
   },
   {
    "duration": 1723,
    "start_time": "2023-07-29T19:30:10.797Z"
   },
   {
    "duration": 6,
    "start_time": "2023-07-29T19:30:12.522Z"
   },
   {
    "duration": 8,
    "start_time": "2023-07-29T19:30:12.529Z"
   },
   {
    "duration": 10,
    "start_time": "2023-07-29T19:30:12.539Z"
   },
   {
    "duration": 3,
    "start_time": "2023-07-29T19:30:12.551Z"
   },
   {
    "duration": 10,
    "start_time": "2023-07-29T19:30:12.555Z"
   },
   {
    "duration": 8,
    "start_time": "2023-07-29T19:30:12.566Z"
   },
   {
    "duration": 45,
    "start_time": "2023-07-29T19:30:12.576Z"
   },
   {
    "duration": 11,
    "start_time": "2023-07-29T19:30:12.623Z"
   },
   {
    "duration": 14,
    "start_time": "2023-07-29T19:30:12.637Z"
   },
   {
    "duration": 119,
    "start_time": "2023-07-29T19:30:12.652Z"
   },
   {
    "duration": 72,
    "start_time": "2023-07-29T19:30:12.773Z"
   },
   {
    "duration": 3623,
    "start_time": "2023-07-29T19:30:12.847Z"
   },
   {
    "duration": 7,
    "start_time": "2023-07-29T19:30:16.471Z"
   },
   {
    "duration": 47,
    "start_time": "2023-07-29T19:30:16.480Z"
   },
   {
    "duration": 22,
    "start_time": "2023-07-29T19:30:16.528Z"
   },
   {
    "duration": 84,
    "start_time": "2023-07-29T19:30:16.552Z"
   },
   {
    "duration": 15,
    "start_time": "2023-07-29T19:30:16.638Z"
   },
   {
    "duration": 20,
    "start_time": "2023-07-29T19:30:16.655Z"
   },
   {
    "duration": 13,
    "start_time": "2023-07-29T19:30:16.677Z"
   },
   {
    "duration": 330,
    "start_time": "2023-07-29T19:30:16.691Z"
   },
   {
    "duration": 4,
    "start_time": "2023-07-29T19:30:17.023Z"
   },
   {
    "duration": 47,
    "start_time": "2023-07-29T19:30:17.028Z"
   },
   {
    "duration": 4,
    "start_time": "2023-07-29T19:30:17.077Z"
   },
   {
    "duration": 25,
    "start_time": "2023-07-29T19:30:17.082Z"
   },
   {
    "duration": 100,
    "start_time": "2023-07-29T19:30:17.108Z"
   },
   {
    "duration": 163,
    "start_time": "2023-07-29T19:30:17.210Z"
   },
   {
    "duration": 10,
    "start_time": "2023-07-29T19:30:17.377Z"
   },
   {
    "duration": 9,
    "start_time": "2023-07-29T19:30:17.388Z"
   },
   {
    "duration": 122,
    "start_time": "2023-07-29T19:30:17.398Z"
   },
   {
    "duration": 685,
    "start_time": "2023-07-29T19:30:17.521Z"
   },
   {
    "duration": 14,
    "start_time": "2023-07-29T19:30:18.208Z"
   },
   {
    "duration": 6,
    "start_time": "2023-07-29T19:30:18.224Z"
   },
   {
    "duration": 96,
    "start_time": "2023-07-29T19:30:18.231Z"
   },
   {
    "duration": 157,
    "start_time": "2023-07-29T19:30:18.328Z"
   },
   {
    "duration": 8,
    "start_time": "2023-07-29T19:30:18.487Z"
   },
   {
    "duration": 26,
    "start_time": "2023-07-29T19:30:18.497Z"
   },
   {
    "duration": 110,
    "start_time": "2023-07-29T19:30:18.525Z"
   },
   {
    "duration": 983,
    "start_time": "2023-07-29T19:30:18.637Z"
   },
   {
    "duration": 9,
    "start_time": "2023-07-29T19:30:19.621Z"
   },
   {
    "duration": 6,
    "start_time": "2023-07-29T19:30:19.631Z"
   },
   {
    "duration": 108,
    "start_time": "2023-07-29T19:30:19.639Z"
   },
   {
    "duration": 142,
    "start_time": "2023-07-29T19:30:19.749Z"
   },
   {
    "duration": 32,
    "start_time": "2023-07-29T19:30:32.558Z"
   },
   {
    "duration": 21,
    "start_time": "2023-07-29T19:30:33.064Z"
   },
   {
    "duration": 15,
    "start_time": "2023-07-29T19:30:33.154Z"
   },
   {
    "duration": 31,
    "start_time": "2023-07-29T19:30:33.182Z"
   },
   {
    "duration": 35,
    "start_time": "2023-07-29T19:30:33.280Z"
   },
   {
    "duration": 31,
    "start_time": "2023-07-29T19:30:33.410Z"
   },
   {
    "duration": 128,
    "start_time": "2023-07-29T19:30:33.446Z"
   },
   {
    "duration": 6,
    "start_time": "2023-07-29T19:30:33.576Z"
   },
   {
    "duration": 22,
    "start_time": "2023-07-29T19:30:33.583Z"
   },
   {
    "duration": 78,
    "start_time": "2023-07-29T19:30:33.619Z"
   },
   {
    "duration": 95,
    "start_time": "2023-07-29T19:30:33.699Z"
   },
   {
    "duration": 85,
    "start_time": "2023-07-29T19:30:33.796Z"
   },
   {
    "duration": 98,
    "start_time": "2023-07-29T19:30:33.882Z"
   },
   {
    "duration": 12,
    "start_time": "2023-07-29T19:33:35.360Z"
   },
   {
    "duration": 22,
    "start_time": "2023-07-29T19:33:47.551Z"
   },
   {
    "duration": 1395,
    "start_time": "2023-07-29T22:47:30.556Z"
   },
   {
    "duration": 1692,
    "start_time": "2023-07-29T22:47:31.953Z"
   },
   {
    "duration": 7,
    "start_time": "2023-07-29T22:47:33.646Z"
   },
   {
    "duration": 15,
    "start_time": "2023-07-29T22:47:33.655Z"
   },
   {
    "duration": 14,
    "start_time": "2023-07-29T22:47:33.672Z"
   },
   {
    "duration": 3,
    "start_time": "2023-07-29T22:47:33.687Z"
   },
   {
    "duration": 10,
    "start_time": "2023-07-29T22:47:33.691Z"
   },
   {
    "duration": 8,
    "start_time": "2023-07-29T22:47:33.702Z"
   },
   {
    "duration": 26,
    "start_time": "2023-07-29T22:47:33.711Z"
   },
   {
    "duration": 87,
    "start_time": "2023-07-29T22:47:33.739Z"
   },
   {
    "duration": 25,
    "start_time": "2023-07-29T22:47:33.827Z"
   },
   {
    "duration": 22,
    "start_time": "2023-07-29T22:47:33.853Z"
   },
   {
    "duration": 65,
    "start_time": "2023-07-29T22:47:33.876Z"
   },
   {
    "duration": 3735,
    "start_time": "2023-07-29T22:47:33.942Z"
   },
   {
    "duration": 7,
    "start_time": "2023-07-29T22:47:37.679Z"
   },
   {
    "duration": 28,
    "start_time": "2023-07-29T22:47:37.687Z"
   },
   {
    "duration": 23,
    "start_time": "2023-07-29T22:47:37.717Z"
   },
   {
    "duration": 89,
    "start_time": "2023-07-29T22:47:37.742Z"
   },
   {
    "duration": 13,
    "start_time": "2023-07-29T22:47:37.833Z"
   },
   {
    "duration": 19,
    "start_time": "2023-07-29T22:47:37.847Z"
   },
   {
    "duration": 14,
    "start_time": "2023-07-29T22:47:37.867Z"
   },
   {
    "duration": 294,
    "start_time": "2023-07-29T22:47:37.882Z"
   },
   {
    "duration": 4,
    "start_time": "2023-07-29T22:47:38.178Z"
   },
   {
    "duration": 32,
    "start_time": "2023-07-29T22:47:38.183Z"
   },
   {
    "duration": 4,
    "start_time": "2023-07-29T22:47:38.217Z"
   },
   {
    "duration": 16,
    "start_time": "2023-07-29T22:47:38.223Z"
   },
   {
    "duration": 121,
    "start_time": "2023-07-29T22:47:38.241Z"
   },
   {
    "duration": 177,
    "start_time": "2023-07-29T22:47:38.366Z"
   },
   {
    "duration": 9,
    "start_time": "2023-07-29T22:47:38.545Z"
   },
   {
    "duration": 19,
    "start_time": "2023-07-29T22:47:38.556Z"
   },
   {
    "duration": 100,
    "start_time": "2023-07-29T22:47:38.576Z"
   },
   {
    "duration": 710,
    "start_time": "2023-07-29T22:47:38.678Z"
   },
   {
    "duration": 8,
    "start_time": "2023-07-29T22:47:39.390Z"
   },
   {
    "duration": 14,
    "start_time": "2023-07-29T22:47:39.400Z"
   },
   {
    "duration": 100,
    "start_time": "2023-07-29T22:47:39.416Z"
   },
   {
    "duration": 159,
    "start_time": "2023-07-29T22:47:39.517Z"
   },
   {
    "duration": 7,
    "start_time": "2023-07-29T22:47:39.678Z"
   },
   {
    "duration": 14,
    "start_time": "2023-07-29T22:47:39.686Z"
   },
   {
    "duration": 100,
    "start_time": "2023-07-29T22:47:39.702Z"
   },
   {
    "duration": 1109,
    "start_time": "2023-07-29T22:47:39.804Z"
   },
   {
    "duration": 9,
    "start_time": "2023-07-29T22:47:40.915Z"
   },
   {
    "duration": 6,
    "start_time": "2023-07-29T22:47:40.926Z"
   },
   {
    "duration": 113,
    "start_time": "2023-07-29T22:47:40.934Z"
   },
   {
    "duration": 149,
    "start_time": "2023-07-29T22:47:41.049Z"
   },
   {
    "duration": 30,
    "start_time": "2023-07-29T22:47:41.200Z"
   },
   {
    "duration": 23,
    "start_time": "2023-07-29T22:47:41.232Z"
   },
   {
    "duration": 30,
    "start_time": "2023-07-29T22:47:41.256Z"
   },
   {
    "duration": 56,
    "start_time": "2023-07-29T22:47:41.287Z"
   },
   {
    "duration": 45,
    "start_time": "2023-07-29T22:47:41.345Z"
   },
   {
    "duration": 37,
    "start_time": "2023-07-29T22:47:41.392Z"
   },
   {
    "duration": 157,
    "start_time": "2023-07-29T22:47:41.431Z"
   },
   {
    "duration": 7,
    "start_time": "2023-07-29T22:47:41.590Z"
   },
   {
    "duration": 20,
    "start_time": "2023-07-29T22:47:41.599Z"
   },
   {
    "duration": 102,
    "start_time": "2023-07-29T22:47:41.621Z"
   },
   {
    "duration": 100,
    "start_time": "2023-07-29T22:47:41.725Z"
   },
   {
    "duration": 89,
    "start_time": "2023-07-29T22:47:41.827Z"
   },
   {
    "duration": 102,
    "start_time": "2023-07-29T22:47:41.919Z"
   },
   {
    "duration": 22,
    "start_time": "2023-07-29T22:47:42.022Z"
   },
   {
    "duration": 1292,
    "start_time": "2023-08-28T13:43:25.236Z"
   },
   {
    "duration": 0,
    "start_time": "2023-08-28T13:43:26.533Z"
   },
   {
    "duration": 0,
    "start_time": "2023-08-28T13:43:26.534Z"
   },
   {
    "duration": 0,
    "start_time": "2023-08-28T13:43:26.535Z"
   },
   {
    "duration": 0,
    "start_time": "2023-08-28T13:43:26.537Z"
   },
   {
    "duration": 0,
    "start_time": "2023-08-28T13:43:26.538Z"
   },
   {
    "duration": 0,
    "start_time": "2023-08-28T13:43:26.540Z"
   },
   {
    "duration": 0,
    "start_time": "2023-08-28T13:43:26.541Z"
   },
   {
    "duration": 0,
    "start_time": "2023-08-28T13:43:26.543Z"
   },
   {
    "duration": 0,
    "start_time": "2023-08-28T13:43:26.566Z"
   },
   {
    "duration": 0,
    "start_time": "2023-08-28T13:43:26.568Z"
   },
   {
    "duration": 0,
    "start_time": "2023-08-28T13:43:26.569Z"
   },
   {
    "duration": 0,
    "start_time": "2023-08-28T13:43:26.571Z"
   },
   {
    "duration": 0,
    "start_time": "2023-08-28T13:43:26.572Z"
   },
   {
    "duration": 0,
    "start_time": "2023-08-28T13:43:26.573Z"
   },
   {
    "duration": 0,
    "start_time": "2023-08-28T13:43:26.575Z"
   },
   {
    "duration": 0,
    "start_time": "2023-08-28T13:43:26.576Z"
   },
   {
    "duration": 0,
    "start_time": "2023-08-28T13:43:26.577Z"
   },
   {
    "duration": 0,
    "start_time": "2023-08-28T13:43:26.579Z"
   },
   {
    "duration": 0,
    "start_time": "2023-08-28T13:43:26.580Z"
   },
   {
    "duration": 0,
    "start_time": "2023-08-28T13:43:26.581Z"
   },
   {
    "duration": 0,
    "start_time": "2023-08-28T13:43:26.583Z"
   },
   {
    "duration": 0,
    "start_time": "2023-08-28T13:43:26.584Z"
   },
   {
    "duration": 0,
    "start_time": "2023-08-28T13:43:26.586Z"
   },
   {
    "duration": 0,
    "start_time": "2023-08-28T13:43:26.587Z"
   },
   {
    "duration": 0,
    "start_time": "2023-08-28T13:43:26.589Z"
   },
   {
    "duration": 0,
    "start_time": "2023-08-28T13:43:26.589Z"
   },
   {
    "duration": 0,
    "start_time": "2023-08-28T13:43:26.590Z"
   },
   {
    "duration": 0,
    "start_time": "2023-08-28T13:43:26.592Z"
   },
   {
    "duration": 0,
    "start_time": "2023-08-28T13:43:26.593Z"
   },
   {
    "duration": 0,
    "start_time": "2023-08-28T13:43:26.594Z"
   },
   {
    "duration": 0,
    "start_time": "2023-08-28T13:43:26.595Z"
   },
   {
    "duration": 0,
    "start_time": "2023-08-28T13:43:26.596Z"
   },
   {
    "duration": 0,
    "start_time": "2023-08-28T13:43:26.597Z"
   },
   {
    "duration": 0,
    "start_time": "2023-08-28T13:43:26.599Z"
   },
   {
    "duration": 0,
    "start_time": "2023-08-28T13:43:26.599Z"
   },
   {
    "duration": 0,
    "start_time": "2023-08-28T13:43:26.600Z"
   },
   {
    "duration": 0,
    "start_time": "2023-08-28T13:43:26.601Z"
   },
   {
    "duration": 0,
    "start_time": "2023-08-28T13:43:26.603Z"
   },
   {
    "duration": 0,
    "start_time": "2023-08-28T13:43:26.604Z"
   },
   {
    "duration": 0,
    "start_time": "2023-08-28T13:43:26.605Z"
   },
   {
    "duration": 0,
    "start_time": "2023-08-28T13:43:26.606Z"
   },
   {
    "duration": 0,
    "start_time": "2023-08-28T13:43:26.606Z"
   },
   {
    "duration": 0,
    "start_time": "2023-08-28T13:43:26.670Z"
   },
   {
    "duration": 0,
    "start_time": "2023-08-28T13:43:26.672Z"
   },
   {
    "duration": 0,
    "start_time": "2023-08-28T13:43:26.673Z"
   },
   {
    "duration": 0,
    "start_time": "2023-08-28T13:43:26.674Z"
   },
   {
    "duration": 0,
    "start_time": "2023-08-28T13:43:26.676Z"
   },
   {
    "duration": 0,
    "start_time": "2023-08-28T13:43:26.677Z"
   },
   {
    "duration": 0,
    "start_time": "2023-08-28T13:43:26.678Z"
   },
   {
    "duration": 0,
    "start_time": "2023-08-28T13:43:26.679Z"
   },
   {
    "duration": 0,
    "start_time": "2023-08-28T13:43:26.680Z"
   },
   {
    "duration": 0,
    "start_time": "2023-08-28T13:43:26.681Z"
   },
   {
    "duration": 0,
    "start_time": "2023-08-28T13:43:26.684Z"
   },
   {
    "duration": 0,
    "start_time": "2023-08-28T13:43:26.685Z"
   },
   {
    "duration": 0,
    "start_time": "2023-08-28T13:43:26.686Z"
   },
   {
    "duration": 0,
    "start_time": "2023-08-28T13:43:26.687Z"
   },
   {
    "duration": 0,
    "start_time": "2023-08-28T13:43:26.688Z"
   },
   {
    "duration": 0,
    "start_time": "2023-08-28T13:43:26.689Z"
   },
   {
    "duration": 0,
    "start_time": "2023-08-28T13:43:26.690Z"
   },
   {
    "duration": 0,
    "start_time": "2023-08-28T13:43:26.692Z"
   },
   {
    "duration": 1641,
    "start_time": "2023-08-29T06:24:46.239Z"
   },
   {
    "duration": 103,
    "start_time": "2023-08-29T06:24:47.882Z"
   },
   {
    "duration": 0,
    "start_time": "2023-08-29T06:24:47.988Z"
   },
   {
    "duration": 0,
    "start_time": "2023-08-29T06:24:47.989Z"
   },
   {
    "duration": 0,
    "start_time": "2023-08-29T06:24:47.991Z"
   },
   {
    "duration": 0,
    "start_time": "2023-08-29T06:24:47.993Z"
   },
   {
    "duration": 0,
    "start_time": "2023-08-29T06:24:47.995Z"
   },
   {
    "duration": 0,
    "start_time": "2023-08-29T06:24:47.997Z"
   },
   {
    "duration": 0,
    "start_time": "2023-08-29T06:24:47.999Z"
   },
   {
    "duration": 0,
    "start_time": "2023-08-29T06:24:48.000Z"
   },
   {
    "duration": 0,
    "start_time": "2023-08-29T06:24:48.025Z"
   },
   {
    "duration": 0,
    "start_time": "2023-08-29T06:24:48.027Z"
   },
   {
    "duration": 0,
    "start_time": "2023-08-29T06:24:48.028Z"
   },
   {
    "duration": 0,
    "start_time": "2023-08-29T06:24:48.030Z"
   },
   {
    "duration": 0,
    "start_time": "2023-08-29T06:24:48.031Z"
   },
   {
    "duration": 0,
    "start_time": "2023-08-29T06:24:48.033Z"
   },
   {
    "duration": 0,
    "start_time": "2023-08-29T06:24:48.034Z"
   },
   {
    "duration": 0,
    "start_time": "2023-08-29T06:24:48.036Z"
   },
   {
    "duration": 0,
    "start_time": "2023-08-29T06:24:48.037Z"
   },
   {
    "duration": 0,
    "start_time": "2023-08-29T06:24:48.039Z"
   },
   {
    "duration": 0,
    "start_time": "2023-08-29T06:24:48.040Z"
   },
   {
    "duration": 0,
    "start_time": "2023-08-29T06:24:48.042Z"
   },
   {
    "duration": 0,
    "start_time": "2023-08-29T06:24:48.043Z"
   },
   {
    "duration": 0,
    "start_time": "2023-08-29T06:24:48.045Z"
   },
   {
    "duration": 0,
    "start_time": "2023-08-29T06:24:48.047Z"
   },
   {
    "duration": 0,
    "start_time": "2023-08-29T06:24:48.048Z"
   },
   {
    "duration": 0,
    "start_time": "2023-08-29T06:24:48.049Z"
   },
   {
    "duration": 0,
    "start_time": "2023-08-29T06:24:48.051Z"
   },
   {
    "duration": 0,
    "start_time": "2023-08-29T06:24:48.053Z"
   },
   {
    "duration": 0,
    "start_time": "2023-08-29T06:24:48.055Z"
   },
   {
    "duration": 0,
    "start_time": "2023-08-29T06:24:48.057Z"
   },
   {
    "duration": 0,
    "start_time": "2023-08-29T06:24:48.059Z"
   },
   {
    "duration": 0,
    "start_time": "2023-08-29T06:24:48.060Z"
   },
   {
    "duration": 0,
    "start_time": "2023-08-29T06:24:48.062Z"
   },
   {
    "duration": 0,
    "start_time": "2023-08-29T06:24:48.063Z"
   },
   {
    "duration": 0,
    "start_time": "2023-08-29T06:24:48.123Z"
   },
   {
    "duration": 0,
    "start_time": "2023-08-29T06:24:48.125Z"
   },
   {
    "duration": 0,
    "start_time": "2023-08-29T06:24:48.126Z"
   },
   {
    "duration": 0,
    "start_time": "2023-08-29T06:24:48.127Z"
   },
   {
    "duration": 0,
    "start_time": "2023-08-29T06:24:48.128Z"
   },
   {
    "duration": 0,
    "start_time": "2023-08-29T06:24:48.129Z"
   },
   {
    "duration": 0,
    "start_time": "2023-08-29T06:24:48.130Z"
   },
   {
    "duration": 0,
    "start_time": "2023-08-29T06:24:48.131Z"
   },
   {
    "duration": 0,
    "start_time": "2023-08-29T06:24:48.132Z"
   },
   {
    "duration": 0,
    "start_time": "2023-08-29T06:24:48.133Z"
   },
   {
    "duration": 0,
    "start_time": "2023-08-29T06:24:48.134Z"
   },
   {
    "duration": 0,
    "start_time": "2023-08-29T06:24:48.134Z"
   },
   {
    "duration": 0,
    "start_time": "2023-08-29T06:24:48.135Z"
   },
   {
    "duration": 0,
    "start_time": "2023-08-29T06:24:48.136Z"
   },
   {
    "duration": 0,
    "start_time": "2023-08-29T06:24:48.138Z"
   },
   {
    "duration": 0,
    "start_time": "2023-08-29T06:24:48.140Z"
   },
   {
    "duration": 0,
    "start_time": "2023-08-29T06:24:48.142Z"
   },
   {
    "duration": 0,
    "start_time": "2023-08-29T06:24:48.143Z"
   },
   {
    "duration": 1,
    "start_time": "2023-08-29T06:24:48.144Z"
   },
   {
    "duration": 0,
    "start_time": "2023-08-29T06:24:48.146Z"
   },
   {
    "duration": 1,
    "start_time": "2023-08-29T06:24:48.147Z"
   },
   {
    "duration": 0,
    "start_time": "2023-08-29T06:24:48.149Z"
   },
   {
    "duration": 0,
    "start_time": "2023-08-29T06:24:48.151Z"
   },
   {
    "duration": 0,
    "start_time": "2023-08-29T06:24:48.153Z"
   },
   {
    "duration": 0,
    "start_time": "2023-08-29T06:24:48.154Z"
   },
   {
    "duration": 1,
    "start_time": "2023-08-29T06:24:48.155Z"
   },
   {
    "duration": 1249,
    "start_time": "2023-08-29T06:25:23.083Z"
   },
   {
    "duration": 3,
    "start_time": "2023-08-29T06:25:24.334Z"
   },
   {
    "duration": 125,
    "start_time": "2023-08-29T06:25:24.338Z"
   },
   {
    "duration": 0,
    "start_time": "2023-08-29T06:25:24.466Z"
   },
   {
    "duration": 0,
    "start_time": "2023-08-29T06:25:24.467Z"
   },
   {
    "duration": 0,
    "start_time": "2023-08-29T06:25:24.468Z"
   },
   {
    "duration": 0,
    "start_time": "2023-08-29T06:25:24.470Z"
   },
   {
    "duration": 0,
    "start_time": "2023-08-29T06:25:24.471Z"
   },
   {
    "duration": 0,
    "start_time": "2023-08-29T06:25:24.472Z"
   },
   {
    "duration": 0,
    "start_time": "2023-08-29T06:25:24.473Z"
   },
   {
    "duration": 0,
    "start_time": "2023-08-29T06:25:24.474Z"
   },
   {
    "duration": 0,
    "start_time": "2023-08-29T06:25:24.475Z"
   },
   {
    "duration": 0,
    "start_time": "2023-08-29T06:25:24.476Z"
   },
   {
    "duration": 0,
    "start_time": "2023-08-29T06:25:24.477Z"
   },
   {
    "duration": 0,
    "start_time": "2023-08-29T06:25:24.478Z"
   },
   {
    "duration": 0,
    "start_time": "2023-08-29T06:25:24.479Z"
   },
   {
    "duration": 0,
    "start_time": "2023-08-29T06:25:24.481Z"
   },
   {
    "duration": 0,
    "start_time": "2023-08-29T06:25:24.482Z"
   },
   {
    "duration": 0,
    "start_time": "2023-08-29T06:25:24.483Z"
   },
   {
    "duration": 0,
    "start_time": "2023-08-29T06:25:24.484Z"
   },
   {
    "duration": 0,
    "start_time": "2023-08-29T06:25:24.486Z"
   },
   {
    "duration": 0,
    "start_time": "2023-08-29T06:25:24.486Z"
   },
   {
    "duration": 0,
    "start_time": "2023-08-29T06:25:24.487Z"
   },
   {
    "duration": 0,
    "start_time": "2023-08-29T06:25:24.524Z"
   },
   {
    "duration": 0,
    "start_time": "2023-08-29T06:25:24.526Z"
   },
   {
    "duration": 0,
    "start_time": "2023-08-29T06:25:24.527Z"
   },
   {
    "duration": 0,
    "start_time": "2023-08-29T06:25:24.528Z"
   },
   {
    "duration": 0,
    "start_time": "2023-08-29T06:25:24.529Z"
   },
   {
    "duration": 0,
    "start_time": "2023-08-29T06:25:24.530Z"
   },
   {
    "duration": 0,
    "start_time": "2023-08-29T06:25:24.531Z"
   },
   {
    "duration": 0,
    "start_time": "2023-08-29T06:25:24.532Z"
   },
   {
    "duration": 0,
    "start_time": "2023-08-29T06:25:24.533Z"
   },
   {
    "duration": 0,
    "start_time": "2023-08-29T06:25:24.534Z"
   },
   {
    "duration": 0,
    "start_time": "2023-08-29T06:25:24.535Z"
   },
   {
    "duration": 0,
    "start_time": "2023-08-29T06:25:24.536Z"
   },
   {
    "duration": 0,
    "start_time": "2023-08-29T06:25:24.537Z"
   },
   {
    "duration": 0,
    "start_time": "2023-08-29T06:25:24.538Z"
   },
   {
    "duration": 0,
    "start_time": "2023-08-29T06:25:24.540Z"
   },
   {
    "duration": 0,
    "start_time": "2023-08-29T06:25:24.541Z"
   },
   {
    "duration": 1,
    "start_time": "2023-08-29T06:25:24.541Z"
   },
   {
    "duration": 0,
    "start_time": "2023-08-29T06:25:24.543Z"
   },
   {
    "duration": 0,
    "start_time": "2023-08-29T06:25:24.544Z"
   },
   {
    "duration": 0,
    "start_time": "2023-08-29T06:25:24.545Z"
   },
   {
    "duration": 0,
    "start_time": "2023-08-29T06:25:24.546Z"
   },
   {
    "duration": 0,
    "start_time": "2023-08-29T06:25:24.547Z"
   },
   {
    "duration": 0,
    "start_time": "2023-08-29T06:25:24.548Z"
   },
   {
    "duration": 0,
    "start_time": "2023-08-29T06:25:24.549Z"
   },
   {
    "duration": 0,
    "start_time": "2023-08-29T06:25:24.550Z"
   },
   {
    "duration": 0,
    "start_time": "2023-08-29T06:25:24.551Z"
   },
   {
    "duration": 0,
    "start_time": "2023-08-29T06:25:24.552Z"
   },
   {
    "duration": 0,
    "start_time": "2023-08-29T06:25:24.553Z"
   },
   {
    "duration": 0,
    "start_time": "2023-08-29T06:25:24.555Z"
   },
   {
    "duration": 0,
    "start_time": "2023-08-29T06:25:24.556Z"
   },
   {
    "duration": 0,
    "start_time": "2023-08-29T06:25:24.557Z"
   },
   {
    "duration": 0,
    "start_time": "2023-08-29T06:25:24.558Z"
   },
   {
    "duration": 0,
    "start_time": "2023-08-29T06:25:24.559Z"
   },
   {
    "duration": 0,
    "start_time": "2023-08-29T06:25:24.560Z"
   },
   {
    "duration": 0,
    "start_time": "2023-08-29T06:25:24.561Z"
   },
   {
    "duration": 0,
    "start_time": "2023-08-29T06:25:24.562Z"
   },
   {
    "duration": 0,
    "start_time": "2023-08-29T06:25:24.624Z"
   },
   {
    "duration": 0,
    "start_time": "2023-08-29T06:25:24.626Z"
   },
   {
    "duration": 432,
    "start_time": "2023-08-29T06:25:46.675Z"
   },
   {
    "duration": 9,
    "start_time": "2023-08-29T06:25:48.539Z"
   },
   {
    "duration": 1986,
    "start_time": "2023-08-29T06:25:52.149Z"
   },
   {
    "duration": 130,
    "start_time": "2023-08-29T07:17:57.789Z"
   },
   {
    "duration": 31,
    "start_time": "2023-08-29T07:18:19.081Z"
   },
   {
    "duration": 216,
    "start_time": "2023-08-29T07:20:50.086Z"
   },
   {
    "duration": 2052,
    "start_time": "2023-08-29T07:20:51.814Z"
   },
   {
    "duration": 13,
    "start_time": "2023-08-29T07:21:00.572Z"
   },
   {
    "duration": 6,
    "start_time": "2023-08-29T07:21:01.498Z"
   },
   {
    "duration": 14,
    "start_time": "2023-08-29T07:21:03.648Z"
   },
   {
    "duration": 11,
    "start_time": "2023-08-29T07:21:05.477Z"
   },
   {
    "duration": 1374,
    "start_time": "2023-08-29T07:21:10.707Z"
   },
   {
    "duration": 1972,
    "start_time": "2023-08-29T07:21:12.083Z"
   },
   {
    "duration": 8,
    "start_time": "2023-08-29T07:21:14.057Z"
   },
   {
    "duration": 11,
    "start_time": "2023-08-29T07:21:14.068Z"
   },
   {
    "duration": 12,
    "start_time": "2023-08-29T07:21:14.081Z"
   },
   {
    "duration": 11,
    "start_time": "2023-08-29T07:21:14.096Z"
   },
   {
    "duration": 158,
    "start_time": "2023-08-29T07:21:14.110Z"
   },
   {
    "duration": 6,
    "start_time": "2023-08-29T07:21:14.271Z"
   },
   {
    "duration": 27,
    "start_time": "2023-08-29T07:21:14.278Z"
   },
   {
    "duration": 13,
    "start_time": "2023-08-29T07:21:14.309Z"
   },
   {
    "duration": 18,
    "start_time": "2023-08-29T07:21:14.325Z"
   },
   {
    "duration": 17,
    "start_time": "2023-08-29T07:21:14.345Z"
   },
   {
    "duration": 17,
    "start_time": "2023-08-29T07:21:14.364Z"
   },
   {
    "duration": 105,
    "start_time": "2023-08-29T07:21:14.383Z"
   },
   {
    "duration": 4276,
    "start_time": "2023-08-29T07:21:14.491Z"
   },
   {
    "duration": 10,
    "start_time": "2023-08-29T07:21:18.769Z"
   },
   {
    "duration": 26,
    "start_time": "2023-08-29T07:21:18.781Z"
   },
   {
    "duration": 28,
    "start_time": "2023-08-29T07:21:18.825Z"
   },
   {
    "duration": 116,
    "start_time": "2023-08-29T07:21:18.855Z"
   },
   {
    "duration": 17,
    "start_time": "2023-08-29T07:21:18.974Z"
   },
   {
    "duration": 31,
    "start_time": "2023-08-29T07:21:18.993Z"
   },
   {
    "duration": 6,
    "start_time": "2023-08-29T07:21:19.026Z"
   },
   {
    "duration": 21,
    "start_time": "2023-08-29T07:21:19.034Z"
   },
   {
    "duration": 356,
    "start_time": "2023-08-29T07:21:19.057Z"
   },
   {
    "duration": 15,
    "start_time": "2023-08-29T07:21:19.417Z"
   },
   {
    "duration": 83,
    "start_time": "2023-08-29T07:21:19.434Z"
   },
   {
    "duration": 36,
    "start_time": "2023-08-29T07:21:19.519Z"
   },
   {
    "duration": 5,
    "start_time": "2023-08-29T07:21:19.559Z"
   },
   {
    "duration": 12,
    "start_time": "2023-08-29T07:21:19.565Z"
   },
   {
    "duration": 152,
    "start_time": "2023-08-29T07:21:19.580Z"
   },
   {
    "duration": 291,
    "start_time": "2023-08-29T07:21:19.734Z"
   },
   {
    "duration": 16,
    "start_time": "2023-08-29T07:21:20.027Z"
   },
   {
    "duration": 12,
    "start_time": "2023-08-29T07:21:20.045Z"
   },
   {
    "duration": 199,
    "start_time": "2023-08-29T07:21:20.060Z"
   },
   {
    "duration": 877,
    "start_time": "2023-08-29T07:21:20.261Z"
   },
   {
    "duration": 13,
    "start_time": "2023-08-29T07:21:21.141Z"
   },
   {
    "duration": 13,
    "start_time": "2023-08-29T07:21:21.156Z"
   },
   {
    "duration": 169,
    "start_time": "2023-08-29T07:21:21.171Z"
   },
   {
    "duration": 186,
    "start_time": "2023-08-29T07:21:21.343Z"
   },
   {
    "duration": 14,
    "start_time": "2023-08-29T07:21:21.531Z"
   },
   {
    "duration": 11,
    "start_time": "2023-08-29T07:21:21.547Z"
   },
   {
    "duration": 141,
    "start_time": "2023-08-29T07:21:21.561Z"
   },
   {
    "duration": 1193,
    "start_time": "2023-08-29T07:21:21.704Z"
   },
   {
    "duration": 12,
    "start_time": "2023-08-29T07:21:22.899Z"
   },
   {
    "duration": 12,
    "start_time": "2023-08-29T07:21:22.923Z"
   },
   {
    "duration": 133,
    "start_time": "2023-08-29T07:21:22.938Z"
   },
   {
    "duration": 183,
    "start_time": "2023-08-29T07:21:23.073Z"
   },
   {
    "duration": 38,
    "start_time": "2023-08-29T07:21:23.258Z"
   },
   {
    "duration": 59,
    "start_time": "2023-08-29T07:21:23.298Z"
   },
   {
    "duration": 19,
    "start_time": "2023-08-29T07:21:23.359Z"
   },
   {
    "duration": 1061,
    "start_time": "2023-08-29T07:21:23.380Z"
   },
   {
    "duration": 54,
    "start_time": "2023-08-29T07:21:24.443Z"
   },
   {
    "duration": 54,
    "start_time": "2023-08-29T07:21:24.499Z"
   },
   {
    "duration": 207,
    "start_time": "2023-08-29T07:21:24.555Z"
   },
   {
    "duration": 10,
    "start_time": "2023-08-29T07:21:24.764Z"
   },
   {
    "duration": 50,
    "start_time": "2023-08-29T07:21:24.776Z"
   },
   {
    "duration": 112,
    "start_time": "2023-08-29T07:21:24.828Z"
   },
   {
    "duration": 324,
    "start_time": "2023-08-29T07:21:24.943Z"
   },
   {
    "duration": 138,
    "start_time": "2023-08-29T07:21:25.269Z"
   },
   {
    "duration": 138,
    "start_time": "2023-08-29T07:21:25.409Z"
   },
   {
    "duration": 64,
    "start_time": "2023-08-29T07:21:25.549Z"
   },
   {
    "duration": 28,
    "start_time": "2023-08-29T07:26:14.973Z"
   },
   {
    "duration": 6,
    "start_time": "2023-08-29T07:42:25.003Z"
   },
   {
    "duration": 1430,
    "start_time": "2023-08-29T07:47:38.361Z"
   },
   {
    "duration": 2229,
    "start_time": "2023-08-29T07:47:39.792Z"
   },
   {
    "duration": 15,
    "start_time": "2023-08-29T07:47:42.023Z"
   },
   {
    "duration": 13,
    "start_time": "2023-08-29T07:47:42.041Z"
   },
   {
    "duration": 12,
    "start_time": "2023-08-29T07:47:42.056Z"
   },
   {
    "duration": 7,
    "start_time": "2023-08-29T07:47:42.070Z"
   },
   {
    "duration": 125,
    "start_time": "2023-08-29T07:47:42.079Z"
   },
   {
    "duration": 4,
    "start_time": "2023-08-29T07:47:42.206Z"
   },
   {
    "duration": 28,
    "start_time": "2023-08-29T07:47:42.212Z"
   },
   {
    "duration": 35,
    "start_time": "2023-08-29T07:47:42.244Z"
   },
   {
    "duration": 37,
    "start_time": "2023-08-29T07:47:42.281Z"
   },
   {
    "duration": 45,
    "start_time": "2023-08-29T07:47:42.319Z"
   },
   {
    "duration": 39,
    "start_time": "2023-08-29T07:47:42.366Z"
   },
   {
    "duration": 49,
    "start_time": "2023-08-29T07:47:42.406Z"
   },
   {
    "duration": 72,
    "start_time": "2023-08-29T07:47:42.457Z"
   },
   {
    "duration": 4755,
    "start_time": "2023-08-29T07:47:42.531Z"
   },
   {
    "duration": 7,
    "start_time": "2023-08-29T07:47:47.287Z"
   },
   {
    "duration": 34,
    "start_time": "2023-08-29T07:47:47.295Z"
   },
   {
    "duration": 39,
    "start_time": "2023-08-29T07:47:47.332Z"
   },
   {
    "duration": 120,
    "start_time": "2023-08-29T07:47:47.372Z"
   },
   {
    "duration": 14,
    "start_time": "2023-08-29T07:47:47.493Z"
   },
   {
    "duration": 4,
    "start_time": "2023-08-29T07:47:47.508Z"
   },
   {
    "duration": 22,
    "start_time": "2023-08-29T07:47:47.514Z"
   },
   {
    "duration": 25,
    "start_time": "2023-08-29T07:47:47.552Z"
   },
   {
    "duration": 366,
    "start_time": "2023-08-29T07:47:47.579Z"
   },
   {
    "duration": 16,
    "start_time": "2023-08-29T07:47:47.948Z"
   },
   {
    "duration": 23,
    "start_time": "2023-08-29T07:47:47.966Z"
   },
   {
    "duration": 72,
    "start_time": "2023-08-29T07:47:47.992Z"
   },
   {
    "duration": 4,
    "start_time": "2023-08-29T07:47:48.068Z"
   },
   {
    "duration": 16,
    "start_time": "2023-08-29T07:47:48.074Z"
   },
   {
    "duration": 119,
    "start_time": "2023-08-29T07:47:48.091Z"
   },
   {
    "duration": 197,
    "start_time": "2023-08-29T07:47:48.212Z"
   },
   {
    "duration": 18,
    "start_time": "2023-08-29T07:47:48.411Z"
   },
   {
    "duration": 9,
    "start_time": "2023-08-29T07:47:48.431Z"
   },
   {
    "duration": 128,
    "start_time": "2023-08-29T07:47:48.442Z"
   },
   {
    "duration": 989,
    "start_time": "2023-08-29T07:47:48.572Z"
   },
   {
    "duration": 17,
    "start_time": "2023-08-29T07:47:49.564Z"
   },
   {
    "duration": 11,
    "start_time": "2023-08-29T07:47:49.583Z"
   },
   {
    "duration": 164,
    "start_time": "2023-08-29T07:47:49.596Z"
   },
   {
    "duration": 243,
    "start_time": "2023-08-29T07:47:49.762Z"
   },
   {
    "duration": 11,
    "start_time": "2023-08-29T07:47:50.006Z"
   },
   {
    "duration": 45,
    "start_time": "2023-08-29T07:47:50.024Z"
   },
   {
    "duration": 180,
    "start_time": "2023-08-29T07:47:50.072Z"
   },
   {
    "duration": 1316,
    "start_time": "2023-08-29T07:47:50.256Z"
   },
   {
    "duration": 9,
    "start_time": "2023-08-29T07:47:51.573Z"
   },
   {
    "duration": 58,
    "start_time": "2023-08-29T07:47:51.584Z"
   },
   {
    "duration": 169,
    "start_time": "2023-08-29T07:47:51.644Z"
   },
   {
    "duration": 188,
    "start_time": "2023-08-29T07:47:51.815Z"
   },
   {
    "duration": 52,
    "start_time": "2023-08-29T07:47:52.005Z"
   },
   {
    "duration": 131,
    "start_time": "2023-08-29T07:47:52.059Z"
   },
   {
    "duration": 35,
    "start_time": "2023-08-29T07:47:52.192Z"
   },
   {
    "duration": 41,
    "start_time": "2023-08-29T07:47:52.229Z"
   },
   {
    "duration": 1218,
    "start_time": "2023-08-29T07:47:52.274Z"
   },
   {
    "duration": 57,
    "start_time": "2023-08-29T07:47:53.494Z"
   },
   {
    "duration": 46,
    "start_time": "2023-08-29T07:47:53.557Z"
   },
   {
    "duration": 213,
    "start_time": "2023-08-29T07:47:53.605Z"
   },
   {
    "duration": 11,
    "start_time": "2023-08-29T07:47:53.823Z"
   },
   {
    "duration": 52,
    "start_time": "2023-08-29T07:47:53.836Z"
   },
   {
    "duration": 273,
    "start_time": "2023-08-29T07:47:53.890Z"
   },
   {
    "duration": 124,
    "start_time": "2023-08-29T07:47:54.165Z"
   },
   {
    "duration": 125,
    "start_time": "2023-08-29T07:47:54.291Z"
   },
   {
    "duration": 143,
    "start_time": "2023-08-29T07:47:54.418Z"
   },
   {
    "duration": 70,
    "start_time": "2023-08-29T07:47:54.563Z"
   },
   {
    "duration": 1149,
    "start_time": "2023-09-03T17:53:41.547Z"
   },
   {
    "duration": 8,
    "start_time": "2023-09-03T17:53:50.382Z"
   },
   {
    "duration": 1405,
    "start_time": "2023-09-03T17:54:00.774Z"
   },
   {
    "duration": 1681,
    "start_time": "2023-09-03T17:54:02.181Z"
   },
   {
    "duration": 8,
    "start_time": "2023-09-03T17:54:03.863Z"
   },
   {
    "duration": 23,
    "start_time": "2023-09-03T17:54:03.873Z"
   },
   {
    "duration": 25,
    "start_time": "2023-09-03T17:54:03.898Z"
   },
   {
    "duration": 9,
    "start_time": "2023-09-03T17:54:03.924Z"
   },
   {
    "duration": 103,
    "start_time": "2023-09-03T17:54:03.934Z"
   },
   {
    "duration": 4,
    "start_time": "2023-09-03T17:54:04.039Z"
   },
   {
    "duration": 8,
    "start_time": "2023-09-03T17:54:04.045Z"
   },
   {
    "duration": 11,
    "start_time": "2023-09-03T17:54:04.055Z"
   },
   {
    "duration": 12,
    "start_time": "2023-09-03T17:54:04.067Z"
   },
   {
    "duration": 13,
    "start_time": "2023-09-03T17:54:04.080Z"
   },
   {
    "duration": 14,
    "start_time": "2023-09-03T17:54:04.094Z"
   },
   {
    "duration": 45,
    "start_time": "2023-09-03T17:54:04.110Z"
   },
   {
    "duration": 42,
    "start_time": "2023-09-03T17:54:04.157Z"
   },
   {
    "duration": 6,
    "start_time": "2023-09-03T17:54:04.200Z"
   },
   {
    "duration": 46,
    "start_time": "2023-09-03T17:54:04.207Z"
   },
   {
    "duration": 20,
    "start_time": "2023-09-03T17:54:04.254Z"
   },
   {
    "duration": 89,
    "start_time": "2023-09-03T17:54:04.276Z"
   },
   {
    "duration": 15,
    "start_time": "2023-09-03T17:54:04.367Z"
   },
   {
    "duration": 6,
    "start_time": "2023-09-03T17:54:04.385Z"
   },
   {
    "duration": 6,
    "start_time": "2023-09-03T17:54:04.393Z"
   },
   {
    "duration": 48,
    "start_time": "2023-09-03T17:54:04.401Z"
   },
   {
    "duration": 296,
    "start_time": "2023-09-03T17:54:04.451Z"
   },
   {
    "duration": 9,
    "start_time": "2023-09-03T17:54:04.748Z"
   },
   {
    "duration": 33,
    "start_time": "2023-09-03T17:54:04.759Z"
   },
   {
    "duration": 29,
    "start_time": "2023-09-03T17:54:04.793Z"
   },
   {
    "duration": 9,
    "start_time": "2023-09-03T17:54:04.825Z"
   },
   {
    "duration": 13,
    "start_time": "2023-09-03T17:54:04.835Z"
   },
   {
    "duration": 99,
    "start_time": "2023-09-03T17:54:04.850Z"
   },
   {
    "duration": 172,
    "start_time": "2023-09-03T17:54:04.950Z"
   },
   {
    "duration": 15,
    "start_time": "2023-09-03T17:54:05.124Z"
   },
   {
    "duration": 7,
    "start_time": "2023-09-03T17:54:05.141Z"
   },
   {
    "duration": 108,
    "start_time": "2023-09-03T17:54:05.150Z"
   },
   {
    "duration": 684,
    "start_time": "2023-09-03T17:54:05.259Z"
   },
   {
    "duration": 8,
    "start_time": "2023-09-03T17:54:05.945Z"
   },
   {
    "duration": 6,
    "start_time": "2023-09-03T17:54:05.954Z"
   },
   {
    "duration": 97,
    "start_time": "2023-09-03T17:54:05.962Z"
   },
   {
    "duration": 149,
    "start_time": "2023-09-03T17:54:06.060Z"
   },
   {
    "duration": 8,
    "start_time": "2023-09-03T17:54:06.210Z"
   },
   {
    "duration": 19,
    "start_time": "2023-09-03T17:54:06.220Z"
   },
   {
    "duration": 98,
    "start_time": "2023-09-03T17:54:06.240Z"
   },
   {
    "duration": 964,
    "start_time": "2023-09-03T17:54:06.340Z"
   },
   {
    "duration": 9,
    "start_time": "2023-09-03T17:54:07.305Z"
   },
   {
    "duration": 21,
    "start_time": "2023-09-03T17:54:07.316Z"
   },
   {
    "duration": 102,
    "start_time": "2023-09-03T17:54:07.338Z"
   },
   {
    "duration": 148,
    "start_time": "2023-09-03T17:54:07.442Z"
   },
   {
    "duration": 30,
    "start_time": "2023-09-03T17:54:07.592Z"
   },
   {
    "duration": 23,
    "start_time": "2023-09-03T17:54:07.633Z"
   },
   {
    "duration": 4,
    "start_time": "2023-09-03T17:54:07.657Z"
   },
   {
    "duration": 15,
    "start_time": "2023-09-03T17:54:07.663Z"
   },
   {
    "duration": 1196,
    "start_time": "2023-09-03T17:54:07.680Z"
   },
   {
    "duration": 534,
    "start_time": "2023-09-03T17:54:08.878Z"
   },
   {
    "duration": 39,
    "start_time": "2023-09-03T17:54:09.414Z"
   },
   {
    "duration": 39,
    "start_time": "2023-09-03T17:54:09.455Z"
   },
   {
    "duration": 154,
    "start_time": "2023-09-03T17:54:09.495Z"
   },
   {
    "duration": 8,
    "start_time": "2023-09-03T17:54:09.650Z"
   },
   {
    "duration": 27,
    "start_time": "2023-09-03T17:54:09.660Z"
   },
   {
    "duration": 213,
    "start_time": "2023-09-03T17:54:09.689Z"
   },
   {
    "duration": 96,
    "start_time": "2023-09-03T17:54:09.904Z"
   },
   {
    "duration": 98,
    "start_time": "2023-09-03T17:54:10.002Z"
   },
   {
    "duration": 110,
    "start_time": "2023-09-03T17:54:10.102Z"
   },
   {
    "duration": 61,
    "start_time": "2023-09-03T17:54:10.214Z"
   },
   {
    "duration": 119,
    "start_time": "2023-09-03T17:55:24.078Z"
   },
   {
    "duration": 102,
    "start_time": "2023-09-03T17:57:07.174Z"
   },
   {
    "duration": 115,
    "start_time": "2023-09-03T17:57:14.549Z"
   },
   {
    "duration": 1604,
    "start_time": "2023-09-08T12:22:55.630Z"
   },
   {
    "duration": 2071,
    "start_time": "2023-09-08T12:22:57.236Z"
   },
   {
    "duration": 7,
    "start_time": "2023-09-08T12:22:59.309Z"
   },
   {
    "duration": 8,
    "start_time": "2023-09-08T12:22:59.318Z"
   },
   {
    "duration": 23,
    "start_time": "2023-09-08T12:22:59.327Z"
   },
   {
    "duration": 7,
    "start_time": "2023-09-08T12:22:59.352Z"
   },
   {
    "duration": 119,
    "start_time": "2023-09-08T12:22:59.360Z"
   },
   {
    "duration": 4,
    "start_time": "2023-09-08T12:22:59.481Z"
   },
   {
    "duration": 23,
    "start_time": "2023-09-08T12:22:59.487Z"
   },
   {
    "duration": 13,
    "start_time": "2023-09-08T12:22:59.512Z"
   },
   {
    "duration": 22,
    "start_time": "2023-09-08T12:22:59.526Z"
   },
   {
    "duration": 10,
    "start_time": "2023-09-08T12:22:59.549Z"
   },
   {
    "duration": 16,
    "start_time": "2023-09-08T12:22:59.561Z"
   },
   {
    "duration": 52,
    "start_time": "2023-09-08T12:22:59.579Z"
   },
   {
    "duration": 51,
    "start_time": "2023-09-08T12:22:59.633Z"
   },
   {
    "duration": 184,
    "start_time": "2023-09-08T12:22:59.686Z"
   },
   {
    "duration": 163,
    "start_time": "2023-09-08T12:22:59.872Z"
   },
   {
    "duration": 9,
    "start_time": "2023-09-08T12:23:00.037Z"
   },
   {
    "duration": 43,
    "start_time": "2023-09-08T12:23:00.048Z"
   },
   {
    "duration": 31,
    "start_time": "2023-09-08T12:23:00.093Z"
   },
   {
    "duration": 111,
    "start_time": "2023-09-08T12:23:00.126Z"
   },
   {
    "duration": 16,
    "start_time": "2023-09-08T12:23:00.239Z"
   },
   {
    "duration": 22,
    "start_time": "2023-09-08T12:23:00.257Z"
   },
   {
    "duration": 28,
    "start_time": "2023-09-08T12:23:00.281Z"
   },
   {
    "duration": 32,
    "start_time": "2023-09-08T12:23:00.311Z"
   },
   {
    "duration": 363,
    "start_time": "2023-09-08T12:23:00.345Z"
   },
   {
    "duration": 12,
    "start_time": "2023-09-08T12:23:00.710Z"
   },
   {
    "duration": 38,
    "start_time": "2023-09-08T12:23:00.728Z"
   },
   {
    "duration": 47,
    "start_time": "2023-09-08T12:23:00.768Z"
   },
   {
    "duration": 4,
    "start_time": "2023-09-08T12:23:00.817Z"
   },
   {
    "duration": 46,
    "start_time": "2023-09-08T12:23:00.823Z"
   },
   {
    "duration": 129,
    "start_time": "2023-09-08T12:23:00.871Z"
   },
   {
    "duration": 191,
    "start_time": "2023-09-08T12:23:01.002Z"
   },
   {
    "duration": 18,
    "start_time": "2023-09-08T12:23:01.195Z"
   },
   {
    "duration": 42,
    "start_time": "2023-09-08T12:23:01.214Z"
   },
   {
    "duration": 146,
    "start_time": "2023-09-08T12:23:01.258Z"
   },
   {
    "duration": 783,
    "start_time": "2023-09-08T12:23:01.408Z"
   },
   {
    "duration": 21,
    "start_time": "2023-09-08T12:23:02.193Z"
   },
   {
    "duration": 70,
    "start_time": "2023-09-08T12:23:02.216Z"
   },
   {
    "duration": 144,
    "start_time": "2023-09-08T12:23:02.288Z"
   },
   {
    "duration": 262,
    "start_time": "2023-09-08T12:23:02.434Z"
   },
   {
    "duration": 16,
    "start_time": "2023-09-08T12:23:02.698Z"
   },
   {
    "duration": 45,
    "start_time": "2023-09-08T12:23:02.717Z"
   },
   {
    "duration": 120,
    "start_time": "2023-09-08T12:23:02.763Z"
   },
   {
    "duration": 1163,
    "start_time": "2023-09-08T12:23:02.884Z"
   },
   {
    "duration": 10,
    "start_time": "2023-09-08T12:23:04.049Z"
   },
   {
    "duration": 14,
    "start_time": "2023-09-08T12:23:04.061Z"
   },
   {
    "duration": 131,
    "start_time": "2023-09-08T12:23:04.078Z"
   },
   {
    "duration": 171,
    "start_time": "2023-09-08T12:23:04.211Z"
   },
   {
    "duration": 28,
    "start_time": "2023-09-08T12:23:04.384Z"
   },
   {
    "duration": 28,
    "start_time": "2023-09-08T12:23:04.414Z"
   },
   {
    "duration": 4,
    "start_time": "2023-09-08T12:23:04.444Z"
   },
   {
    "duration": 17,
    "start_time": "2023-09-08T12:23:04.449Z"
   },
   {
    "duration": 1378,
    "start_time": "2023-09-08T12:23:04.468Z"
   },
   {
    "duration": 620,
    "start_time": "2023-09-08T12:23:05.847Z"
   },
   {
    "duration": 42,
    "start_time": "2023-09-08T12:23:06.468Z"
   },
   {
    "duration": 2004,
    "start_time": "2023-09-08T12:23:06.512Z"
   },
   {
    "duration": 0,
    "start_time": "2023-09-08T12:23:08.517Z"
   },
   {
    "duration": 0,
    "start_time": "2023-09-08T12:23:08.519Z"
   },
   {
    "duration": 0,
    "start_time": "2023-09-08T12:23:08.520Z"
   },
   {
    "duration": 0,
    "start_time": "2023-09-08T12:23:08.521Z"
   },
   {
    "duration": 0,
    "start_time": "2023-09-08T12:23:08.522Z"
   },
   {
    "duration": 0,
    "start_time": "2023-09-08T12:23:08.523Z"
   },
   {
    "duration": 0,
    "start_time": "2023-09-08T12:23:08.524Z"
   },
   {
    "duration": 0,
    "start_time": "2023-09-08T12:23:08.525Z"
   },
   {
    "duration": 5,
    "start_time": "2023-09-08T12:24:53.860Z"
   },
   {
    "duration": 1341,
    "start_time": "2023-09-08T12:26:24.609Z"
   },
   {
    "duration": 1974,
    "start_time": "2023-09-08T12:26:25.953Z"
   },
   {
    "duration": 9,
    "start_time": "2023-09-08T12:26:27.929Z"
   },
   {
    "duration": 14,
    "start_time": "2023-09-08T12:26:27.940Z"
   },
   {
    "duration": 34,
    "start_time": "2023-09-08T12:26:27.956Z"
   },
   {
    "duration": 24,
    "start_time": "2023-09-08T12:26:27.992Z"
   },
   {
    "duration": 109,
    "start_time": "2023-09-08T12:26:28.018Z"
   },
   {
    "duration": 5,
    "start_time": "2023-09-08T12:26:28.129Z"
   },
   {
    "duration": 36,
    "start_time": "2023-09-08T12:26:28.135Z"
   },
   {
    "duration": 24,
    "start_time": "2023-09-08T12:26:28.174Z"
   },
   {
    "duration": 20,
    "start_time": "2023-09-08T12:26:28.200Z"
   },
   {
    "duration": 11,
    "start_time": "2023-09-08T12:26:28.221Z"
   },
   {
    "duration": 19,
    "start_time": "2023-09-08T12:26:28.234Z"
   },
   {
    "duration": 44,
    "start_time": "2023-09-08T12:26:28.255Z"
   },
   {
    "duration": 51,
    "start_time": "2023-09-08T12:26:28.301Z"
   },
   {
    "duration": 168,
    "start_time": "2023-09-08T12:26:28.354Z"
   },
   {
    "duration": 162,
    "start_time": "2023-09-08T12:26:28.524Z"
   },
   {
    "duration": 8,
    "start_time": "2023-09-08T12:26:28.687Z"
   },
   {
    "duration": 39,
    "start_time": "2023-09-08T12:26:28.696Z"
   },
   {
    "duration": 25,
    "start_time": "2023-09-08T12:26:28.737Z"
   },
   {
    "duration": 107,
    "start_time": "2023-09-08T12:26:28.764Z"
   },
   {
    "duration": 17,
    "start_time": "2023-09-08T12:26:28.872Z"
   },
   {
    "duration": 20,
    "start_time": "2023-09-08T12:26:28.891Z"
   },
   {
    "duration": 11,
    "start_time": "2023-09-08T12:26:28.913Z"
   },
   {
    "duration": 28,
    "start_time": "2023-09-08T12:26:28.925Z"
   },
   {
    "duration": 365,
    "start_time": "2023-09-08T12:26:28.955Z"
   },
   {
    "duration": 13,
    "start_time": "2023-09-08T12:26:29.322Z"
   },
   {
    "duration": 30,
    "start_time": "2023-09-08T12:26:29.339Z"
   },
   {
    "duration": 54,
    "start_time": "2023-09-08T12:26:29.371Z"
   },
   {
    "duration": 5,
    "start_time": "2023-09-08T12:26:29.426Z"
   },
   {
    "duration": 16,
    "start_time": "2023-09-08T12:26:29.432Z"
   },
   {
    "duration": 118,
    "start_time": "2023-09-08T12:26:29.449Z"
   },
   {
    "duration": 192,
    "start_time": "2023-09-08T12:26:29.568Z"
   },
   {
    "duration": 11,
    "start_time": "2023-09-08T12:26:29.762Z"
   },
   {
    "duration": 8,
    "start_time": "2023-09-08T12:26:29.775Z"
   },
   {
    "duration": 127,
    "start_time": "2023-09-08T12:26:29.785Z"
   },
   {
    "duration": 797,
    "start_time": "2023-09-08T12:26:29.914Z"
   },
   {
    "duration": 10,
    "start_time": "2023-09-08T12:26:30.713Z"
   },
   {
    "duration": 33,
    "start_time": "2023-09-08T12:26:30.724Z"
   },
   {
    "duration": 130,
    "start_time": "2023-09-08T12:26:30.759Z"
   },
   {
    "duration": 193,
    "start_time": "2023-09-08T12:26:30.891Z"
   },
   {
    "duration": 9,
    "start_time": "2023-09-08T12:26:31.086Z"
   },
   {
    "duration": 48,
    "start_time": "2023-09-08T12:26:31.096Z"
   },
   {
    "duration": 148,
    "start_time": "2023-09-08T12:26:31.146Z"
   },
   {
    "duration": 1177,
    "start_time": "2023-09-08T12:26:31.296Z"
   },
   {
    "duration": 13,
    "start_time": "2023-09-08T12:26:32.475Z"
   },
   {
    "duration": 34,
    "start_time": "2023-09-08T12:26:32.491Z"
   },
   {
    "duration": 171,
    "start_time": "2023-09-08T12:26:32.528Z"
   },
   {
    "duration": 183,
    "start_time": "2023-09-08T12:26:32.701Z"
   },
   {
    "duration": 32,
    "start_time": "2023-09-08T12:26:32.885Z"
   },
   {
    "duration": 46,
    "start_time": "2023-09-08T12:26:32.919Z"
   },
   {
    "duration": 4,
    "start_time": "2023-09-08T12:26:32.967Z"
   },
   {
    "duration": 10,
    "start_time": "2023-09-08T12:26:32.973Z"
   },
   {
    "duration": 19,
    "start_time": "2023-09-08T12:26:32.984Z"
   },
   {
    "duration": 1287,
    "start_time": "2023-09-08T12:26:33.004Z"
   },
   {
    "duration": 607,
    "start_time": "2023-09-08T12:26:34.293Z"
   },
   {
    "duration": 34,
    "start_time": "2023-09-08T12:26:34.909Z"
   },
   {
    "duration": 1710,
    "start_time": "2023-09-08T12:26:34.944Z"
   },
   {
    "duration": 0,
    "start_time": "2023-09-08T12:26:36.656Z"
   },
   {
    "duration": 0,
    "start_time": "2023-09-08T12:26:36.658Z"
   },
   {
    "duration": 0,
    "start_time": "2023-09-08T12:26:36.659Z"
   },
   {
    "duration": 0,
    "start_time": "2023-09-08T12:26:36.661Z"
   },
   {
    "duration": 0,
    "start_time": "2023-09-08T12:26:36.662Z"
   },
   {
    "duration": 0,
    "start_time": "2023-09-08T12:26:36.663Z"
   },
   {
    "duration": 0,
    "start_time": "2023-09-08T12:26:36.665Z"
   },
   {
    "duration": 0,
    "start_time": "2023-09-08T12:26:36.666Z"
   },
   {
    "duration": 1435,
    "start_time": "2023-09-08T12:26:48.537Z"
   },
   {
    "duration": 1555,
    "start_time": "2023-09-08T12:26:55.627Z"
   },
   {
    "duration": 47,
    "start_time": "2023-09-08T12:27:39.076Z"
   },
   {
    "duration": 166,
    "start_time": "2023-09-08T12:27:41.750Z"
   },
   {
    "duration": 8,
    "start_time": "2023-09-08T12:27:45.151Z"
   },
   {
    "duration": 23,
    "start_time": "2023-09-08T12:27:47.657Z"
   },
   {
    "duration": 121,
    "start_time": "2023-09-08T12:27:48.541Z"
   },
   {
    "duration": 121,
    "start_time": "2023-09-08T12:27:48.759Z"
   },
   {
    "duration": 102,
    "start_time": "2023-09-08T12:27:49.494Z"
   },
   {
    "duration": 121,
    "start_time": "2023-09-08T12:27:49.877Z"
   },
   {
    "duration": 79,
    "start_time": "2023-09-08T12:27:50.084Z"
   },
   {
    "duration": 1370,
    "start_time": "2024-10-01T06:28:38.632Z"
   },
   {
    "duration": 1545,
    "start_time": "2024-10-01T06:28:40.004Z"
   },
   {
    "duration": 7,
    "start_time": "2024-10-01T06:28:41.550Z"
   },
   {
    "duration": 35,
    "start_time": "2024-10-01T06:28:41.559Z"
   },
   {
    "duration": 18,
    "start_time": "2024-10-01T06:28:41.595Z"
   },
   {
    "duration": 18,
    "start_time": "2024-10-01T06:28:41.614Z"
   },
   {
    "duration": 83,
    "start_time": "2024-10-01T06:28:41.634Z"
   },
   {
    "duration": 3,
    "start_time": "2024-10-01T06:28:41.718Z"
   },
   {
    "duration": 23,
    "start_time": "2024-10-01T06:28:41.723Z"
   },
   {
    "duration": 18,
    "start_time": "2024-10-01T06:28:41.749Z"
   },
   {
    "duration": 24,
    "start_time": "2024-10-01T06:28:41.768Z"
   },
   {
    "duration": 19,
    "start_time": "2024-10-01T06:28:41.793Z"
   },
   {
    "duration": 147,
    "start_time": "2024-10-01T06:28:41.813Z"
   },
   {
    "duration": 46,
    "start_time": "2024-10-01T06:28:41.962Z"
   },
   {
    "duration": 44,
    "start_time": "2024-10-01T06:28:42.009Z"
   },
   {
    "duration": 166,
    "start_time": "2024-10-01T06:28:42.054Z"
   },
   {
    "duration": 113,
    "start_time": "2024-10-01T06:28:42.222Z"
   },
   {
    "duration": 6,
    "start_time": "2024-10-01T06:28:42.336Z"
   },
   {
    "duration": 55,
    "start_time": "2024-10-01T06:28:42.343Z"
   },
   {
    "duration": 20,
    "start_time": "2024-10-01T06:28:42.400Z"
   },
   {
    "duration": 72,
    "start_time": "2024-10-01T06:28:42.422Z"
   },
   {
    "duration": 15,
    "start_time": "2024-10-01T06:28:42.495Z"
   },
   {
    "duration": 52,
    "start_time": "2024-10-01T06:28:42.512Z"
   },
   {
    "duration": 20,
    "start_time": "2024-10-01T06:28:42.565Z"
   },
   {
    "duration": 82,
    "start_time": "2024-10-01T06:28:42.587Z"
   },
   {
    "duration": 382,
    "start_time": "2024-10-01T06:28:42.671Z"
   },
   {
    "duration": 9,
    "start_time": "2024-10-01T06:28:43.054Z"
   },
   {
    "duration": 70,
    "start_time": "2024-10-01T06:28:43.066Z"
   },
   {
    "duration": 93,
    "start_time": "2024-10-01T06:28:43.138Z"
   },
   {
    "duration": 34,
    "start_time": "2024-10-01T06:28:43.233Z"
   },
   {
    "duration": 55,
    "start_time": "2024-10-01T06:28:43.268Z"
   },
   {
    "duration": 111,
    "start_time": "2024-10-01T06:28:43.324Z"
   },
   {
    "duration": 160,
    "start_time": "2024-10-01T06:28:43.436Z"
   },
   {
    "duration": 15,
    "start_time": "2024-10-01T06:28:43.598Z"
   },
   {
    "duration": 40,
    "start_time": "2024-10-01T06:28:43.614Z"
   },
   {
    "duration": 87,
    "start_time": "2024-10-01T06:28:43.655Z"
   },
   {
    "duration": 615,
    "start_time": "2024-10-01T06:28:43.743Z"
   },
   {
    "duration": 7,
    "start_time": "2024-10-01T06:28:44.360Z"
   },
   {
    "duration": 25,
    "start_time": "2024-10-01T06:28:44.369Z"
   },
   {
    "duration": 84,
    "start_time": "2024-10-01T06:28:44.395Z"
   },
   {
    "duration": 140,
    "start_time": "2024-10-01T06:28:44.481Z"
   },
   {
    "duration": 7,
    "start_time": "2024-10-01T06:28:44.623Z"
   },
   {
    "duration": 22,
    "start_time": "2024-10-01T06:28:44.632Z"
   },
   {
    "duration": 113,
    "start_time": "2024-10-01T06:28:44.656Z"
   },
   {
    "duration": 834,
    "start_time": "2024-10-01T06:28:44.770Z"
   },
   {
    "duration": 7,
    "start_time": "2024-10-01T06:28:45.607Z"
   },
   {
    "duration": 83,
    "start_time": "2024-10-01T06:28:45.615Z"
   },
   {
    "duration": 130,
    "start_time": "2024-10-01T06:28:45.700Z"
   },
   {
    "duration": 178,
    "start_time": "2024-10-01T06:28:45.831Z"
   },
   {
    "duration": 20,
    "start_time": "2024-10-01T06:28:46.010Z"
   },
   {
    "duration": 66,
    "start_time": "2024-10-01T06:28:46.032Z"
   },
   {
    "duration": 20,
    "start_time": "2024-10-01T06:28:46.100Z"
   },
   {
    "duration": 4,
    "start_time": "2024-10-01T06:28:46.122Z"
   },
   {
    "duration": 13,
    "start_time": "2024-10-01T06:28:46.127Z"
   },
   {
    "duration": 1096,
    "start_time": "2024-10-01T06:28:46.142Z"
   },
   {
    "duration": 542,
    "start_time": "2024-10-01T06:28:47.239Z"
   },
   {
    "duration": 35,
    "start_time": "2024-10-01T06:28:47.782Z"
   },
   {
    "duration": 128,
    "start_time": "2024-10-01T06:28:47.818Z"
   },
   {
    "duration": 153,
    "start_time": "2024-10-01T06:28:47.948Z"
   },
   {
    "duration": 8,
    "start_time": "2024-10-01T06:28:48.102Z"
   },
   {
    "duration": 33,
    "start_time": "2024-10-01T06:28:48.112Z"
   },
   {
    "duration": 77,
    "start_time": "2024-10-01T06:28:48.146Z"
   },
   {
    "duration": 91,
    "start_time": "2024-10-01T06:28:48.225Z"
   },
   {
    "duration": 90,
    "start_time": "2024-10-01T06:28:48.318Z"
   },
   {
    "duration": 101,
    "start_time": "2024-10-01T06:28:48.409Z"
   },
   {
    "duration": 51,
    "start_time": "2024-10-01T06:28:48.511Z"
   }
  ],
  "kernelspec": {
   "display_name": "Python 3 (ipykernel)",
   "language": "python",
   "name": "python3"
  },
  "language_info": {
   "codemirror_mode": {
    "name": "ipython",
    "version": 3
   },
   "file_extension": ".py",
   "mimetype": "text/x-python",
   "name": "python",
   "nbconvert_exporter": "python",
   "pygments_lexer": "ipython3",
   "version": "3.11.7"
  },
  "toc": {
   "base_numbering": 1,
   "nav_menu": {},
   "number_sections": true,
   "sideBar": true,
   "skip_h1_title": true,
   "title_cell": "Table of Contents",
   "title_sidebar": "Contents",
   "toc_cell": false,
   "toc_position": {},
   "toc_section_display": true,
   "toc_window_display": false
  }
 },
 "nbformat": 4,
 "nbformat_minor": 2
}
